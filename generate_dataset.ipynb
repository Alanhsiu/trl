{
 "cells": [
  {
   "cell_type": "code",
   "execution_count": 1,
   "metadata": {},
   "outputs": [
    {
     "name": "stderr",
     "output_type": "stream",
     "text": [
      "/home/b0990106x/miniconda3/envs/trl/lib/python3.10/site-packages/tqdm/auto.py:21: TqdmWarning: IProgress not found. Please update jupyter and ipywidgets. See https://ipywidgets.readthedocs.io/en/stable/user_install.html\n",
      "  from .autonotebook import tqdm as notebook_tqdm\n",
      "/home/b0990106x/miniconda3/envs/trl/lib/python3.10/site-packages/huggingface_hub/file_download.py:1132: FutureWarning: `resume_download` is deprecated and will be removed in version 1.0.0. Downloads always resume when possible. If you want to force a new download, use `force_download=True`.\n",
      "  warnings.warn(\n"
     ]
    },
    {
     "data": {
      "text/plain": [
       "BartForConditionalGeneration(\n",
       "  (model): BartModel(\n",
       "    (shared): Embedding(59481, 768, padding_idx=1)\n",
       "    (encoder): BartEncoder(\n",
       "      (embed_tokens): Embedding(59481, 768, padding_idx=1)\n",
       "      (embed_positions): BartLearnedPositionalEmbedding(1026, 768)\n",
       "      (layers): ModuleList(\n",
       "        (0-5): 6 x BartEncoderLayer(\n",
       "          (self_attn): BartAttention(\n",
       "            (k_proj): Linear(in_features=768, out_features=768, bias=True)\n",
       "            (v_proj): Linear(in_features=768, out_features=768, bias=True)\n",
       "            (q_proj): Linear(in_features=768, out_features=768, bias=True)\n",
       "            (out_proj): Linear(in_features=768, out_features=768, bias=True)\n",
       "          )\n",
       "          (self_attn_layer_norm): LayerNorm((768,), eps=1e-05, elementwise_affine=True)\n",
       "          (activation_fn): GELUActivation()\n",
       "          (fc1): Linear(in_features=768, out_features=3072, bias=True)\n",
       "          (fc2): Linear(in_features=3072, out_features=768, bias=True)\n",
       "          (final_layer_norm): LayerNorm((768,), eps=1e-05, elementwise_affine=True)\n",
       "        )\n",
       "      )\n",
       "      (layernorm_embedding): LayerNorm((768,), eps=1e-05, elementwise_affine=True)\n",
       "    )\n",
       "    (decoder): BartDecoder(\n",
       "      (embed_tokens): Embedding(59481, 768, padding_idx=1)\n",
       "      (embed_positions): BartLearnedPositionalEmbedding(1026, 768)\n",
       "      (layers): ModuleList(\n",
       "        (0-5): 6 x BartDecoderLayer(\n",
       "          (self_attn): BartAttention(\n",
       "            (k_proj): Linear(in_features=768, out_features=768, bias=True)\n",
       "            (v_proj): Linear(in_features=768, out_features=768, bias=True)\n",
       "            (q_proj): Linear(in_features=768, out_features=768, bias=True)\n",
       "            (out_proj): Linear(in_features=768, out_features=768, bias=True)\n",
       "          )\n",
       "          (activation_fn): GELUActivation()\n",
       "          (self_attn_layer_norm): LayerNorm((768,), eps=1e-05, elementwise_affine=True)\n",
       "          (encoder_attn): BartAttention(\n",
       "            (k_proj): Linear(in_features=768, out_features=768, bias=True)\n",
       "            (v_proj): Linear(in_features=768, out_features=768, bias=True)\n",
       "            (q_proj): Linear(in_features=768, out_features=768, bias=True)\n",
       "            (out_proj): Linear(in_features=768, out_features=768, bias=True)\n",
       "          )\n",
       "          (encoder_attn_layer_norm): LayerNorm((768,), eps=1e-05, elementwise_affine=True)\n",
       "          (fc1): Linear(in_features=768, out_features=3072, bias=True)\n",
       "          (fc2): Linear(in_features=3072, out_features=768, bias=True)\n",
       "          (final_layer_norm): LayerNorm((768,), eps=1e-05, elementwise_affine=True)\n",
       "        )\n",
       "      )\n",
       "      (layernorm_embedding): LayerNorm((768,), eps=1e-05, elementwise_affine=True)\n",
       "    )\n",
       "  )\n",
       "  (lm_head): Linear(in_features=768, out_features=59481, bias=False)\n",
       ")"
      ]
     },
     "execution_count": 1,
     "metadata": {},
     "output_type": "execute_result"
    }
   ],
   "source": [
    "import torch\n",
    "from datasets import load_from_disk\n",
    "from vc.encodec_model.nar_bart_model import NARBartForConditionalGeneration\n",
    "from vc.trainer_encodec_vc_inference import pack_inputs_v2, get_ar_prediction_v2\n",
    "from transformers import AutoTokenizer, BartForConditionalGeneration\n",
    "\n",
    "# load the model\n",
    "ar_checkpoint = \"lca0503/speech-chatgpt-base-ar-v2-epoch10-wotrans\"\n",
    "nar_checkpoint = \"lca0503/speech-chatgpt-base-nar-v2-epoch4-wotrans\"\n",
    "\n",
    "device = \"cuda\" if torch.cuda.is_available() else \"cpu\"\n",
    "ar_tokenizer = AutoTokenizer.from_pretrained(ar_checkpoint)\n",
    "ar_model = BartForConditionalGeneration.from_pretrained(ar_checkpoint)\n",
    "nar_tokenizer = AutoTokenizer.from_pretrained(nar_checkpoint)\n",
    "nar_model = NARBartForConditionalGeneration.from_pretrained(nar_checkpoint)\n",
    "ar_model.to(device)"
   ]
  },
  {
   "cell_type": "code",
   "execution_count": 2,
   "metadata": {},
   "outputs": [
    {
     "name": "stdout",
     "output_type": "stream",
     "text": [
      "timestamp: 0619-2002\n"
     ]
    }
   ],
   "source": [
    "from datetime import datetime\n",
    "import os\n",
    "\n",
    "now = datetime.now()\n",
    "ts = now.strftime(\"%m%d-%H%M\")\n",
    "print(\"timestamp:\", ts)\n",
    "\n",
    "# define the path\n",
    "base_path = \"/work/b0990106x/trl\"\n",
    "agent_input_dir = f\"{base_path}/data-encodec\"\n",
    "agent_output_dir = f\"{base_path}/output/{ts}\""
   ]
  },
  {
   "cell_type": "code",
   "execution_count": 3,
   "metadata": {},
   "outputs": [],
   "source": [
    "# load the dataset\n",
    "dataset = load_from_disk(agent_input_dir)\n"
   ]
  },
  {
   "cell_type": "code",
   "execution_count": 4,
   "metadata": {},
   "outputs": [
    {
     "name": "stdout",
     "output_type": "stream",
     "text": [
      "Dataset({\n",
      "    features: ['file_id', 'instruction', 'transcription', 'src_encodec_0', 'src_encodec_1', 'src_encodec_2', 'src_encodec_3', 'src_encodec_4', 'src_encodec_5', 'src_encodec_6', 'src_encodec_7', 'tgt_encodec_0', 'tgt_encodec_1', 'tgt_encodec_2', 'tgt_encodec_3', 'tgt_encodec_4', 'tgt_encodec_5', 'tgt_encodec_6', 'tgt_encodec_7'],\n",
      "    num_rows: 9957\n",
      "})\n",
      "data_len: 9957\n"
     ]
    }
   ],
   "source": [
    "print(dataset)\n",
    "data_len = len(dataset)\n",
    "print(\"data_len:\", data_len)\n"
   ]
  },
  {
   "cell_type": "code",
   "execution_count": 5,
   "metadata": {},
   "outputs": [],
   "source": [
    "import json\n",
    "import sys\n",
    "from types import SimpleNamespace\n",
    "sys.path.append(\"/work/b0990106x/trl/vc\") \n",
    "from vc.trainer_encodec_vc_inference import get_ar_prediction_v2, get_ar_prediction, get_ar_prediction_for_data\n",
    "from tqdm import tqdm  # Import tqdm for progress bars\n",
    "\n",
    "# Assuming `pack_inputs_v2` and `ar_tokenizer` are already defined\n",
    "\n",
    "observation_list = []\n",
    "decode_obs_input_str = []\n",
    "all_src_encodec_layers = []\n",
    "\n",
    "all_src_encodec = []\n",
    "all_instruction = []\n",
    "all_tgt_encodec = []\n",
    "\n",
    "all_tgt_encodec_layers = []\n",
    "layer_len = 8\n",
    "\n",
    "for i in range(layer_len):\n",
    "    all_src_encodec_layers.append(dataset[f\"src_encodec_{i}\"])\n",
    "    all_tgt_encodec_layers.append(dataset[f\"tgt_encodec_{i}\"])\n",
    "\n",
    "for i in range(data_len):\n",
    "    src_encodec = []\n",
    "    tgt_encodec = []\n",
    "    for j in range(layer_len):\n",
    "        src_encodec.append(all_src_encodec_layers[j][i])\n",
    "        tgt_encodec.append(all_tgt_encodec_layers[j][i])\n",
    "    all_src_encodec.append(src_encodec)\n",
    "    all_tgt_encodec.append(tgt_encodec)\n",
    "    all_instruction.append(dataset[\"instruction\"][i])\n",
    "\n",
    "    \n",
    "    size_of_packed_input = (len(all_src_encodec[i][0]) + len(ar_tokenizer(all_instruction[i])[\"input_ids\"][1:-1]) + 3)\n",
    "    # print(\"size_of_packed_input:\", size_of_packed_input)\n",
    "    if size_of_packed_input <= 1024 or size_of_packed_input < 4:\n",
    "        observation_list.append(\n",
    "            {\n",
    "                \"input\": \"\",\n",
    "                \"src_encodec\": [all_src_encodec_layers[j][i] for j in range(layer_len)],\n",
    "                \"instruction\": all_instruction[i],\n",
    "                \"tgt_encodec\": [all_tgt_encodec_layers[j][i] for j in range(layer_len)],\n",
    "            }\n",
    "        )\n",
    "    else:\n",
    "        print(f\"Notice: Packed input size too large for processing: {size_of_packed_input} elements. Instruction: '{all_instruction[i]}'\")\n"
   ]
  },
  {
   "cell_type": "code",
   "execution_count": 6,
   "metadata": {},
   "outputs": [],
   "source": [
    "from NISQA.nisqa.NISQA_model import nisqaModel\n",
    "# Function to calculate reward\n",
    "def get_reward(output_path):\n",
    "    args_nisqa = {\n",
    "        \"mode\": \"predict_file\",\n",
    "        \"pretrained_model\": f\"{base_path}/NISQA/weights/nisqa.tar\",\n",
    "        \"deg\": output_path,\n",
    "        \"data_dir\": None,\n",
    "        \"output_dir\": f\"{base_path}/NISQA/result/\",\n",
    "        \"csv_file\": None,\n",
    "        \"csv_deg\": None,\n",
    "        \"num_workers\": 0,\n",
    "        \"bs\": 1,\n",
    "        \"ms_channel\": None,\n",
    "    }\n",
    "    args_nisqa[\"tr_bs_val\"] = args_nisqa[\"bs\"]\n",
    "    args_nisqa[\"tr_num_workers\"] = args_nisqa[\"num_workers\"]\n",
    "    nisqa = nisqaModel(args_nisqa)\n",
    "    try:\n",
    "        prediction = nisqa.predict()\n",
    "        reward = float(prediction[\"mos_pred\"].iloc[0])\n",
    "        print(\"Reward:\", reward)\n",
    "        return reward\n",
    "    except Exception as e:\n",
    "        print(\"Error:\", e)\n",
    "        print(\"get_reward function end ___________________________\")\n",
    "        return None\n"
   ]
  },
  {
   "cell_type": "code",
   "execution_count": 7,
   "metadata": {},
   "outputs": [
    {
     "name": "stderr",
     "output_type": "stream",
     "text": [
      "Processing observations:   0%|          | 0/3 [00:00<?, ?it/s]"
     ]
    },
    {
     "name": "stdout",
     "output_type": "stream",
     "text": [
      "tokenize_tgt_encodec: v_tok_408v_tok_835v_tok_835v_tok_798v_tok_585v_tok_550v_tok_535v_tok_535v_tok_737v_tok_737v_tok_377v_tok_556v_tok_601v_tok_787v_tok_8v_tok_99v_tok_411v_tok_411v_tok_378v_tok_937v_tok_378v_tok_937v_tok_804v_tok_838v_tok_890v_tok_934v_tok_47v_tok_438v_tok_438v_tok_731v_tok_738v_tok_133v_tok_709v_tok_479v_tok_479v_tok_479v_tok_151v_tok_940v_tok_502v_tok_906v_tok_407v_tok_645v_tok_70v_tok_208v_tok_537v_tok_537v_tok_1022v_tok_681v_tok_723v_tok_747v_tok_593v_tok_804v_tok_681v_tok_879v_tok_136v_tok_967v_tok_233v_tok_431v_tok_754v_tok_421v_tok_182v_tok_182v_tok_651v_tok_879v_tok_887v_tok_819v_tok_904v_tok_904v_tok_887v_tok_309v_tok_880v_tok_396v_tok_754v_tok_775v_tok_997v_tok_222v_tok_336v_tok_548v_tok_841v_tok_269v_tok_479v_tok_479v_tok_940v_tok_23v_tok_56v_tok_738v_tok_835v_tok_395v_tok_206v_tok_779v_tok_531v_tok_862v_tok_931v_tok_306v_tok_203v_tok_755v_tok_369v_tok_6v_tok_466v_tok_716v_tok_948v_tok_82v_tok_575v_tok_288v_tok_556v_tok_903v_tok_556v_tok_392v_tok_796v_tok_751v_tok_835v_tok_103v_tok_25v_tok_408v_tok_835v_tok_835v_tok_339v_tok_339v_tok_395v_tok_250v_tok_706v_tok_317v_tok_479v_tok_800v_tok_960v_tok_141v_tok_479v_tok_908v_tok_801v_tok_327v_tok_937v_tok_559v_tok_708v_tok_372v_tok_372v_tok_573v_tok_437v_tok_437v_tok_421v_tok_203v_tok_739v_tok_830v_tok_739v_tok_358v_tok_830v_tok_248v_tok_411v_tok_411v_tok_112v_tok_321v_tok_23v_tok_23v_tok_185v_tok_971v_tok_62v_tok_339v_tok_461v_tok_488v_tok_934v_tok_148v_tok_373v_tok_561v_tok_681v_tok_760v_tok_531v_tok_612v_tok_699v_tok_23v_tok_967v_tok_457v_tok_790v_tok_154v_tok_906v_tok_465v_tok_502v_tok_884v_tok_479v_tok_246v_tok_820v_tok_601v_tok_309v_tok_716v_tok_314v_tok_377v_tok_309v_tok_309v_tok_556v_tok_118v_tok_99v_tok_358v_tok_1018v_tok_862v_tok_779v_tok_62v_tok_835v_tok_25v_tok_254v_tok_254v_tok_677v_tok_73v_tok_143v_tok_696v_tok_696v_tok_321v_tok_879v_tok_23v_tok_224v_tok_523v_tok_23v_tok_835v_tok_835v_tok_835v_tok_339v_tok_59v_tok_257v_tok_819v_tok_472v_tok_835v_tok_835v_tok_835v_tok_339v_tok_835v_tok_835v_tok_339v_tok_339v_tok_428v_tok_982v_tok_869v_tok_270v_tok_435v_tok_283v_tok_804v_tok_976v_tok_875v_tok_598v_tok_353v_tok_860v_tok_409v_tok_411v_tok_601v_tok_650v_tok_495v_tok_62v_tok_835v_tok_835v_tok_141v_tok_948v_tok_82v_tok_414v_tok_658v_tok_321v_tok_224v_tok_321v_tok_931v_tok_3v_tok_99v_tok_8v_tok_220v_tok_775v_tok_739v_tok_870v_tok_830v_tok_739v_tok_830v_tok_695v_tok_695v_tok_704v_tok_208v_tok_860v_tok_1001v_tok_982v_tok_240v_tok_593v_tok_830v_tok_411v_tok_63v_tok_855v_tok_1017v_tok_835v_tok_835v_tok_430v_tok_339v_tok_339v_tok_339v_tok_254v_tok_254v_tok_38v_tok_677v_tok_73v_tok_868v_tok_598v_tok_563v_tok_890v_tok_598v_tok_224v_tok_598v_tok_676v_tok_860v_tok_635v_tok_310v_tok_208v_tok_224v_tok_676v_tok_491v_tok_321v_tok_699v_tok_136v_tok_432v_tok_1019v_tok_475v_tok_537v_tok_176v_tok_176v_tok_436v_tok_373v_tok_160v_tok_709v_tok_339v_tok_339v_tok_339v_tok_339v_tok_475v_tok_537v_tok_1017v_tok_835v_tok_835v_tok_835v_tok_395v_tok_835v_tok_835v_tok_798v_tok_585v_tok_340v_tok_535v_tok_535v_tok_737v_tok_737v_tok_634v_tok_556v_tok_601v_tok_787v_tok_8v_tok_99v_tok_411v_tok_411v_tok_411v_tok_937v_tok_378v_tok_937v_tok_804v_tok_385v_tok_890v_tok_438v_tok_47v_tok_438v_tok_438v_tok_731v_tok_738v_tok_133v_tok_709v_tok_479v_tok_479v_tok_502v_tok_151v_tok_940v_tok_502v_tok_906v_tok_407v_tok_645v_tok_385v_tok_208v_tok_537v_tok_537v_tok_1022v_tok_681v_tok_723v_tok_747v_tok_593v_tok_804v_tok_681v_tok_879v_tok_136v_tok_967v_tok_233v_tok_431v_tok_754v_tok_248v_tok_182v_tok_182v_tok_651v_tok_879v_tok_887v_tok_887v_tok_904v_tok_887v_tok_904v_tok_309v_tok_880v_tok_396v_tok_754v_tok_941v_tok_739v_tok_358v_tok_336v_tok_548v_tok_261v_tok_222v_tok_479v_tok_479v_tok_940v_tok_916v_tok_56v_tok_738v_tok_835v_tok_395v_tok_206v_tok_779v_tok_531v_tok_862v_tok_931v_tok_182v_tok_203v_tok_755v_tok_369v_tok_6v_tok_466v_tok_362v_tok_948v_tok_82v_tok_575v_tok_288v_tok_556v_tok_903v_tok_556v_tok_392v_tok_796v_tok_751v_tok_835v_tok_103v_tok_25v_tok_408v_tok_835v_tok_835v_tok_339v_tok_339v_tok_819v_tok_250v_tok_479v_tok_317v_tok_479v_tok_800v_tok_141v_tok_141v_tok_141v_tok_908v_tok_801v_tok_327v_tok_327v_tok_559v_tok_708v_tok_573v_tok_372v_tok_573v_tok_162v_tok_437v_tok_421v_tok_203v_tok_739v_tok_870v_tok_739v_tok_358v_tok_437v_tok_248v_tok_411v_tok_411v_tok_112v_tok_321v_tok_23v_tok_523v_tok_185v_tok_971v_tok_62v_tok_339v_tok_461v_tok_38v_tok_934v_tok_148v_tok_373v_tok_561v_tok_681v_tok_760v_tok_531v_tok_949v_tok_699v_tok_23v_tok_967v_tok_457v_tok_790v_tok_154v_tok_906v_tok_465v_tok_502v_tok_884v_tok_59v_tok_59v_tok_820v_tok_601v_tok_309v_tok_716v_tok_314v_tok_377v_tok_309v_tok_309v_tok_556v_tok_118v_tok_99v_tok_358v_tok_1018v_tok_862v_tok_779v_tok_62v_tok_835v_tok_25v_tok_254v_tok_254v_tok_677v_tok_887v_tok_143v_tok_696v_tok_696v_tok_321v_tok_879v_tok_666v_tok_860v_tok_523v_tok_23v_tok_835v_tok_835v_tok_835v_tok_339v_tok_59v_tok_904v_tok_819v_tok_472v_tok_835v_tok_835v_tok_835v_tok_339v_tok_835v_tok_339v_tok_339v_tok_475v_tok_428v_tok_982v_tok_869v_tok_846v_tok_601v_tok_248v_tok_531v_tok_976v_tok_875v_tok_598v_tok_530v_tok_860v_tok_409v_tok_411v_tok_601v_tok_650v_tok_495v_tok_62v_tok_339v_tok_835v_tok_671v_tok_948v_tok_82v_tok_414v_tok_658v_tok_321v_tok_224v_tok_321v_tok_931v_tok_3v_tok_99v_tok_8v_tok_220v_tok_775v_tok_739v_tok_870v_tok_830v_tok_739v_tok_830v_tok_695v_tok_695v_tok_704v_tok_208v_tok_860v_tok_1001v_tok_982v_tok_240v_tok_593v_tok_830v_tok_411v_tok_63v_tok_56v_tok_1017v_tok_339v_tok_339v_tok_430v_tok_339v_tok_339v_tok_339v_tok_254v_tok_254v_tok_38v_tok_677v_tok_73v_tok_868v_tok_598v_tok_563v_tok_890v_tok_598v_tok_224v_tok_598v_tok_875v_tok_860v_tok_635v_tok_310v_tok_208v_tok_224v_tok_676v_tok_491v_tok_321v_tok_699v_tok_136v_tok_699v_tok_1019v_tok_475v_tok_537v_tok_176v_tok_176v_tok_436v_tok_373v_tok_160v_tok_709v_tok_463v_tok_339v_tok_339v_tok_339v_tok_475v_tok_537v_tok_1017v_tok_835v_tok_835v_tok_835\n"
     ]
    },
    {
     "name": "stderr",
     "output_type": "stream",
     "text": [
      "Processing observations:  33%|███▎      | 1/3 [00:04<00:09,  4.60s/it]"
     ]
    },
    {
     "name": "stdout",
     "output_type": "stream",
     "text": [
      "tokenize_tgt_encodec: v_tok_408v_tok_835v_tok_835v_tok_126v_tok_276v_tok_677v_tok_666v_tok_460v_tok_996v_tok_682v_tok_924v_tok_448v_tok_816v_tok_704v_tok_976v_tok_855v_tok_347v_tok_1021v_tok_552v_tok_301v_tok_301v_tok_448v_tok_186v_tok_611v_tok_574v_tok_438v_tok_438v_tok_133v_tok_430v_tok_856v_tok_877v_tok_800v_tok_830v_tok_997v_tok_997v_tok_358v_tok_850v_tok_233v_tok_233v_tok_846v_tok_951v_tok_666v_tok_62v_tok_62v_tok_834v_tok_835v_tok_63v_tok_602v_tok_887v_tok_935v_tok_339v_tok_834v_tok_430v_tok_835v_tok_492v_tok_699v_tok_462v_tok_465v_tok_1018v_tok_642v_tok_143v_tok_953v_tok_424v_tok_598v_tok_860v_tok_724v_tok_999v_tok_887v_tok_835v_tok_803v_tok_151v_tok_791v_tok_25v_tok_875v_tok_424v_tok_901v_tok_813v_tok_424v_tok_598v_tok_321v_tok_679v_tok_457v_tok_901v_tok_1000v_tok_552v_tok_695v_tok_695v_tok_501v_tok_432v_tok_876v_tok_1019v_tok_910v_tok_839v_tok_261v_tok_481v_tok_481v_tok_695v_tok_695v_tok_51v_tok_162v_tok_904v_tok_865v_tok_629v_tok_62v_tok_835v_tok_835v_tok_372v_tok_764v_tok_74v_tok_982v_tok_922v_tok_835v_tok_25v_tok_25v_tok_408v_tok_258v_tok_38v_tok_747v_tok_754v_tok_926v_tok_984v_tok_387v_tok_358v_tok_880v_tok_437v_tok_358v_tok_941v_tok_358v_tok_387v_tok_739v_tok_870v_tok_387v_tok_793v_tok_387v_tok_348v_tok_688v_tok_348v_tok_392v_tok_613v_tok_385v_tok_185v_tok_23v_tok_62v_tok_835v_tok_411v_tok_157v_tok_865v_tok_835v_tok_835v_tok_835v_tok_388v_tok_564v_tok_372v_tok_627v_tok_984v_tok_437v_tok_437v_tok_754v_tok_437v_tok_421v_tok_754v_tok_573v_tok_813v_tok_465v_tok_407v_tok_588v_tok_588v_tok_956v_tok_612v_tok_782v_tok_862v_tok_136v_tok_255v_tok_651v_tok_136v_tok_502v_tok_317v_tok_317v_tok_915v_tok_1021v_tok_906v_tok_949v_tok_385v_tok_804v_tok_925v_tok_722v_tok_901v_tok_679v_tok_696v_tok_977v_tok_977v_tok_945v_tok_495v_tok_862v_tok_843v_tok_495v_tok_523v_tok_901v_tok_136v_tok_967v_tok_491v_tok_604v_tok_463v_tok_148v_tok_148v_tok_176v_tok_176v_tok_635v_tok_106v_tok_472v_tok_723v_tok_812v_tok_723v_tok_288v_tok_259v_tok_414v_tok_681v_tok_926v_tok_868v_tok_862v_tok_1022v_tok_276v_tok_862v_tok_722v_tok_575v_tok_451v_tok_694v_tok_984v_tok_923v_tok_862v_tok_1022v_tok_23v_tok_666v_tok_1022v_tok_875v_tok_651v_tok_636v_tok_659v_tok_782v_tok_701v_tok_929v_tok_186v_tok_681v_tok_306v_tok_1022v_tok_862v_tok_1022v_tok_875v_tok_1008v_tok_431v_tok_465v_tok_790v_tok_411v_tok_588v_tok_890v_tok_360v_tok_47v_tok_160v_tok_438v_tok_386v_tok_133v_tok_780v_tok_408v_tok_835v_tok_537v_tok_937v_tok_747v_tok_11v_tok_875v_tok_283v_tok_954v_tok_99v_tok_411v_tok_411v_tok_804v_tok_59v_tok_958v_tok_407v_tok_921v_tok_385v_tok_977v_tok_945v_tok_408v_tok_1019v_tok_876v_tok_499v_tok_408v_tok_779v_tok_62v_tok_835v_tok_213v_tok_967v_tok_982v_tok_879v_tok_495v_tok_954v_tok_6v_tok_320v_tok_259v_tok_1022v_tok_780v_tok_408v_tok_777v_tok_573v_tok_259v_tok_378v_tok_645v_tok_901v_tok_901v_tok_23v_tok_523v_tok_321v_tok_224v_tok_432v_tok_62v_tok_835v_tok_835v_tok_276v_tok_126v_tok_835v_tok_835v_tok_835v_tok_835v_tok_835v_tok_835v_tok_835v_tok_835v_tok_835v_tok_835v_tok_835v_tok_475v_tok_835v_tok_835v_tok_835v_tok_835v_tok_835\n"
     ]
    },
    {
     "name": "stderr",
     "output_type": "stream",
     "text": [
      "Processing observations:  67%|██████▋   | 2/3 [00:07<00:03,  3.75s/it]"
     ]
    },
    {
     "name": "stdout",
     "output_type": "stream",
     "text": [
      "tokenize_tgt_encodec: v_tok_408v_tok_835v_tok_339v_tok_339v_tok_604v_tok_324v_tok_230v_tok_600v_tok_771v_tok_422v_tok_846v_tok_747v_tok_457v_tok_393v_tok_833v_tok_782v_tok_411v_tok_411v_tok_479v_tok_1021v_tok_906v_tok_151v_tok_495v_tok_563v_tok_611v_tok_611v_tok_151v_tok_727v_tok_317v_tok_347v_tok_475v_tok_835v_tok_835v_tok_835v_tok_339v_tok_475v_tok_339v_tok_123v_tok_254v_tok_103v_tok_182v_tok_784v_tok_912v_tok_755v_tok_375v_tok_261v_tok_435v_tok_951v_tok_323v_tok_709v_tok_819v_tok_475v_tok_339v_tok_835v_tok_779v_tok_257v_tok_339v_tok_341v_tok_254v_tok_38v_tok_38v_tok_103v_tok_121v_tok_62v_tok_141v_tok_731v_tok_73v_tok_651v_tok_563v_tok_321v_tok_860v_tok_325v_tok_325v_tok_679v_tok_696v_tok_582v_tok_613v_tok_216v_tok_683v_tok_291v_tok_11v_tok_862v_tok_627v_tok_666v_tok_764v_tok_679v_tok_291v_tok_501v_tok_451v_tok_501v_tok_198v_tok_112v_tok_392v_tok_348v_tok_793v_tok_793v_tok_11v_tok_192v_tok_23v_tok_402v_tok_1022v_tok_276v_tok_73v_tok_73v_tok_887v_tok_25v_tok_103v_tok_148v_tok_148v_tok_148v_tok_148v_tok_463v_tok_463v_tok_148v_tok_463v_tok_463v_tok_463v_tok_463v_tok_463v_tok_463v_tok_463v_tok_537v_tok_25v_tok_472v_tok_257v_tok_475v_tok_395v_tok_475v_tok_395v_tok_475v_tok_395\n"
     ]
    },
    {
     "name": "stderr",
     "output_type": "stream",
     "text": [
      "Processing observations: 100%|██████████| 3/3 [00:09<00:00,  3.08s/it]\n"
     ]
    }
   ],
   "source": [
    "# List to hold the 'prompt' values\n",
    "prompts = []\n",
    "chosen = []\n",
    "rejected = []\n",
    "\n",
    "args = SimpleNamespace(output_path=f\"{base_path}/output/{ts}/example.wav\", seed=0, device=device)\n",
    "\n",
    "for obs in tqdm(observation_list, desc=\"Processing observations\"):\n",
    "    # for prompt\n",
    "    obs_input = pack_inputs_v2(ar_tokenizer, obs[\"src_encodec\"], obs[\"instruction\"])\n",
    "    tokenize_input= ar_tokenizer.convert_ids_to_tokens(obs_input)\n",
    "    tokenize_input_str = ar_tokenizer.convert_tokens_to_string(tokenize_input)\n",
    "    prompts.append(tokenize_input_str)\n",
    "    \n",
    "    # for chosen\n",
    "    tgt_encodec = obs[\"tgt_encodec\"]\n",
    "    # tgt_ids = ar_tokenizer.convert_tokens_to_ids([f\"v_tok_{u}\" for u in tgt_encodec[0]])\n",
    "    tokenize_tgt_encodec = ar_tokenizer.convert_tokens_to_string(\n",
    "                [f\"v_tok_{u}\" for u in tgt_encodec[0]]\n",
    "            ) \n",
    "    # tgt_ids = ar_tokenizer(tokenize_tgt_encodec)[\"input_ids\"][1:-1]\n",
    "    # print(\"tokenize_tgt_encodec:\", tokenize_tgt_encodec)   \n",
    "    chosen.append(tokenize_tgt_encodec)\n",
    "\n",
    "    # for rejected\n",
    "    single_src_encodec = obs[\"src_encodec\"]\n",
    "    single_instruction = obs[\"instruction\"]\n",
    "    try:\n",
    "        decode_ar = get_ar_prediction_for_data(args, ar_model, ar_tokenizer, single_src_encodec, single_instruction)\n",
    "    except Exception as e:\n",
    "        print(\"single_src_encodec:\", single_src_encodec)\n",
    "        print(\"single_instruction:\", single_instruction)\n",
    "        print(e)\n",
    "        break\n",
    "    decode_ar_list = decode_ar.flatten().tolist()\n",
    "    filtered_decode_ar_list = decode_ar_list[2:-1]\n",
    "    decode_ar_tokens = ar_tokenizer.convert_ids_to_tokens(filtered_decode_ar_list)\n",
    "    tokenized_decode_ar = ar_tokenizer.convert_tokens_to_string(decode_ar_tokens)\n",
    "    # print(\"tokenized_decode_ar:\", tokenized_decode_ar)\n",
    "    rejected.append(tokenized_decode_ar)\n",
    "\n",
    "    # # TEST REWARD\n",
    "    # args_predict = SimpleNamespace(output_path=f\"{base_path}/output/{ts}/example.wav\", seed=0, device=device)\n",
    "    # temp1 = get_ar_prediction_v2(args_predict, tgt_ids, nar_model, ar_tokenizer, nar_tokenizer, single_src_encodec, single_instruction, 0)\n",
    "    # print(\"GOOD:\")\n",
    "    # get_reward(args_predict.output_path)\n",
    "\n",
    "    # temp2 = get_ar_prediction_v2(args_predict, filtered_decode_ar_list , nar_model, ar_tokenizer, nar_tokenizer, single_src_encodec, single_instruction,2)\n",
    "    # print(\"BAD\")\n",
    "    # get_reward(args_predict.output_path)\n",
    "# Construct the JSON structure\n",
    "data = {\n",
    "    \"prompt\": prompts,\n",
    "    \"chosen\": chosen,  # Placeholder for chosen responses\n",
    "    \"rejected\": rejected  # Placeholder for rejected responses\n",
    "}\n",
    "\n",
    "# Save the JSON to a file\n",
    "with open(\"dpo_data_all_v2.json\", \"w\") as outfile:\n",
    "    json.dump(data, outfile, indent=4)"
   ]
  },
  {
   "cell_type": "code",
   "execution_count": 8,
   "metadata": {},
   "outputs": [
    {
     "name": "stdout",
     "output_type": "stream",
     "text": [
      "single_src_encodec: [[408, 835, 835, 798, 585, 550, 535, 535, 737, 737, 377, 556, 601, 787, 8, 99, 411, 411, 378, 937, 378, 937, 804, 838, 890, 934, 47, 438, 438, 731, 738, 133, 709, 479, 479, 479, 151, 940, 502, 906, 407, 645, 70, 208, 537, 537, 1022, 681, 723, 747, 593, 804, 681, 879, 136, 967, 233, 431, 754, 421, 182, 182, 651, 879, 887, 819, 904, 904, 887, 309, 880, 396, 754, 775, 997, 222, 336, 548, 841, 269, 479, 479, 940, 23, 56, 738, 835, 395, 206, 779, 531, 862, 931, 306, 203, 755, 369, 6, 466, 716, 948, 82, 575, 288, 556, 903, 556, 392, 796, 751, 835, 103, 25, 408, 835, 835, 339, 339, 395, 250, 706, 317, 479, 800, 960, 141, 479, 908, 801, 327, 937, 559, 708, 372, 372, 573, 437, 437, 421, 203, 739, 830, 739, 358, 830, 248, 411, 411, 112, 321, 23, 23, 185, 971, 62, 339, 461, 488, 934, 148, 373, 561, 681, 760, 531, 612, 699, 23, 967, 457, 790, 154, 906, 465, 502, 884, 479, 246, 820, 601, 309, 716, 314, 377, 309, 309, 556, 118, 99, 358, 1018, 862, 779, 62, 835, 25, 254, 254, 677, 73, 143, 696, 696, 321, 879, 23, 224, 523, 23, 835, 835, 835, 339, 59, 257, 819, 472, 835, 835, 835, 339, 835, 835, 339, 339, 428, 982, 869, 270, 435, 283, 804, 976, 875, 598, 353, 860, 409, 411, 601, 650, 495, 62, 835, 835, 141, 948, 82, 414, 658, 321, 224, 321, 931, 3, 99, 8, 220, 775, 739, 870, 830, 739, 830, 695, 695, 704, 208, 860, 1001, 982, 240, 593, 830, 411, 63, 855, 1017, 835, 835, 430, 339, 339, 339, 254, 254, 38, 677, 73, 868, 598, 563, 890, 598, 224, 598, 676, 860, 635, 310, 208, 224, 676, 491, 321, 699, 136, 432, 1019, 475, 537, 176, 176, 436, 373, 160, 709, 339, 339, 339, 339, 475, 537, 1017, 835, 835, 835], [747, 747, 424, 713, 367, 347, 52, 511, 284, 145, 817, 678, 136, 182, 854, 778, 804, 797, 678, 678, 1013, 202, 778, 460, 948, 228, 25, 456, 420, 204, 993, 646, 404, 824, 533, 227, 130, 459, 655, 578, 529, 529, 1002, 302, 809, 700, 504, 320, 245, 714, 650, 592, 228, 998, 406, 987, 31, 31, 392, 657, 595, 79, 79, 79, 928, 836, 200, 200, 700, 866, 118, 689, 139, 779, 149, 69, 238, 182, 847, 166, 512, 484, 750, 879, 14, 114, 544, 200, 781, 268, 4, 460, 961, 269, 281, 269, 486, 634, 511, 879, 836, 879, 76, 211, 118, 666, 884, 380, 327, 322, 1023, 182, 1023, 277, 87, 518, 913, 913, 200, 153, 529, 911, 777, 662, 602, 647, 662, 662, 276, 56, 475, 948, 685, 877, 194, 194, 726, 281, 584, 879, 951, 88, 220, 194, 245, 245, 122, 283, 588, 304, 153, 750, 460, 169, 161, 544, 994, 710, 867, 930, 544, 384, 245, 45, 945, 584, 961, 303, 987, 987, 26, 460, 870, 211, 118, 711, 182, 81, 685, 750, 750, 109, 795, 118, 118, 621, 581, 750, 486, 297, 996, 406, 904, 1023, 1023, 519, 154, 241, 364, 993, 71, 338, 754, 414, 833, 741, 285, 591, 395, 648, 747, 544, 544, 921, 870, 870, 580, 747, 747, 544, 937, 200, 200, 913, 928, 861, 773, 241, 902, 1005, 737, 878, 929, 844, 841, 583, 457, 216, 944, 182, 245, 367, 564, 603, 544, 409, 982, 726, 130, 878, 653, 812, 16, 431, 211, 879, 214, 139, 822, 555, 511, 766, 943, 76, 305, 76, 501, 588, 37, 669, 897, 746, 650, 202, 951, 460, 948, 747, 687, 942, 765, 404, 544, 913, 153, 973, 854, 930, 182, 628, 581, 904, 602, 102, 144, 904, 144, 870, 673, 870, 870, 529, 673, 519, 529, 964, 1023, 229, 200, 1023, 646, 857, 930, 1021, 168, 436, 857, 857, 857, 200, 200, 302, 740, 87, 277, 544, 200], [821, 989, 653, 601, 996, 249, 1006, 999, 462, 351, 254, 895, 589, 901, 286, 623, 629, 717, 389, 573, 901, 227, 227, 908, 133, 463, 160, 890, 1019, 270, 509, 752, 1000, 233, 233, 955, 955, 240, 201, 955, 955, 120, 893, 728, 863, 165, 880, 1019, 908, 23, 497, 728, 280, 58, 225, 603, 386, 161, 43, 912, 912, 390, 219, 872, 426, 1011, 856, 767, 771, 980, 871, 127, 249, 979, 812, 300, 467, 703, 481, 691, 43, 783, 227, 951, 777, 821, 829, 581, 493, 970, 593, 859, 269, 745, 603, 546, 598, 629, 917, 453, 516, 720, 891, 45, 862, 833, 614, 498, 45, 849, 936, 910, 821, 752, 937, 937, 653, 982, 643, 320, 286, 233, 145, 344, 47, 593, 346, 543, 81, 489, 298, 785, 555, 823, 806, 830, 143, 550, 551, 61, 930, 18, 905, 215, 658, 988, 204, 204, 623, 711, 13, 897, 817, 980, 989, 752, 255, 508, 434, 934, 808, 735, 732, 728, 728, 235, 39, 831, 647, 366, 485, 259, 870, 613, 613, 864, 6, 901, 498, 912, 168, 926, 921, 511, 302, 658, 944, 990, 694, 362, 790, 757, 454, 937, 821, 581, 813, 338, 711, 365, 348, 818, 449, 331, 316, 663, 364, 308, 981, 842, 936, 937, 653, 566, 365, 664, 730, 705, 36, 937, 752, 821, 678, 36, 678, 831, 912, 887, 72, 193, 303, 201, 250, 541, 613, 880, 983, 601, 111, 416, 237, 562, 228, 863, 915, 690, 631, 498, 9, 255, 879, 879, 843, 1000, 552, 912, 442, 552, 323, 127, 323, 162, 968, 704, 433, 389, 46, 212, 514, 1000, 246, 955, 762, 19, 484, 581, 551, 316, 414, 829, 937, 863, 752, 653, 260, 816, 813, 934, 326, 601, 145, 541, 598, 875, 364, 842, 863, 1021, 1021, 261, 39, 133, 508, 39, 126, 613, 797, 228, 1000, 480, 705, 432, 970, 1005, 723, 808, 821, 989, 653, 426, 678, 842, 601, 819, 937, 937, 678], [916, 919, 961, 597, 754, 277, 345, 566, 201, 118, 515, 640, 472, 29, 62, 761, 269, 269, 205, 265, 203, 62, 311, 366, 366, 395, 8, 162, 916, 178, 705, 105, 212, 855, 12, 691, 649, 530, 1016, 177, 27, 559, 653, 768, 105, 255, 61, 876, 515, 358, 538, 836, 742, 924, 931, 535, 3, 1001, 815, 405, 104, 657, 534, 361, 1012, 963, 777, 88, 866, 915, 474, 948, 81, 575, 256, 988, 230, 230, 531, 791, 548, 22, 148, 425, 1016, 809, 961, 853, 799, 625, 821, 510, 238, 726, 433, 477, 891, 660, 740, 265, 406, 330, 641, 68, 280, 68, 174, 160, 689, 224, 624, 752, 916, 919, 961, 1022, 741, 741, 651, 724, 282, 282, 1016, 81, 368, 162, 247, 664, 366, 110, 982, 315, 4, 412, 571, 985, 568, 1003, 28, 631, 462, 151, 967, 548, 461, 397, 898, 269, 295, 630, 976, 651, 62, 69, 105, 961, 876, 351, 178, 261, 940, 997, 929, 135, 130, 381, 535, 557, 812, 721, 502, 788, 548, 500, 791, 174, 612, 277, 461, 459, 429, 402, 237, 641, 32, 243, 862, 68, 840, 249, 834, 54, 236, 1018, 780, 74, 200, 87, 983, 510, 283, 958, 503, 211, 907, 958, 924, 200, 157, 686, 74, 673, 762, 675, 675, 926, 1014, 673, 1018, 215, 916, 651, 651, 762, 215, 1014, 835, 457, 282, 110, 827, 151, 364, 776, 941, 765, 1019, 991, 529, 693, 855, 1007, 1014, 651, 919, 526, 476, 981, 360, 902, 889, 961, 529, 766, 405, 802, 899, 143, 654, 409, 409, 654, 695, 51, 882, 709, 802, 426, 119, 734, 218, 329, 174, 1001, 855, 910, 842, 580, 962, 919, 734, 1022, 215, 1018, 874, 675, 651, 571, 79, 688, 876, 431, 571, 940, 79, 714, 171, 875, 49, 734, 659, 209, 1014, 962, 667, 211, 222, 714, 675, 739, 956, 993, 505, 881, 973, 318, 239, 854, 838, 398, 793, 1018, 919, 961, 961, 673, 673], [528, 528, 862, 38, 16, 566, 0, 589, 356, 698, 191, 854, 221, 702, 170, 849, 825, 966, 1021, 772, 1021, 78, 145, 489, 893, 954, 457, 660, 446, 1007, 719, 190, 379, 99, 268, 62, 363, 705, 145, 292, 518, 428, 399, 815, 714, 920, 981, 412, 537, 1022, 859, 29, 1021, 108, 379, 597, 747, 399, 858, 590, 502, 599, 42, 553, 907, 108, 989, 673, 616, 149, 9, 947, 648, 241, 11, 283, 169, 160, 789, 612, 175, 428, 1017, 510, 769, 111, 646, 907, 428, 367, 53, 457, 866, 263, 101, 514, 246, 352, 547, 656, 657, 159, 754, 1006, 1006, 368, 458, 392, 653, 178, 884, 336, 190, 528, 622, 190, 222, 222, 983, 34, 689, 961, 359, 614, 671, 296, 152, 614, 720, 112, 717, 470, 851, 483, 232, 950, 516, 175, 1021, 92, 542, 518, 267, 636, 784, 109, 674, 119, 97, 748, 415, 719, 142, 835, 190, 336, 862, 435, 949, 283, 540, 711, 0, 561, 68, 978, 920, 635, 616, 831, 806, 693, 444, 285, 458, 559, 874, 747, 128, 99, 523, 23, 704, 1001, 562, 947, 289, 845, 471, 398, 234, 901, 939, 528, 211, 211, 907, 373, 432, 966, 877, 680, 336, 388, 3, 963, 357, 725, 894, 882, 407, 528, 446, 235, 749, 131, 379, 884, 622, 407, 222, 407, 622, 222, 222, 818, 261, 821, 9, 579, 982, 423, 604, 413, 742, 311, 1007, 919, 188, 958, 958, 261, 904, 900, 646, 742, 771, 493, 247, 859, 463, 1007, 606, 805, 976, 293, 999, 232, 178, 553, 583, 67, 929, 481, 323, 757, 228, 725, 736, 360, 360, 553, 34, 675, 395, 747, 748, 435, 904, 646, 454, 222, 222, 222, 645, 139, 742, 809, 882, 742, 1019, 421, 188, 953, 680, 379, 990, 472, 211, 379, 951, 379, 416, 749, 885, 379, 714, 382, 1007, 190, 963, 379, 862, 379, 190, 694, 407, 646, 407, 714, 804, 646, 446, 646, 407, 622, 622], [903, 19, 986, 1011, 948, 317, 455, 299, 333, 330, 330, 158, 466, 926, 539, 550, 730, 85, 173, 591, 152, 500, 154, 861, 259, 595, 656, 185, 602, 602, 673, 683, 683, 247, 57, 967, 918, 24, 866, 348, 545, 876, 398, 430, 768, 995, 814, 20, 63, 123, 371, 614, 666, 189, 885, 710, 381, 933, 53, 445, 309, 945, 443, 883, 732, 450, 634, 150, 634, 646, 839, 835, 777, 192, 765, 574, 772, 869, 196, 756, 355, 69, 936, 467, 546, 692, 350, 350, 441, 479, 98, 825, 923, 924, 760, 152, 453, 878, 158, 103, 154, 761, 942, 201, 820, 945, 942, 828, 251, 302, 178, 640, 1005, 412, 41, 692, 435, 41, 410, 506, 466, 133, 759, 887, 175, 532, 545, 255, 627, 265, 115, 960, 602, 996, 120, 214, 594, 818, 574, 167, 924, 305, 333, 158, 836, 255, 67, 226, 729, 1022, 964, 27, 448, 602, 236, 494, 120, 23, 723, 350, 946, 875, 313, 431, 55, 745, 713, 164, 801, 12, 439, 583, 1017, 723, 375, 977, 994, 471, 954, 167, 865, 898, 205, 466, 646, 780, 590, 12, 529, 657, 816, 317, 76, 701, 412, 96, 103, 96, 917, 536, 1010, 508, 918, 611, 768, 298, 624, 624, 163, 478, 293, 41, 692, 451, 236, 140, 982, 477, 293, 986, 1011, 435, 881, 140, 982, 587, 456, 667, 193, 819, 988, 546, 178, 300, 614, 782, 140, 848, 668, 1017, 163, 886, 928, 929, 881, 614, 408, 587, 776, 913, 669, 931, 634, 710, 516, 766, 936, 741, 820, 455, 148, 231, 436, 143, 706, 44, 593, 960, 546, 967, 236, 328, 606, 591, 621, 61, 995, 995, 763, 881, 41, 1011, 435, 41, 593, 610, 644, 96, 131, 914, 588, 3, 819, 484, 611, 506, 644, 357, 337, 236, 178, 233, 917, 917, 692, 430, 178, 863, 350, 632, 982, 412, 484, 851, 386, 592, 851, 334, 314, 293, 315, 412, 763, 881, 1005, 939, 986], [365, 570, 1002, 983, 727, 492, 769, 566, 1009, 79, 97, 258, 439, 706, 308, 509, 768, 384, 57, 439, 533, 608, 110, 465, 362, 230, 261, 114, 489, 671, 32, 570, 453, 941, 130, 637, 882, 669, 856, 439, 439, 408, 319, 389, 82, 896, 365, 698, 270, 225, 626, 289, 1023, 696, 778, 41, 807, 457, 97, 659, 658, 299, 362, 711, 143, 876, 243, 994, 834, 864, 370, 362, 279, 664, 313, 1001, 104, 974, 698, 972, 865, 891, 124, 445, 880, 552, 983, 291, 329, 373, 489, 606, 667, 248, 710, 222, 584, 56, 525, 296, 591, 577, 296, 461, 882, 264, 1008, 868, 331, 151, 677, 225, 447, 896, 772, 772, 528, 772, 755, 964, 451, 777, 103, 114, 424, 805, 223, 587, 642, 193, 509, 599, 819, 560, 836, 957, 778, 468, 396, 155, 2, 1021, 362, 260, 865, 802, 147, 404, 903, 372, 932, 384, 190, 799, 562, 485, 847, 478, 938, 525, 983, 493, 768, 469, 19, 385, 616, 566, 566, 865, 326, 419, 188, 36, 765, 979, 821, 454, 733, 286, 437, 964, 321, 899, 201, 434, 274, 920, 509, 720, 135, 396, 390, 983, 900, 743, 114, 3, 795, 1008, 905, 20, 876, 406, 484, 684, 32, 145, 777, 380, 748, 365, 772, 841, 495, 547, 453, 772, 782, 365, 772, 853, 764, 1002, 528, 403, 802, 102, 212, 386, 574, 558, 28, 880, 480, 828, 547, 435, 316, 579, 746, 243, 944, 764, 896, 799, 774, 472, 542, 128, 993, 526, 526, 342, 829, 612, 1021, 179, 469, 346, 317, 119, 82, 720, 509, 126, 51, 339, 628, 566, 328, 390, 135, 848, 163, 728, 262, 936, 360, 444, 365, 755, 772, 485, 319, 316, 202, 562, 447, 406, 351, 761, 655, 32, 35, 491, 390, 78, 831, 903, 291, 876, 908, 453, 809, 928, 998, 1015, 485, 485, 794, 510, 327, 674, 858, 453, 764, 764, 764, 748, 928, 860, 925, 772, 853, 1002, 853], [989, 937, 173, 800, 886, 230, 101, 738, 378, 297, 770, 993, 565, 231, 894, 317, 189, 756, 253, 409, 496, 310, 199, 740, 863, 194, 429, 534, 534, 891, 173, 237, 173, 235, 891, 474, 83, 408, 233, 762, 842, 279, 884, 889, 1018, 859, 326, 878, 399, 480, 439, 746, 354, 718, 28, 133, 804, 288, 687, 491, 751, 148, 326, 656, 567, 940, 600, 764, 961, 396, 500, 141, 480, 862, 312, 593, 348, 512, 50, 373, 201, 194, 649, 7, 201, 249, 701, 294, 831, 955, 474, 199, 920, 432, 631, 716, 742, 1007, 386, 375, 274, 300, 371, 1010, 636, 28, 188, 133, 619, 239, 793, 516, 429, 467, 628, 899, 701, 518, 393, 249, 65, 168, 676, 713, 361, 881, 395, 613, 810, 364, 606, 625, 919, 707, 431, 412, 841, 807, 960, 719, 843, 586, 83, 406, 451, 610, 656, 684, 243, 175, 1000, 484, 893, 744, 472, 518, 1013, 137, 363, 425, 622, 665, 363, 157, 1015, 176, 835, 0, 859, 688, 537, 4, 839, 615, 42, 31, 225, 889, 708, 164, 574, 602, 699, 614, 260, 754, 231, 675, 384, 491, 76, 529, 583, 878, 628, 467, 315, 803, 311, 875, 884, 825, 178, 855, 611, 479, 390, 400, 622, 751, 475, 975, 475, 495, 563, 828, 788, 828, 989, 989, 989, 237, 237, 475, 948, 244, 991, 946, 513, 181, 323, 428, 322, 326, 617, 1018, 768, 868, 656, 255, 1015, 1018, 628, 1019, 701, 945, 474, 929, 254, 357, 744, 859, 887, 647, 658, 548, 827, 850, 783, 334, 249, 7, 552, 894, 367, 999, 407, 884, 694, 455, 479, 802, 745, 426, 491, 231, 1012, 563, 12, 937, 1019, 937, 975, 700, 480, 1019, 1013, 280, 870, 686, 574, 850, 780, 27, 31, 522, 150, 145, 583, 326, 628, 8, 472, 591, 472, 991, 516, 309, 989, 173, 832, 315, 845, 639, 700, 315, 357, 916, 916, 583, 173, 55, 617, 701, 475, 989, 899]]\n",
      "single_instruction: Play the audio twice.\n",
      "chosen_data: v_tok_408v_tok_835v_tok_835v_tok_798v_tok_585v_tok_550v_tok_535v_tok_535v_tok_737v_tok_737v_tok_377v_tok_556v_tok_601v_tok_787v_tok_8v_tok_99v_tok_411v_tok_411v_tok_378v_tok_937v_tok_378v_tok_937v_tok_804v_tok_838v_tok_890v_tok_934v_tok_47v_tok_438v_tok_438v_tok_731v_tok_738v_tok_133v_tok_709v_tok_479v_tok_479v_tok_479v_tok_151v_tok_940v_tok_502v_tok_906v_tok_407v_tok_645v_tok_70v_tok_208v_tok_537v_tok_537v_tok_1022v_tok_681v_tok_723v_tok_747v_tok_593v_tok_804v_tok_681v_tok_879v_tok_136v_tok_967v_tok_233v_tok_431v_tok_754v_tok_421v_tok_182v_tok_182v_tok_651v_tok_879v_tok_887v_tok_819v_tok_904v_tok_904v_tok_887v_tok_309v_tok_880v_tok_396v_tok_754v_tok_775v_tok_997v_tok_222v_tok_336v_tok_548v_tok_841v_tok_269v_tok_479v_tok_479v_tok_940v_tok_23v_tok_56v_tok_738v_tok_835v_tok_395v_tok_206v_tok_779v_tok_531v_tok_862v_tok_931v_tok_306v_tok_203v_tok_755v_tok_369v_tok_6v_tok_466v_tok_716v_tok_948v_tok_82v_tok_575v_tok_288v_tok_556v_tok_903v_tok_556v_tok_392v_tok_796v_tok_751v_tok_835v_tok_103v_tok_25v_tok_408v_tok_835v_tok_835v_tok_339v_tok_339v_tok_395v_tok_250v_tok_706v_tok_317v_tok_479v_tok_800v_tok_960v_tok_141v_tok_479v_tok_908v_tok_801v_tok_327v_tok_937v_tok_559v_tok_708v_tok_372v_tok_372v_tok_573v_tok_437v_tok_437v_tok_421v_tok_203v_tok_739v_tok_830v_tok_739v_tok_358v_tok_830v_tok_248v_tok_411v_tok_411v_tok_112v_tok_321v_tok_23v_tok_23v_tok_185v_tok_971v_tok_62v_tok_339v_tok_461v_tok_488v_tok_934v_tok_148v_tok_373v_tok_561v_tok_681v_tok_760v_tok_531v_tok_612v_tok_699v_tok_23v_tok_967v_tok_457v_tok_790v_tok_154v_tok_906v_tok_465v_tok_502v_tok_884v_tok_479v_tok_246v_tok_820v_tok_601v_tok_309v_tok_716v_tok_314v_tok_377v_tok_309v_tok_309v_tok_556v_tok_118v_tok_99v_tok_358v_tok_1018v_tok_862v_tok_779v_tok_62v_tok_835v_tok_25v_tok_254v_tok_254v_tok_677v_tok_73v_tok_143v_tok_696v_tok_696v_tok_321v_tok_879v_tok_23v_tok_224v_tok_523v_tok_23v_tok_835v_tok_835v_tok_835v_tok_339v_tok_59v_tok_257v_tok_819v_tok_472v_tok_835v_tok_835v_tok_835v_tok_339v_tok_835v_tok_835v_tok_339v_tok_339v_tok_428v_tok_982v_tok_869v_tok_270v_tok_435v_tok_283v_tok_804v_tok_976v_tok_875v_tok_598v_tok_353v_tok_860v_tok_409v_tok_411v_tok_601v_tok_650v_tok_495v_tok_62v_tok_835v_tok_835v_tok_141v_tok_948v_tok_82v_tok_414v_tok_658v_tok_321v_tok_224v_tok_321v_tok_931v_tok_3v_tok_99v_tok_8v_tok_220v_tok_775v_tok_739v_tok_870v_tok_830v_tok_739v_tok_830v_tok_695v_tok_695v_tok_704v_tok_208v_tok_860v_tok_1001v_tok_982v_tok_240v_tok_593v_tok_830v_tok_411v_tok_63v_tok_855v_tok_1017v_tok_835v_tok_835v_tok_430v_tok_339v_tok_339v_tok_339v_tok_254v_tok_254v_tok_38v_tok_677v_tok_73v_tok_868v_tok_598v_tok_563v_tok_890v_tok_598v_tok_224v_tok_598v_tok_676v_tok_860v_tok_635v_tok_310v_tok_208v_tok_224v_tok_676v_tok_491v_tok_321v_tok_699v_tok_136v_tok_432v_tok_1019v_tok_475v_tok_537v_tok_176v_tok_176v_tok_436v_tok_373v_tok_160v_tok_709v_tok_339v_tok_339v_tok_339v_tok_339v_tok_475v_tok_537v_tok_1017v_tok_835v_tok_835v_tok_835v_tok_395v_tok_835v_tok_835v_tok_798v_tok_585v_tok_340v_tok_535v_tok_535v_tok_737v_tok_737v_tok_634v_tok_556v_tok_601v_tok_787v_tok_8v_tok_99v_tok_411v_tok_411v_tok_411v_tok_937v_tok_378v_tok_937v_tok_804v_tok_385v_tok_890v_tok_438v_tok_47v_tok_438v_tok_438v_tok_731v_tok_738v_tok_133v_tok_709v_tok_479v_tok_479v_tok_502v_tok_151v_tok_940v_tok_502v_tok_906v_tok_407v_tok_645v_tok_385v_tok_208v_tok_537v_tok_537v_tok_1022v_tok_681v_tok_723v_tok_747v_tok_593v_tok_804v_tok_681v_tok_879v_tok_136v_tok_967v_tok_233v_tok_431v_tok_754v_tok_248v_tok_182v_tok_182v_tok_651v_tok_879v_tok_887v_tok_887v_tok_904v_tok_887v_tok_904v_tok_309v_tok_880v_tok_396v_tok_754v_tok_941v_tok_739v_tok_358v_tok_336v_tok_548v_tok_261v_tok_222v_tok_479v_tok_479v_tok_940v_tok_916v_tok_56v_tok_738v_tok_835v_tok_395v_tok_206v_tok_779v_tok_531v_tok_862v_tok_931v_tok_182v_tok_203v_tok_755v_tok_369v_tok_6v_tok_466v_tok_362v_tok_948v_tok_82v_tok_575v_tok_288v_tok_556v_tok_903v_tok_556v_tok_392v_tok_796v_tok_751v_tok_835v_tok_103v_tok_25v_tok_408v_tok_835v_tok_835v_tok_339v_tok_339v_tok_819v_tok_250v_tok_479v_tok_317v_tok_479v_tok_800v_tok_141v_tok_141v_tok_141v_tok_908v_tok_801v_tok_327v_tok_327v_tok_559v_tok_708v_tok_573v_tok_372v_tok_573v_tok_162v_tok_437v_tok_421v_tok_203v_tok_739v_tok_870v_tok_739v_tok_358v_tok_437v_tok_248v_tok_411v_tok_411v_tok_112v_tok_321v_tok_23v_tok_523v_tok_185v_tok_971v_tok_62v_tok_339v_tok_461v_tok_38v_tok_934v_tok_148v_tok_373v_tok_561v_tok_681v_tok_760v_tok_531v_tok_949v_tok_699v_tok_23v_tok_967v_tok_457v_tok_790v_tok_154v_tok_906v_tok_465v_tok_502v_tok_884v_tok_59v_tok_59v_tok_820v_tok_601v_tok_309v_tok_716v_tok_314v_tok_377v_tok_309v_tok_309v_tok_556v_tok_118v_tok_99v_tok_358v_tok_1018v_tok_862v_tok_779v_tok_62v_tok_835v_tok_25v_tok_254v_tok_254v_tok_677v_tok_887v_tok_143v_tok_696v_tok_696v_tok_321v_tok_879v_tok_666v_tok_860v_tok_523v_tok_23v_tok_835v_tok_835v_tok_835v_tok_339v_tok_59v_tok_904v_tok_819v_tok_472v_tok_835v_tok_835v_tok_835v_tok_339v_tok_835v_tok_339v_tok_339v_tok_475v_tok_428v_tok_982v_tok_869v_tok_846v_tok_601v_tok_248v_tok_531v_tok_976v_tok_875v_tok_598v_tok_530v_tok_860v_tok_409v_tok_411v_tok_601v_tok_650v_tok_495v_tok_62v_tok_339v_tok_835v_tok_671v_tok_948v_tok_82v_tok_414v_tok_658v_tok_321v_tok_224v_tok_321v_tok_931v_tok_3v_tok_99v_tok_8v_tok_220v_tok_775v_tok_739v_tok_870v_tok_830v_tok_739v_tok_830v_tok_695v_tok_695v_tok_704v_tok_208v_tok_860v_tok_1001v_tok_982v_tok_240v_tok_593v_tok_830v_tok_411v_tok_63v_tok_56v_tok_1017v_tok_339v_tok_339v_tok_430v_tok_339v_tok_339v_tok_339v_tok_254v_tok_254v_tok_38v_tok_677v_tok_73v_tok_868v_tok_598v_tok_563v_tok_890v_tok_598v_tok_224v_tok_598v_tok_875v_tok_860v_tok_635v_tok_310v_tok_208v_tok_224v_tok_676v_tok_491v_tok_321v_tok_699v_tok_136v_tok_699v_tok_1019v_tok_475v_tok_537v_tok_176v_tok_176v_tok_436v_tok_373v_tok_160v_tok_709v_tok_463v_tok_339v_tok_339v_tok_339v_tok_475v_tok_537v_tok_1017v_tok_835v_tok_835v_tok_835\n",
      "rejected_data: v_tok_835v_tok_835v_tok_798v_tok_585v_tok_550v_tok_535v_tok_535v_tok_737v_tok_737v_tok_377v_tok_556v_tok_601v_tok_787v_tok_8v_tok_99v_tok_411v_tok_411v_tok_378v_tok_937v_tok_378v_tok_937v_tok_804v_tok_838v_tok_890v_tok_934v_tok_47v_tok_438v_tok_438v_tok_731v_tok_738v_tok_133v_tok_709v_tok_479v_tok_479v_tok_479v_tok_151v_tok_940v_tok_502v_tok_906v_tok_407v_tok_645v_tok_70v_tok_208v_tok_537v_tok_537v_tok_1022v_tok_681v_tok_723v_tok_747v_tok_593v_tok_804v_tok_681v_tok_879v_tok_136v_tok_967v_tok_233v_tok_431v_tok_754v_tok_421v_tok_182v_tok_182v_tok_651v_tok_879v_tok_887v_tok_819v_tok_904v_tok_904v_tok_887v_tok_309v_tok_880v_tok_396v_tok_754v_tok_775v_tok_997v_tok_222v_tok_336v_tok_548v_tok_841v_tok_269v_tok_479v_tok_479v_tok_940v_tok_23v_tok_56v_tok_738v_tok_835v_tok_395v_tok_206v_tok_779v_tok_531v_tok_862v_tok_931v_tok_306v_tok_203v_tok_755v_tok_369v_tok_6v_tok_466v_tok_716v_tok_948v_tok_82v_tok_575v_tok_288v_tok_556v_tok_903v_tok_556v_tok_392v_tok_796v_tok_751v_tok_835v_tok_103v_tok_25v_tok_408v_tok_835v_tok_835v_tok_339v_tok_339v_tok_395v_tok_250v_tok_706v_tok_317v_tok_479v_tok_800v_tok_960v_tok_141v_tok_479v_tok_908v_tok_801v_tok_327v_tok_937v_tok_559v_tok_708v_tok_372v_tok_372v_tok_573v_tok_437v_tok_437v_tok_421v_tok_203v_tok_739v_tok_830v_tok_739v_tok_358v_tok_830v_tok_248v_tok_411v_tok_411v_tok_112v_tok_321v_tok_23v_tok_23v_tok_185v_tok_971v_tok_62v_tok_339v_tok_461v_tok_488v_tok_934v_tok_148v_tok_373v_tok_561v_tok_681v_tok_760v_tok_531v_tok_612v_tok_699v_tok_23v_tok_967v_tok_457v_tok_790v_tok_154v_tok_906v_tok_465v_tok_502v_tok_884v_tok_479v_tok_246v_tok_820v_tok_601v_tok_309v_tok_716v_tok_314v_tok_377v_tok_309v_tok_309v_tok_556v_tok_118v_tok_99v_tok_358v_tok_1018v_tok_862v_tok_779v_tok_62v_tok_835v_tok_25v_tok_254v_tok_254v_tok_677v_tok_73v_tok_143v_tok_696v_tok_696v_tok_321v_tok_879v_tok_23v_tok_224v_tok_523v_tok_23v_tok_835v_tok_835v_tok_835v_tok_395v_tok_59v_tok_257v_tok_819v_tok_472v_tok_835v_tok_835v_tok_738v_tok_339v_tok_835v_tok_835v_tok_475v_tok_339v_tok_428v_tok_982v_tok_869v_tok_270v_tok_435v_tok_283v_tok_804v_tok_976v_tok_875v_tok_598v_tok_353v_tok_860v_tok_409v_tok_411v_tok_601v_tok_650v_tok_495v_tok_62v_tok_835v_tok_835v_tok_141v_tok_948v_tok_82v_tok_414v_tok_658v_tok_321v_tok_224v_tok_321v_tok_931v_tok_3v_tok_99v_tok_8v_tok_220v_tok_775v_tok_739v_tok_870v_tok_830v_tok_739v_tok_830v_tok_695v_tok_695v_tok_704v_tok_208v_tok_860v_tok_1001v_tok_982v_tok_240v_tok_593v_tok_830v_tok_411v_tok_63v_tok_855v_tok_1017v_tok_835v_tok_835v_tok_430v_tok_339v_tok_339v_tok_339v_tok_254v_tok_254v_tok_38v_tok_677v_tok_73v_tok_868v_tok_598v_tok_563v_tok_890v_tok_598v_tok_224v_tok_598v_tok_676v_tok_860v_tok_635v_tok_310v_tok_208v_tok_224v_tok_676v_tok_491v_tok_321v_tok_699v_tok_136v_tok_432v_tok_1019v_tok_475v_tok_537v_tok_176v_tok_176v_tok_436v_tok_373v_tok_160v_tok_709v_tok_339v_tok_339v_tok_835v_tok_339v_tok_475v_tok_537v_tok_1017v_tok_835v_tok_738v_tok_835v_tok_339v_tok_835v_tok_1017v_tok_63v_tok_681v_tok_954v_tok_535v_tok_535v_tok_313v_tok_737v_tok_377v_tok_377v_tok_601v_tok_787v_tok_970v_tok_99v_tok_411v_tok_378v_tok_411v_tok_378v_tok_650v_tok_378v_tok_937v_tok_949v_tok_838v_tok_890v_tok_47v_tok_438v_tok_176v_tok_438v_tok_731v_tok_876v_tok_133v_tok_709v_tok_657v_tok_479v_tok_479v_tok_602v_tok_940v_tok_502v_tok_407v_tok_813v_tok_385v_tok_208v_tok_537v_tok_798v_tok_1022v_tok_681v_tok_358v_tok_747v_tok_593v_tok_747v_tok_681v_tok_879v_tok_687v_tok_967v_tok_233v_tok_421v_tok_754v_tok_421v_tok_20v_tok_182v_tok_651v_tok_583v_tok_887v_tok_819v_tok_370v_tok_904v_tok_887v_tok_841v_tok_880v_tok_396v_tok_78v_tok_775v_tok_997v_tok_739v_tok_336v_tok_548v_tok_716v_tok_269v_tok_479v_tok_141v_tok_940v_tok_23v_tok_855v_tok_738v_tok_835v_tok_834v_tok_206v_tok_779v_tok_679v_tok_862v_tok_931v_tok_862v_tok_203v_tok_755v_tok_269v_tok_6v_tok_466v_tok_600v_tok_948v_tok_82v_tok_503v_tok_288v_tok_556v_tok_392v_tok_556v_tok_392v_tok_216v_tok_751v_tok_835v_tok_145v_tok_25v_tok_738v_tok_835v_tok_835v_tok_709v_tok_339v_tok_395v_tok_960v_tok_1003v_tok_317v_tok_479v_tok_1003v_tok_960v_tok_141v_tok_960v_tok_908v_tok_801v_tok_800v_tok_960v_tok_559v_tok_708v_tok_627v_tok_372v_tok_627v_tok_437v_tok_437v_tok_203v_tok_387v_tok_739v_tok_830v_tok_870v_tok_358v_tok_830v_tok_411v_tok_411v_tok_411v_tok_982v_tok_321v_tok_23v_tok_1022v_tok_185v_tok_971v_tok_865v_tok_339v_tok_461v_tok_794v_tok_934v_tok_148v_tok_488v_tok_561v_tok_681v_tok_560v_tok_531v_tok_612v_tok_967v_tok_23v_tok_967v_tok_687v_tok_400v_tok_479v_tok_906v_tok_465v_tok_317v_tok_939v_tok_479v_tok_246v_tok_99v_tok_601v_tok_309v_tok_600v_tok_314v_tok_377v_tok_737v_tok_309v_tok_556v_tok_903v_tok_99v_tok_358v_tok_612v_tok_561v_tok_779v_tok_62v_tok_475v_tok_25v_tok_254v_tok_38v_tok_537v_tok_73v_tok_143v_tok_982v_tok_696v_tok_321v_tok_310v_tok_23v_tok_224v_tok_598v_tok_23v_tok_835v_tok_1017v_tok_835v_tok_339v_tok_59v_tok_257v_tok_887v_tok_472v_tok_835v_tok_475v_tok_835v_tok_339v_tok_738v_tok_835v_tok_475v_tok_395v_tok_428v_tok_982v_tok_179v_tok_270v_tok_435v_tok_270v_tok_804v_tok_976v_tok_1001v_tok_598v_tok_353v_tok_1010v_tok_409v_tok_411v_tok_413v_tok_650v_tok_495v_tok_780v_tok_835v_tok_835v_tok_785v_tok_948v_tok_82v_tok_369v_tok_658v_tok_321v_tok_971v_tok_321v_tok_931v_tok_646v_tok_99v_tok_8v_tok_138v_tok_775v_tok_739v_tok_830v_tok_830v_tok_739v_tok_387v_tok_695v_tok_695v_tok_949v_tok_208v_tok_860v_tok_598v_tok_982v_tok_240v_tok_162v_tok_830v_tok_411v_tok_662v_tok_855v_tok_1017v_tok_876v_tok_835v_tok_430v_tok_835v_tok_339v_tok_395v_tok_254v_tok_254v_tok_254v_tok_23v_tok_73v_tok_868v_tok_306v_tok_563v_tok_890v_tok_1001v_tok_224v_tok_598v_tok_875v_tok_860v_tok_635v_tok_635v_tok_208v_tok_224v_tok_224v_tok_491v_tok_321v_tok_224v_tok_136v_tok_432v_tok_835v_tok_475v_tok_537v_tok_373v_tok_176v_tok_436v_tok_934v_tok_160v_tok_709v_tok_835v_tok_339v_tok_709v_tok_339v_tok_475v_tok_433v_tok_1017v_tok_835v_tok_475v_tok_855\n",
      "chosen_data_id: [50673, 51100, 51100, 51063, 50850, 50815, 50800, 50800, 51002, 51002, 50642, 50821, 50866, 51052, 50273, 50364, 50676, 50676, 50643, 51202, 50643, 51202, 51069, 51103, 51155, 51199, 50312, 50703, 50703, 50996, 51003, 50398, 50974, 50744, 50744, 50744, 50416, 51205, 50767, 51171, 50672, 50910, 50335, 50473, 50802, 50802, 51287, 50946, 50988, 51012, 50858, 51069, 50946, 51144, 50401, 51232, 50498, 50696, 51019, 50686, 50447, 50447, 50916, 51144, 51152, 51084, 51169, 51169, 51152, 50574, 51145, 50661, 51019, 51040, 51262, 50487, 50601, 50813, 51106, 50534, 50744, 50744, 51205, 50288, 50321, 51003, 51100, 50660, 50471, 51044, 50796, 51127, 51196, 50571, 50468, 51020, 50634, 50271, 50731, 50981, 51213, 50347, 50840, 50553, 50821, 51168, 50821, 50657, 51061, 51016, 51100, 50368, 50290, 50673, 51100, 51100, 50604, 50604, 50660, 50515, 50971, 50582, 50744, 51065, 51225, 50406, 50744, 51173, 51066, 50592, 51202, 50824, 50973, 50637, 50637, 50838, 50702, 50702, 50686, 50468, 51004, 51095, 51004, 50623, 51095, 50513, 50676, 50676, 50377, 50586, 50288, 50288, 50450, 51236, 50327, 50604, 50726, 50753, 51199, 50413, 50638, 50826, 50946, 51025, 50796, 50877, 50964, 50288, 51232, 50722, 51055, 50419, 51171, 50730, 50767, 51149, 50744, 50511, 51085, 50866, 50574, 50981, 50579, 50642, 50574, 50574, 50821, 50383, 50364, 50623, 51283, 51127, 51044, 50327, 51100, 50290, 50519, 50519, 50942, 50338, 50408, 50961, 50961, 50586, 51144, 50288, 50489, 50788, 50288, 51100, 51100, 51100, 50604, 50324, 50522, 51084, 50737, 51100, 51100, 51100, 50604, 51100, 51100, 50604, 50604, 50693, 51247, 51134, 50535, 50700, 50548, 51069, 51241, 51140, 50863, 50618, 51125, 50674, 50676, 50866, 50915, 50760, 50327, 51100, 51100, 50406, 51213, 50347, 50679, 50923, 50586, 50489, 50586, 51196, 50268, 50364, 50273, 50485, 51040, 51004, 51135, 51095, 51004, 51095, 50960, 50960, 50969, 50473, 51125, 51266, 51247, 50505, 50858, 51095, 50676, 50328, 51120, 51282, 51100, 51100, 50695, 50604, 50604, 50604, 50519, 50519, 50303, 50942, 50338, 51133, 50863, 50828, 51155, 50863, 50489, 50863, 50941, 51125, 50900, 50575, 50473, 50489, 50941, 50756, 50586, 50964, 50401, 50697, 51284, 50740, 50802, 50441, 50441, 50701, 50638, 50425, 50974, 50604, 50604, 50604, 50604, 50740, 50802, 51282, 51100, 51100, 51100, 50660, 51100, 51100, 51063, 50850, 50605, 50800, 50800, 51002, 51002, 50899, 50821, 50866, 51052, 50273, 50364, 50676, 50676, 50676, 51202, 50643, 51202, 51069, 50650, 51155, 50703, 50312, 50703, 50703, 50996, 51003, 50398, 50974, 50744, 50744, 50767, 50416, 51205, 50767, 51171, 50672, 50910, 50650, 50473, 50802, 50802, 51287, 50946, 50988, 51012, 50858, 51069, 50946, 51144, 50401, 51232, 50498, 50696, 51019, 50513, 50447, 50447, 50916, 51144, 51152, 51152, 51169, 51152, 51169, 50574, 51145, 50661, 51019, 51206, 51004, 50623, 50601, 50813, 50526, 50487, 50744, 50744, 51205, 51181, 50321, 51003, 51100, 50660, 50471, 51044, 50796, 51127, 51196, 50447, 50468, 51020, 50634, 50271, 50731, 50627, 51213, 50347, 50840, 50553, 50821, 51168, 50821, 50657, 51061, 51016, 51100, 50368, 50290, 50673, 51100, 51100, 50604, 50604, 51084, 50515, 50744, 50582, 50744, 51065, 50406, 50406, 50406, 51173, 51066, 50592, 50592, 50824, 50973, 50838, 50637, 50838, 50427, 50702, 50686, 50468, 51004, 51135, 51004, 50623, 50702, 50513, 50676, 50676, 50377, 50586, 50288, 50788, 50450, 51236, 50327, 50604, 50726, 50303, 51199, 50413, 50638, 50826, 50946, 51025, 50796, 51214, 50964, 50288, 51232, 50722, 51055, 50419, 51171, 50730, 50767, 51149, 50324, 50324, 51085, 50866, 50574, 50981, 50579, 50642, 50574, 50574, 50821, 50383, 50364, 50623, 51283, 51127, 51044, 50327, 51100, 50290, 50519, 50519, 50942, 51152, 50408, 50961, 50961, 50586, 51144, 50931, 51125, 50788, 50288, 51100, 51100, 51100, 50604, 50324, 51169, 51084, 50737, 51100, 51100, 51100, 50604, 51100, 50604, 50604, 50740, 50693, 51247, 51134, 51111, 50866, 50513, 50796, 51241, 51140, 50863, 50795, 51125, 50674, 50676, 50866, 50915, 50760, 50327, 50604, 51100, 50936, 51213, 50347, 50679, 50923, 50586, 50489, 50586, 51196, 50268, 50364, 50273, 50485, 51040, 51004, 51135, 51095, 51004, 51095, 50960, 50960, 50969, 50473, 51125, 51266, 51247, 50505, 50858, 51095, 50676, 50328, 50321, 51282, 50604, 50604, 50695, 50604, 50604, 50604, 50519, 50519, 50303, 50942, 50338, 51133, 50863, 50828, 51155, 50863, 50489, 50863, 51140, 51125, 50900, 50575, 50473, 50489, 50941, 50756, 50586, 50964, 50401, 50964, 51284, 50740, 50802, 50441, 50441, 50701, 50638, 50425, 50974, 50728, 50604, 50604, 50604, 50740, 50802, 51282, 51100, 51100, 51100]\n",
      "rejected_data_id: [51100, 51100, 51063, 50850, 50815, 50800, 50800, 51002, 51002, 50642, 50821, 50866, 51052, 50273, 50364, 50676, 50676, 50643, 51202, 50643, 51202, 51069, 51103, 51155, 51199, 50312, 50703, 50703, 50996, 51003, 50398, 50974, 50744, 50744, 50744, 50416, 51205, 50767, 51171, 50672, 50910, 50335, 50473, 50802, 50802, 51287, 50946, 50988, 51012, 50858, 51069, 50946, 51144, 50401, 51232, 50498, 50696, 51019, 50686, 50447, 50447, 50916, 51144, 51152, 51084, 51169, 51169, 51152, 50574, 51145, 50661, 51019, 51040, 51262, 50487, 50601, 50813, 51106, 50534, 50744, 50744, 51205, 50288, 50321, 51003, 51100, 50660, 50471, 51044, 50796, 51127, 51196, 50571, 50468, 51020, 50634, 50271, 50731, 50981, 51213, 50347, 50840, 50553, 50821, 51168, 50821, 50657, 51061, 51016, 51100, 50368, 50290, 50673, 51100, 51100, 50604, 50604, 50660, 50515, 50971, 50582, 50744, 51065, 51225, 50406, 50744, 51173, 51066, 50592, 51202, 50824, 50973, 50637, 50637, 50838, 50702, 50702, 50686, 50468, 51004, 51095, 51004, 50623, 51095, 50513, 50676, 50676, 50377, 50586, 50288, 50288, 50450, 51236, 50327, 50604, 50726, 50753, 51199, 50413, 50638, 50826, 50946, 51025, 50796, 50877, 50964, 50288, 51232, 50722, 51055, 50419, 51171, 50730, 50767, 51149, 50744, 50511, 51085, 50866, 50574, 50981, 50579, 50642, 50574, 50574, 50821, 50383, 50364, 50623, 51283, 51127, 51044, 50327, 51100, 50290, 50519, 50519, 50942, 50338, 50408, 50961, 50961, 50586, 51144, 50288, 50489, 50788, 50288, 51100, 51100, 51100, 50660, 50324, 50522, 51084, 50737, 51100, 51100, 51003, 50604, 51100, 51100, 50740, 50604, 50693, 51247, 51134, 50535, 50700, 50548, 51069, 51241, 51140, 50863, 50618, 51125, 50674, 50676, 50866, 50915, 50760, 50327, 51100, 51100, 50406, 51213, 50347, 50679, 50923, 50586, 50489, 50586, 51196, 50268, 50364, 50273, 50485, 51040, 51004, 51135, 51095, 51004, 51095, 50960, 50960, 50969, 50473, 51125, 51266, 51247, 50505, 50858, 51095, 50676, 50328, 51120, 51282, 51100, 51100, 50695, 50604, 50604, 50604, 50519, 50519, 50303, 50942, 50338, 51133, 50863, 50828, 51155, 50863, 50489, 50863, 50941, 51125, 50900, 50575, 50473, 50489, 50941, 50756, 50586, 50964, 50401, 50697, 51284, 50740, 50802, 50441, 50441, 50701, 50638, 50425, 50974, 50604, 50604, 51100, 50604, 50740, 50802, 51282, 51100, 51003, 51100, 50604, 51100, 51282, 50328, 50946, 51219, 50800, 50800, 50578, 51002, 50642, 50642, 50866, 51052, 51235, 50364, 50676, 50643, 50676, 50643, 50915, 50643, 51202, 51214, 51103, 51155, 50312, 50703, 50441, 50703, 50996, 51141, 50398, 50974, 50922, 50744, 50744, 50867, 51205, 50767, 50672, 51078, 50650, 50473, 50802, 51063, 51287, 50946, 50623, 51012, 50858, 51012, 50946, 51144, 50952, 51232, 50498, 50686, 51019, 50686, 50285, 50447, 50916, 50848, 51152, 51084, 50635, 51169, 51152, 51106, 51145, 50661, 50343, 51040, 51262, 51004, 50601, 50813, 50981, 50534, 50744, 50406, 51205, 50288, 51120, 51003, 51100, 51099, 50471, 51044, 50944, 51127, 51196, 51127, 50468, 51020, 50534, 50271, 50731, 50865, 51213, 50347, 50768, 50553, 50821, 50657, 50821, 50657, 50481, 51016, 51100, 50410, 50290, 51003, 51100, 51100, 50974, 50604, 50660, 51225, 51268, 50582, 50744, 51268, 51225, 50406, 51225, 51173, 51066, 51065, 51225, 50824, 50973, 50892, 50637, 50892, 50702, 50702, 50468, 50652, 51004, 51095, 51135, 50623, 51095, 50676, 50676, 50676, 51247, 50586, 50288, 51287, 50450, 51236, 51130, 50604, 50726, 51059, 51199, 50413, 50753, 50826, 50946, 50825, 50796, 50877, 51232, 50288, 51232, 50952, 50665, 50744, 51171, 50730, 50582, 51204, 50744, 50511, 50364, 50866, 50574, 50865, 50579, 50642, 51002, 50574, 50821, 51168, 50364, 50623, 50877, 50826, 51044, 50327, 50740, 50290, 50519, 50303, 50802, 50338, 50408, 51247, 50961, 50586, 50575, 50288, 50489, 50863, 50288, 51100, 51282, 51100, 50604, 50324, 50522, 51152, 50737, 51100, 50740, 51100, 50604, 51003, 51100, 50740, 50660, 50693, 51247, 50444, 50535, 50700, 50535, 51069, 51241, 51266, 50863, 50618, 51275, 50674, 50676, 50678, 50915, 50760, 51045, 51100, 51100, 51050, 51213, 50347, 50634, 50923, 50586, 51236, 50586, 51196, 50911, 50364, 50273, 50403, 51040, 51004, 51095, 51095, 51004, 50652, 50960, 50960, 51214, 50473, 51125, 50863, 51247, 50505, 50427, 51095, 50676, 50927, 51120, 51282, 51141, 51100, 50695, 51100, 50604, 50660, 50519, 50519, 50519, 50288, 50338, 51133, 50571, 50828, 51155, 51266, 50489, 50863, 51140, 51125, 50900, 50900, 50473, 50489, 50489, 50756, 50586, 50489, 50401, 50697, 51100, 50740, 50802, 50638, 50441, 50701, 51199, 50425, 50974, 51100, 50604, 50974, 50604, 50740, 50698, 51282, 51100, 50740, 51120]\n"
     ]
    },
    {
     "name": "stderr",
     "output_type": "stream",
     "text": [
      "/home/b0990106x/miniconda3/envs/trl/lib/python3.10/site-packages/torch/nn/utils/weight_norm.py:28: UserWarning: torch.nn.utils.weight_norm is deprecated in favor of torch.nn.utils.parametrizations.weight_norm.\n",
      "  warnings.warn(\"torch.nn.utils.weight_norm is deprecated in favor of torch.nn.utils.parametrizations.weight_norm.\")\n"
     ]
    },
    {
     "name": "stdout",
     "output_type": "stream",
     "text": [
      "Episode 0 : audio saved to  /work/b0990106x/trl/output/0619-2002/example_save_0.wav\n",
      "GOOD:\n"
     ]
    },
    {
     "name": "stderr",
     "output_type": "stream",
     "text": [
      "/home/b0990106x/miniconda3/envs/trl/lib/python3.10/site-packages/librosa/feature/spectral.py:2143: UserWarning: Empty filters detected in mel frequency basis. Some channels will produce empty responses. Try increasing your sampling rate (and fmax) or reducing n_mels.\n",
      "  mel_basis = filters.mel(sr=sr, n_fft=n_fft, **kwargs)\n"
     ]
    },
    {
     "name": "stdout",
     "output_type": "stream",
     "text": [
      "Reward: 3.2222368717193604\n"
     ]
    },
    {
     "name": "stderr",
     "output_type": "stream",
     "text": [
      "/home/b0990106x/miniconda3/envs/trl/lib/python3.10/site-packages/torch/nn/utils/weight_norm.py:28: UserWarning: torch.nn.utils.weight_norm is deprecated in favor of torch.nn.utils.parametrizations.weight_norm.\n",
      "  warnings.warn(\"torch.nn.utils.weight_norm is deprecated in favor of torch.nn.utils.parametrizations.weight_norm.\")\n"
     ]
    },
    {
     "name": "stdout",
     "output_type": "stream",
     "text": [
      "Episode 1 : audio saved to  /work/b0990106x/trl/output/0619-2002/example_save_1.wav\n",
      "BAD\n",
      "Reward: 2.7825844287872314\n"
     ]
    },
    {
     "name": "stderr",
     "output_type": "stream",
     "text": [
      "/home/b0990106x/miniconda3/envs/trl/lib/python3.10/site-packages/librosa/feature/spectral.py:2143: UserWarning: Empty filters detected in mel frequency basis. Some channels will produce empty responses. Try increasing your sampling rate (and fmax) or reducing n_mels.\n",
      "  mel_basis = filters.mel(sr=sr, n_fft=n_fft, **kwargs)\n"
     ]
    },
    {
     "data": {
      "text/plain": [
       "2.7825844287872314"
      ]
     },
     "execution_count": 8,
     "metadata": {},
     "output_type": "execute_result"
    }
   ],
   "source": [
    "# import json\n",
    "# if not os.path.exists(agent_output_dir):\n",
    "#     os.makedirs(agent_output_dir)\n",
    "\n",
    "# with open(\"dpo_data_1.json\") as f:\n",
    "#     dpo_data = json.load(f)\n",
    "\n",
    "# # Step 2: Parse the JSON content\n",
    "# prompts = dpo_data['prompt']\n",
    "# chosen = dpo_data['chosen']\n",
    "# rejected = dpo_data['rejected']\n",
    "# args_predict = SimpleNamespace(output_path=f\"{base_path}/output/{ts}/example.wav\", seed=0, device=device)\n",
    "\n",
    "# # Step 3: Access each item in the data\n",
    "\n",
    "# chosen_data = chosen[0]\n",
    "# rejected_data = rejected[0]\n",
    "# single_src_encodec = all_src_encodec[0]\n",
    "# single_instruction = all_instruction[0]\n",
    "\n",
    "# print(\"single_src_encodec:\", single_src_encodec)\n",
    "# print(\"single_instruction:\", single_instruction)\n",
    "\n",
    "# chosen_data_id = ar_tokenizer(chosen_data)[\"input_ids\"][1:-1]\n",
    "# rejected_data_id = ar_tokenizer(rejected_data)[\"input_ids\"][1:-1]\n",
    "\n",
    "# print(\"chosen_data:\", chosen_data)\n",
    "# print(\"rejected_data:\", rejected_data)\n",
    "# print(\"chosen_data_id:\", chosen_data_id)\n",
    "# print(\"rejected_data_id:\", rejected_data_id)\n",
    "\n",
    "# temp1 = get_ar_prediction_v2(args_predict, chosen_data_id, nar_model, ar_tokenizer, nar_tokenizer, single_src_encodec, single_instruction, 0)\n",
    "# print(\"GOOD:\")\n",
    "# get_reward(args_predict.output_path)\n",
    "\n",
    "# temp2 = get_ar_prediction_v2(args_predict, rejected_data_id , nar_model, ar_tokenizer, nar_tokenizer, single_src_encodec, single_instruction, 1)\n",
    "# print(\"BAD\")\n",
    "# get_reward(args_predict.output_path)\n"
   ]
  },
  {
   "cell_type": "code",
   "execution_count": null,
   "metadata": {},
   "outputs": [],
   "source": []
  }
 ],
 "metadata": {
  "kernelspec": {
   "display_name": "trl",
   "language": "python",
   "name": "python3"
  },
  "language_info": {
   "codemirror_mode": {
    "name": "ipython",
    "version": 3
   },
   "file_extension": ".py",
   "mimetype": "text/x-python",
   "name": "python",
   "nbconvert_exporter": "python",
   "pygments_lexer": "ipython3",
   "version": "3.10.14"
  }
 },
 "nbformat": 4,
 "nbformat_minor": 2
}
