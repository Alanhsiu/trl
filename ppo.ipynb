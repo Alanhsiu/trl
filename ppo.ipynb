{
 "cells": [
  {
   "cell_type": "code",
   "execution_count": null,
   "metadata": {},
   "outputs": [],
   "source": [
    "import torch\n",
    "from transformers import AutoTokenizer\n",
    "from trl import PPOTrainer, PPOConfig, AutoModelForCausalLMWithValueHead, create_reference_model\n",
    "from trl.core import respond_to_batch\n",
    "\n",
    "num_iterations = 10000\n",
    "\n",
    "model = AutoModelForCausalLMWithValueHead.from_pretrained('gpt2')\n",
    "model_ref = create_reference_model(model)\n",
    "tokenizer = AutoTokenizer.from_pretrained('gpt2')\n",
    "tokenizer.pad_token = tokenizer.eos_token\n",
    "\n",
    "device = torch.device(\"cuda\" if torch.cuda.is_available() else \"cpu\")\n",
    "model = model.to(device)"
   ]
  },
  {
   "cell_type": "code",
   "execution_count": null,
   "metadata": {},
   "outputs": [],
   "source": [
    "from datetime import datetime\n",
    "import os\n",
    "\n",
    "now = datetime.now()\n",
    "ts = now.strftime(\"%m%d-%H%M\")\n",
    "print(\"timestamp:\", ts)\n",
    "log_dir = f\"logs/{ts}\"\n",
    "os.makedirs(log_dir, exist_ok=True)\n",
    "\n",
    "ppo_config = PPOConfig(batch_size=1, mini_batch_size=1, log_with='tensorboard', project_kwargs={'logging_dir': log_dir})\n",
    "ppo_trainer = PPOTrainer(ppo_config, model, model_ref, tokenizer)"
   ]
  },
  {
   "cell_type": "code",
   "execution_count": null,
   "metadata": {},
   "outputs": [],
   "source": [
    "for iteration in range(num_iterations):\n",
    "    query_txt = \"This morning I went to the \"\n",
    "    query_tensor = tokenizer.encode(query_txt, return_tensors=\"pt\")\n",
    "    query_tensor = query_tensor.to(device)\n",
    "    \n",
    "    response_tensor = respond_to_batch(model, query_tensor)\n",
    "    reward_length = len(tokenizer.decode(response_tensor[0], skip_special_tokens=True))\n",
    "    reward = torch.tensor([float(reward_length)])  # Convert reward to a tensor\n",
    "    train_stats = ppo_trainer.step([query_tensor[0]], [response_tensor[0]], [reward])\n",
    "\n",
    "    print(f\"Iteration {iteration + 1} Reward: {reward.item()} Predicted Text:\", tokenizer.decode(response_tensor[0], skip_special_tokens=True))\n",
    "\n",
    "print(\"Training completed.\")\n"
   ]
  }
 ],
 "metadata": {
  "kernelspec": {
   "display_name": "trl",
   "language": "python",
   "name": "python3"
  },
  "language_info": {
   "codemirror_mode": {
    "name": "ipython",
    "version": 3
   },
   "file_extension": ".py",
   "mimetype": "text/x-python",
   "name": "python",
   "nbconvert_exporter": "python",
   "pygments_lexer": "ipython3",
   "version": "3.1.undefined"
  }
 },
 "nbformat": 4,
 "nbformat_minor": 2
}
