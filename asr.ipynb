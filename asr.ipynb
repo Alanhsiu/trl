{
 "cells": [
  {
   "cell_type": "markdown",
   "metadata": {},
   "source": [
    "### faster whisper"
   ]
  },
  {
   "cell_type": "code",
   "execution_count": null,
   "metadata": {},
   "outputs": [
    {
     "name": "stderr",
     "output_type": "stream",
     "text": [
      "/home/b0990106x/miniconda3/envs/dpo/lib/python3.10/site-packages/tqdm/auto.py:21: TqdmWarning: IProgress not found. Please update jupyter and ipywidgets. See https://ipywidgets.readthedocs.io/en/stable/user_install.html\n",
      "  from .autonotebook import tqdm as notebook_tqdm\n"
     ]
    }
   ],
   "source": [
    "from faster_whisper import WhisperModel\n",
    "\n",
    "model_size = \"tiny\"\n",
    "model_size_2 = \"medium\"\n",
    "\n",
    "# Run on GPU with FP16\n",
    "# model = WhisperModel(model_size, device=\"cuda\", compute_type=\"float16\")\n",
    "# or run on GPU with INT8\n",
    "# model = WhisperModel(model_size, device=\"cuda\", compute_type=\"int8_float16\")\n",
    "# or run on CPU with INT8\n",
    "model = WhisperModel(model_size, device=\"cpu\", compute_type=\"int8\")\n",
    "model_2 = WhisperModel(model_size_2, device=\"cpu\", compute_type=\"int8\")\n"
   ]
  },
  {
   "cell_type": "code",
   "execution_count": 2,
   "metadata": {},
   "outputs": [
    {
     "name": "stdout",
     "output_type": "stream",
     "text": [
      "Reward: 0.00%, Text: bye\n",
      "Reward: 0.00%, Text: bye\n",
      "Reward: 0.00%, Text: bye\n",
      "Reward: 0.00%, Text: bye\n",
      "Reward: 0.00%, Text: bye\n",
      "Reward: 0.00%, Text: bye\n",
      "Reward: 0.00%, Text: bye\n",
      "Reward: 0.00%, Text: bye\n",
      "Reward: 0.00%, Text: bye\n",
      "Reward: 0.00%, Text: bye\n",
      "Average reward: 0.00%\n",
      "Time: 4.46s\n",
      "Reward: 0.00%, Text: bye bye\n",
      "Reward: 0.00%, Text: bye bye\n",
      "Reward: 0.00%, Text: bye bye\n",
      "Reward: 0.00%, Text: bye bye\n",
      "Reward: 0.00%, Text: bye bye\n",
      "Reward: 0.00%, Text: bye bye\n",
      "Reward: 0.00%, Text: bye bye\n",
      "Reward: 0.00%, Text: bye bye\n",
      "Reward: 0.00%, Text: bye bye\n",
      "Reward: 0.00%, Text: bye bye\n",
      "Average reward: 0.00%\n",
      "Time: 39.64s\n"
     ]
    }
   ],
   "source": [
    "import string\n",
    "from jiwer import wer\n",
    "\n",
    "def reward_wer(reference, hypothesis):\n",
    "    raw_wer = wer(reference, hypothesis)\n",
    "    normalized = min(raw_wer, 1.0)\n",
    "    return 1 - normalized\n",
    "\n",
    "def test(asr_model):\n",
    "    segments, info = asr_model.transcribe(\"output/1118-2248/example_generate_data_4_item_1.wav\", beam_size=1)\n",
    "    # print(\"Detected language '%s' with probability %f\" % (info.language, info.language_probability)) \n",
    "    segments = list(segments)    \n",
    "    modified_text = ''.join(char for char in segments[0].text if char not in string.punctuation).lower().strip()\n",
    "    # ground_truth = \"neighboring fields\"\n",
    "    ground_truth = \"goodbye\"\n",
    "    reward = reward_wer(modified_text, ground_truth)\n",
    "    print(f\"Reward: {reward:.2%}, Text: {modified_text}\")\n",
    "    return reward\n",
    "    \n",
    " # count time\n",
    "import time\n",
    "start = time.time()\n",
    "rewards = [test(model) for _ in range(10)]\n",
    "print(f\"Average reward: {sum(rewards) / len(rewards):.2%}\")\n",
    "print(f\"Time: {time.time() - start:.2f}s\")\n",
    "\n",
    "start = time.time()\n",
    "rewards = [test(model_2) for _ in range(10)]\n",
    "print(f\"Average reward: {sum(rewards) / len(rewards):.2%}\")\n",
    "print(f\"Time: {time.time() - start:.2f}s\")\n"
   ]
  },
  {
   "cell_type": "code",
   "execution_count": 11,
   "metadata": {},
   "outputs": [
    {
     "name": "stdout",
     "output_type": "stream",
     "text": [
      "Reward: 100.00%, Text: goodbye\n",
      "Reward: 100.00%, Text: goodbye\n",
      "Reward: 100.00%, Text: goodbye\n",
      "Reward: 100.00%, Text: goodbye\n",
      "Reward: 100.00%, Text: goodbye\n",
      "Reward: 100.00%, Text: goodbye\n",
      "Reward: 100.00%, Text: goodbye\n",
      "Reward: 100.00%, Text: goodbye\n",
      "Reward: 100.00%, Text: goodbye\n",
      "Reward: 100.00%, Text: goodbye\n",
      "Average reward: 100.00%\n",
      "Time: 2.60s\n"
     ]
    }
   ],
   "source": [
    "model_size_3 = \"medium\"\n",
    "model_3 = WhisperModel(model_size_3, device=\"cuda\", compute_type=\"float16\")\n",
    "start = time.time()\n",
    "rewards = [test(model_3) for _ in range(10)]\n",
    "print(f\"Average reward: {sum(rewards) / len(rewards):.2%}\")\n",
    "print(f\"Time: {time.time() - start:.2f}s\")"
   ]
  },
  {
   "cell_type": "code",
   "execution_count": 3,
   "metadata": {},
   "outputs": [
    {
     "name": "stdout",
     "output_type": "stream",
     "text": [
      "0.5\n",
      "Word Error Rate: 50.00%\n"
     ]
    }
   ],
   "source": [
    "from jiwer import wer\n",
    "\n",
    "text1 = \" Neighboring fields\"\n",
    "text2 = \"neighboring fields\"\n",
    "error_rate = wer(text1, text2)\n",
    "print(error_rate)\n",
    "\n",
    "print(f\"Word Error Rate: {error_rate:.2%}\")\n"
   ]
  },
  {
   "cell_type": "code",
   "execution_count": 4,
   "metadata": {},
   "outputs": [
    {
     "name": "stdout",
     "output_type": "stream",
     "text": [
      "Reward: 0.00\n"
     ]
    }
   ],
   "source": [
    "def reward_wer(reference, hypothesis):\n",
    "    raw_wer = wer(reference, hypothesis)\n",
    "    normalized = min(raw_wer, 1.0)\n",
    "    return 1 - normalized\n",
    "\n",
    "text1 = \"make a ring for you\"\n",
    "text2 = \"neighboring fields\"\n",
    "\n",
    "reward = reward_wer(text1, text2)\n",
    "print(f\"Reward: {reward:.2f}\")"
   ]
  },
  {
   "cell_type": "code",
   "execution_count": 5,
   "metadata": {},
   "outputs": [
    {
     "name": "stdout",
     "output_type": "stream",
     "text": [
      "the idea\n"
     ]
    }
   ],
   "source": [
    "import string\n",
    "text = \"Neighboring fields.\" # 8\n",
    "text = \"But I will be, in a minute.\" # 16\n",
    "text = \"Will you?\" # 65\n",
    "text = \"Do they?\" # 100\n",
    "text = \"Don't you?\" # 102\n",
    "\n",
    "text = \"I don't know\" # 105\n",
    "text = \"Why is it?\" # 112\n",
    "text = \"Why not?\" # 132\n",
    "text = \"Good-bye\" # 140\n",
    "text = \"The idea!\" # 184\n",
    "\n",
    "\n",
    "modified_text = ''.join(char for char in text if char not in string.punctuation).lower().strip()\n",
    "print(modified_text)"
   ]
  },
  {
   "cell_type": "code",
   "execution_count": 6,
   "metadata": {},
   "outputs": [
    {
     "name": "stdout",
     "output_type": "stream",
     "text": [
      "8 neighboring fields\n",
      "16 but i will be in a minute\n",
      "65 will you\n",
      "100 do they\n",
      "102 dont you\n",
      "105 i dont know\n",
      "112 why is it\n",
      "132 why not\n",
      "140 goodbye\n",
      "184 the idea\n"
     ]
    }
   ],
   "source": [
    "import string\n",
    "\n",
    "text_list = [\"Neighboring fields.\", \"But I will be, in a minute.\", \"Will you?\", \"Do they?\", \"Don't you?\", \"I don't know\", \"Why is it?\", \"Why not?\", \"Good-bye\", \"The idea!\"]\n",
    "index_list = [8, 16, 65, 100, 102, 105, 112, 132, 140, 184]\n",
    "for i, text in enumerate(text_list):\n",
    "    modified_text = ''.join(char for char in text if char not in string.punctuation).lower().strip()\n",
    "    print(f\"{index_list[i]} {modified_text}\")\n",
    "    "
   ]
  }
 ],
 "metadata": {
  "kernelspec": {
   "display_name": "dpo",
   "language": "python",
   "name": "python3"
  },
  "language_info": {
   "codemirror_mode": {
    "name": "ipython",
    "version": 3
   },
   "file_extension": ".py",
   "mimetype": "text/x-python",
   "name": "python",
   "nbconvert_exporter": "python",
   "pygments_lexer": "ipython3",
   "version": "3.10.15"
  }
 },
 "nbformat": 4,
 "nbformat_minor": 2
}
