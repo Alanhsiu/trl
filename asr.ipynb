{
 "cells": [
  {
   "cell_type": "markdown",
   "metadata": {},
   "source": [
    "### faster whisper"
   ]
  },
  {
   "cell_type": "code",
   "execution_count": null,
   "metadata": {},
   "outputs": [],
   "source": [
    "from faster_whisper import WhisperModel\n",
    "\n",
    "model_size = \"tiny\"\n",
    "\n",
    "# Run on GPU with FP16\n",
    "model = WhisperModel(model_size, device=\"cuda\", compute_type=\"float16\")"
   ]
  },
  {
   "cell_type": "code",
   "execution_count": null,
   "metadata": {},
   "outputs": [
    {
     "name": "stdout",
     "output_type": "stream",
     "text": [
      "Detected language 'en' with probability 0.978281\n",
      " neighboring fields.\n",
      "neighboring fields\n"
     ]
    }
   ],
   "source": [
    "import string\n",
    "\n",
    "# or run on GPU with INT8\n",
    "# model = WhisperModel(model_size, device=\"cuda\", compute_type=\"int8_float16\")\n",
    "# or run on CPU with INT8\n",
    "# model = WhisperModel(model_size, device=\"cpu\", compute_type=\"int8\")\n",
    "\n",
    "segments, info = model.transcribe(\"output/1116-1136/example_save_eval_-1_data_8_0.wav\", beam_size=5)\n",
    "\n",
    "print(\"Detected language '%s' with probability %f\" % (info.language, info.language_probability))\n",
    "\n",
    "segments = list(segments)    \n",
    "print(segments[0].text)\n",
    "modified_text = ''.join(char for char in segments[0].text if char not in string.punctuation).lower().strip()\n",
    "print(modified_text)\n",
    "\n",
    "# for segment in segments:\n",
    "#     print(\"[%.2fs -> %.2fs] %s\" % (segment.start, segment.end, segment.text))\n",
    "# modified_text = ''.join(char for char in segment.text if char not in string.punctuation).lower().strip()\n",
    "# print(modified_text)"
   ]
  },
  {
   "cell_type": "code",
   "execution_count": 8,
   "metadata": {},
   "outputs": [
    {
     "name": "stdout",
     "output_type": "stream",
     "text": [
      "0.5\n",
      "Word Error Rate: 50.00%\n"
     ]
    }
   ],
   "source": [
    "from jiwer import wer\n",
    "\n",
    "text1 = \" Neighboring fields\"\n",
    "text2 = \"neighboring fields\"\n",
    "error_rate = wer(text1, text2)\n",
    "print(error_rate)\n",
    "\n",
    "print(f\"Word Error Rate: {error_rate:.2%}\")\n"
   ]
  },
  {
   "cell_type": "code",
   "execution_count": null,
   "metadata": {},
   "outputs": [
    {
     "name": "stdout",
     "output_type": "stream",
     "text": [
      "Reward: 0.00\n"
     ]
    }
   ],
   "source": [
    "def reward_wer(reference, hypothesis):\n",
    "    raw_wer = wer(reference, hypothesis)\n",
    "    normalized = min(raw_wer, 1.0)\n",
    "    return 1 - normalized\n",
    "\n",
    "text1 = \"make a ring for you\"\n",
    "text2 = \"neighboring fields\"\n",
    "\n",
    "reward = reward_wer(text1, text2)\n",
    "print(f\"Reward: {reward:.2f}\")"
   ]
  }
 ],
 "metadata": {
  "kernelspec": {
   "display_name": "dpo",
   "language": "python",
   "name": "python3"
  },
  "language_info": {
   "codemirror_mode": {
    "name": "ipython",
    "version": 3
   },
   "file_extension": ".py",
   "mimetype": "text/x-python",
   "name": "python",
   "nbconvert_exporter": "python",
   "pygments_lexer": "ipython3",
   "version": "3.10.15"
  }
 },
 "nbformat": 4,
 "nbformat_minor": 2
}
