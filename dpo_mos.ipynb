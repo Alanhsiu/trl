{
 "cells": [
  {
   "cell_type": "markdown",
   "metadata": {},
   "source": [
    "# Training"
   ]
  },
  {
   "cell_type": "code",
   "execution_count": 1,
   "metadata": {
    "metadata": {}
   },
   "outputs": [
    {
     "name": "stderr",
     "output_type": "stream",
     "text": [
      "/home/b0990106x/miniconda3/envs/trl/lib/python3.10/site-packages/tqdm/auto.py:21: TqdmWarning: IProgress not found. Please update jupyter and ipywidgets. See https://ipywidgets.readthedocs.io/en/stable/user_install.html\n",
      "  from .autonotebook import tqdm as notebook_tqdm\n"
     ]
    }
   ],
   "source": [
    "import sys\n",
    "sys.path.append(\"/work/b0990106x/trl/vc\")\n",
    "import importlib\n",
    "import vc\n",
    "importlib.reload(vc)\n",
    "import torch\n",
    "from vc.trainer_encodec_vc_inference import get_ar_prediction_v3, pack_inputs_v2\n",
    "from types import SimpleNamespace\n",
    "from transformers import BartForConditionalGeneration, AutoModelForCausalLM, AutoTokenizer\n",
    "from NISQA.nisqa.NISQA_model import nisqaModel\n",
    "from datasets import load_from_disk, Dataset\n",
    "from trl import DPOTrainer, DPOConfig, AutoModelForSeq2SeqLMWithValueHead, create_reference_model\n",
    "from vc.encodec_model.nar_bart_model import NARBartForConditionalGeneration\n",
    "from datetime import datetime\n",
    "import os\n",
    "import numpy as np\n",
    "from dpo_eval import get_reward, eval_dpo_mos\n",
    "import json\n",
    "from tqdm import tqdm\n",
    "import time\n",
    "from typing import List, Tuple\n",
    "\n"
   ]
  },
  {
   "cell_type": "code",
   "execution_count": 2,
   "metadata": {
    "metadata": {}
   },
   "outputs": [],
   "source": [
    "def generate_output(\n",
    "        ar_model, \n",
    "        nar_model, \n",
    "        ar_tokenizer, \n",
    "        nar_tokenizer, \n",
    "        src_encodec: list, \n",
    "        instruction: list, \n",
    "        args_predict: SimpleNamespace, \n",
    "        episode_counter: int = 0, \n",
    "        base_path: str = \"/work/b0990106x/trl\", \n",
    "        temperature: float = 1.0\n",
    ") -> tuple[float, str]:\n",
    "    '''\n",
    "    Generates output from AR model, synthesize the audio, and evaluate the audio using NISQA.\n",
    "\n",
    "    Args:\n",
    "        ar_model(BartForConditionalGeneration): AR model\n",
    "        nar_model(NarbartForConditionalGeneration): NAR model\n",
    "        ar_tokenizer(AutoTokenizer): AR tokenizer\n",
    "        nar_tokenizer(AutoTokenizer): NAR tokenizer\n",
    "        src_encodec(list): A list of inputs, where each input is a list of layers, and each layer is a list of v_token integers.\n",
    "        instruction(list): A list of string of instructions.\n",
    "        args_predict(SimpleNamespace): A SimpleNamespace object containing the arguments for the NISQA prediction.\n",
    "        episode_counter(int): A counter that determine the name of the output audio.\n",
    "        base_path(str): The path to the base directory.\n",
    "        temperature(float): The temperature for the AR model.\n",
    "\n",
    "    Returns:\n",
    "        tuple:\n",
    "            reward(float): The reward of the audio.\n",
    "            tokenized_decode_ar(str): The tokenized output of the AR model - first layer.\n",
    "    '''\n",
    "    # Generate predictions using the AR model\n",
    "    _, decode_ar, output_path_ckpt = get_ar_prediction_v3(\n",
    "        args_predict, ar_model, nar_model, ar_tokenizer, nar_tokenizer, src_encodec, instruction, episode_counter, temperature=temperature\n",
    "    )\n",
    "\n",
    "    # Flatten the decoded AR output tensor and convert it to a list\n",
    "    list_decode_ar = decode_ar.flatten().tolist()   \n",
    "\n",
    "    # Evaluate the audio to get the reward\n",
    "    reward = get_reward(output_path_ckpt, base_path)\n",
    "    \n",
    "    # Filter the decoded AR output to remove special tokens\n",
    "    filtered_decode_ar_list = list_decode_ar[2:-1]\n",
    "\n",
    "    # Convert the filtered token IDs back to tokens and then to a string\n",
    "    decode_ar_tokens = ar_tokenizer.convert_ids_to_tokens(filtered_decode_ar_list)\n",
    "    tokenized_decode_ar = ar_tokenizer.convert_tokens_to_string(decode_ar_tokens)\n",
    "\n",
    "    return reward, tokenized_decode_ar\n",
    "\n",
    "def extract_data_from_json(file_path: str) -> Tuple[List[list], List[str], List[list]]:\n",
    "    \"\"\"\n",
    "    Loads data from a JSON file and extracts 'src_encodec', 'instruction', and 'tgt_encodec'.\n",
    "\n",
    "    Args:\n",
    "        file_path (str): The path to the JSON file.\n",
    "\n",
    "    Returns:\n",
    "        tuple:\n",
    "            all_src_encodec (List[list]): A list containing the 'src_encodec' data from each item in the JSON file.\n",
    "            all_instruction (List[str]): A list containing the 'instruction' data from each item in the JSON file.\n",
    "            all_tgt_encodec (List[list]): A list containing the 'tgt_encodec' data from each item in the JSON file.\n",
    "    \"\"\"\n",
    "    with open(file_path, 'r') as f:\n",
    "        data = json.load(f)\n",
    "\n",
    "    all_src_encodec = [item[\"src_encodec\"] for item in data]\n",
    "    all_instruction = [item[\"instruction\"] for item in data]\n",
    "    all_tgt_encodec = [item[\"tgt_encodec\"] for item in data]\n",
    "\n",
    "    return all_src_encodec, all_instruction, all_tgt_encodec\n",
    "\n",
    "def train_model(\n",
    "        model,\n",
    "        model_ref,\n",
    "        ar_tokenizer,\n",
    "        train_dataset: Dataset,\n",
    "        val_dataset: Dataset,\n",
    "        model_output_dir: str,\n",
    "        beta: float,\n",
    "        resume_from_checkpoint: bool,\n",
    "        model_checkpoint: str,\n",
    "        learning_rate: float = 5e-05,\n",
    "        num_train_epochs: int = 100,\n",
    "        max_length: int = 1024*9,\n",
    "        max_prompt_length: int = 1024*9,\n",
    "        max_target_length: int = 1024*9,\n",
    "        per_device_train_batch_size: int = 1,\n",
    "        gradient_accumulation_steps: int = 1,\n",
    "        seed: int = 42\n",
    ") -> None:\n",
    "    '''\n",
    "    Train the DPO model and save the model.\n",
    "\n",
    "    Args:\n",
    "        model(AutoModelForSeq2SeqLMWithValueHead): The DPO model.\n",
    "        model_ref(AutoModelForCausalLM): The reference model.\n",
    "        ar_tokenizer(AutoTokenizer): The tokenizer.\n",
    "        train_dataset(Dataset): The training dataset.\n",
    "        val_dataset(Dataset): The validation dataset.\n",
    "        model_output_dir(str): The output directory for the model.\n",
    "        beta(float): The beta value.\n",
    "        resume_from_checkpoint(bool): Whether to resume from a checkpoint.\n",
    "        model_checkpoint(str): The path to the model\n",
    "\n",
    "    Returns:\n",
    "        None\n",
    "    '''\n",
    "\n",
    "    training_args = DPOConfig(\n",
    "        beta = beta,\n",
    "        output_dir = model_output_dir,\n",
    "        generate_during_eval = True,\n",
    "        resume_from_checkpoint = model_checkpoint if resume_from_checkpoint else None,\n",
    "        seed = seed,\n",
    "        per_device_train_batch_size = per_device_train_batch_size,\n",
    "        num_train_epochs = num_train_epochs,\n",
    "        gradient_accumulation_steps = gradient_accumulation_steps,\n",
    "        learning_rate = learning_rate,\n",
    "        max_length = max_length,\n",
    "        max_prompt_length = max_prompt_length,\n",
    "        max_target_length = max_target_length\n",
    "    )\n",
    "    \n",
    "    trainer = DPOTrainer(\n",
    "        model=model,\n",
    "        ref_model=model_ref,\n",
    "        args=training_args,\n",
    "        tokenizer=ar_tokenizer,\n",
    "        train_dataset=train_dataset,\n",
    "        eval_dataset=val_dataset,\n",
    "    )\n",
    "    # Train the model\n",
    "    trainer.train()\n",
    "\n",
    "    # Save the model\n",
    "    trainer.save_model(f\"{model_output_dir}/dpo_model\")\n",
    "    model.config.to_json_file(f\"{model_output_dir}/dpo_model/config.json\")\n",
    "    ar_tokenizer.save_pretrained(f\"{model_output_dir}/dpo_model\")"
   ]
  },
  {
   "cell_type": "code",
   "execution_count": 3,
   "metadata": {
    "metadata": {}
   },
   "outputs": [],
   "source": [
    "def process_data(sample_size: int, \n",
    "                 ar_model, \n",
    "                 nar_model, \n",
    "                 ar_tokenizer, \n",
    "                 nar_tokenizer, \n",
    "                 all_src_encodec: List[list], \n",
    "                 all_instruction: List[str],\n",
    "                 args_predict: SimpleNamespace, \n",
    "                 base_path: str = \"/work/b0990106x/trl\", \n",
    "                 temperature: float = 1.0\n",
    "):\n",
    "    \"\"\"\n",
    "    Process data to generate outputs, calculate rewards, and organize chosen and rejected data.\n",
    "    \"\"\"\n",
    "    if sample_size < 2:\n",
    "        raise ValueError(\"Parameter 'sample_size' must be greater than 1.\")\n",
    "\n",
    "    chosen, rejected, prompts, chosen_rewards, rejected_rewards, average_rewards = [], [], [], [], [], []\n",
    "\n",
    "    for i in tqdm(range(len(all_src_encodec)), desc=\"Processing Data\"):\n",
    "        rewards, tokenized_outputs = [], []\n",
    "\n",
    "        for j in tqdm(range(sample_size), desc=\"Processing Samples\"):\n",
    "            size_of_packed_input = (\n",
    "                    len(all_src_encodec[i][0]) +\n",
    "                    len(ar_tokenizer(all_instruction[i])[\"input_ids\"][1:-1]) +\n",
    "                    3\n",
    "            )\n",
    "            if 4 < size_of_packed_input <= 1024:\n",
    "                reward, tokenized_decode_ar = generate_output(\n",
    "                    ar_model=ar_model, \n",
    "                    nar_model=nar_model, \n",
    "                    ar_tokenizer=ar_tokenizer, \n",
    "                    nar_tokenizer=nar_tokenizer,\n",
    "                    src_encodec = all_src_encodec[i],\n",
    "                    instruction=all_instruction[i], \n",
    "                    args_predict=args_predict,\n",
    "                    episode_counter=f\"data_{i}_episode_{j}\",\n",
    "                    base_path=base_path, \n",
    "                    temperature=temperature\n",
    "                )\n",
    "                rewards.append(reward)\n",
    "                tokenized_outputs.append(tokenized_decode_ar)\n",
    "\n",
    "        valid_rewards = [r for r in rewards if r is not None]\n",
    "        valid_outputs = [tokenized_outputs[j] for j in range(len(rewards)) if rewards[j] is not None]\n",
    "\n",
    "        if len(valid_rewards) >= 2:\n",
    "            max_reward_index = np.argmax(valid_rewards)\n",
    "            min_reward_index = np.argmin(valid_rewards)\n",
    "            average_reward = np.mean(valid_rewards)\n",
    "            chosen_output = valid_outputs[max_reward_index]\n",
    "            rejected_output = valid_outputs[min_reward_index]\n",
    "\n",
    "            obs_input = pack_inputs_v2(ar_tokenizer, all_src_encodec[i], all_instruction[i])\n",
    "            tokenize_input = ar_tokenizer.convert_ids_to_tokens(obs_input)\n",
    "            tokenize_input_str = ar_tokenizer.convert_tokens_to_string(tokenize_input)\n",
    "            prompts.append(tokenize_input_str)\n",
    "\n",
    "            chosen.append(chosen_output)\n",
    "            chosen_rewards.append(valid_rewards[max_reward_index])\n",
    "            rejected.append(rejected_output)\n",
    "            rejected_rewards.append(valid_rewards[min_reward_index])\n",
    "            average_rewards.append(average_reward)\n",
    "        else:\n",
    "            print(f\"Not enough valid rewards for data index {i}\")\n",
    "\n",
    "    # print(f\"{len(chosen)} datas are processed.\")\n",
    "    return chosen, rejected, prompts, chosen_rewards, rejected_rewards, average_rewards\n",
    "\n",
    "\n",
    "def generate_data(ar_model, \n",
    "                  ar_tokenizer, \n",
    "                  nar_model, \n",
    "                  nar_tokenizer, \n",
    "                  selected_src_encodec, \n",
    "                  selected_instruction,\n",
    "                  args_predict: SimpleNamespace, \n",
    "                  sample_size: int, \n",
    "                  iteration: int, \n",
    "                  agent_output_dir: str, \n",
    "                  base_path: str = \"/work/b0990106x/trl\", \n",
    "                  temperature: float = 1.0\n",
    "):\n",
    "    \"\"\"\n",
    "    Generates data for the dataset and saves info to a JSON file.\n",
    "    \"\"\"\n",
    "    chosen, rejected, prompts, chosen_rewards, rejected_rewards, average_rewards = process_data(\n",
    "        sample_size=sample_size,\n",
    "        ar_model=ar_model,\n",
    "        nar_model=nar_model,\n",
    "        ar_tokenizer=ar_tokenizer,\n",
    "        nar_tokenizer=nar_tokenizer,\n",
    "        all_src_encodec=selected_src_encodec,\n",
    "        all_instruction=selected_instruction,\n",
    "        args_predict=args_predict,\n",
    "        base_path=base_path,\n",
    "        temperature=temperature\n",
    "    )\n",
    "\n",
    "    data = {\n",
    "        \"prompt\": prompts,\n",
    "        \"chosen\": chosen,\n",
    "        \"rejected\": rejected,\n",
    "        \"chosen_rewards\": chosen_rewards,\n",
    "        \"rejected_rewards\": rejected_rewards,\n",
    "        \"average_rewards\": average_rewards\n",
    "    }\n",
    "\n",
    "    if len(selected_src_encodec) == 1:\n",
    "        data = {\n",
    "            \"prompt\": prompts + prompts,\n",
    "            \"chosen\": chosen + chosen,\n",
    "            \"rejected\": rejected + rejected,\n",
    "            \"chosen_rewards\": chosen_rewards + chosen_rewards,\n",
    "            \"rejected_rewards\": rejected_rewards + rejected_rewards,\n",
    "            \"average_rewards\": average_rewards + average_rewards\n",
    "        }\n",
    "\n",
    "    with open(f\"{agent_output_dir}/data_iter_{iteration}.json\", \"w\") as outfile:\n",
    "        json.dump(data, outfile, indent=4)\n",
    "\n",
    "    data_for_dataset = {key: data[key] for key in [\"prompt\", \"chosen\", \"rejected\"]}\n",
    "    return data_for_dataset, chosen_rewards, rejected_rewards\n",
    "\n",
    "def train_iteration(model_checkpoint, \n",
    "                    iteration, \n",
    "                    data_size, \n",
    "                    sample_size, \n",
    "                    ar_checkpoint, \n",
    "                    nar_checkpoint, \n",
    "                    all_src_encodec, \n",
    "                    all_instruction, \n",
    "                    args_predict, \n",
    "                    agent_output_dir,\n",
    "                    model_output_dir_base, \n",
    "                    beta = 0.1, \n",
    "                    temperature = 1.0,\n",
    "                    base_path=\"/work/b0990106x/trl\",\n",
    "                    resume_from_checkpoint = False\n",
    "):\n",
    "    \"\"\"\n",
    "    Executes one training iteration: generates data, trains the model, and saves the output.\n",
    "    \"\"\"\n",
    "    # print(f\"Iteration {iteration}\")\n",
    "\n",
    "    ar_model = BartForConditionalGeneration.from_pretrained(model_checkpoint)\n",
    "    ar_tokenizer = AutoTokenizer.from_pretrained(ar_checkpoint)\n",
    "    ar_tokenizer.pad_token = ar_tokenizer.eos_token\n",
    "    nar_model = NARBartForConditionalGeneration.from_pretrained(nar_checkpoint)\n",
    "    nar_tokenizer = AutoTokenizer.from_pretrained(nar_checkpoint)\n",
    "\n",
    "    selected_src_encodec = all_src_encodec[:data_size]\n",
    "    selected_instruction = all_instruction[:data_size]\n",
    "\n",
    "    data_for_dataset, chosen_rewards, rejected_rewards = generate_data(ar_model=ar_model,\n",
    "                                                                        ar_tokenizer=ar_tokenizer,\n",
    "                                                                        nar_model=nar_model,\n",
    "                                                                        nar_tokenizer=nar_tokenizer,\n",
    "                                                                        selected_src_encodec=selected_src_encodec,\n",
    "                                                                        selected_instruction=selected_instruction,\n",
    "                                                                        args_predict=args_predict,\n",
    "                                                                        sample_size=sample_size,\n",
    "                                                                        iteration=iteration,\n",
    "                                                                        agent_output_dir=agent_output_dir,\n",
    "                                                                        base_path=base_path,\n",
    "                                                                        temperature=temperature)\n",
    "\n",
    "    dataset = Dataset.from_dict(data_for_dataset)\n",
    "    dataset_dict = dataset.train_test_split(test_size=0.1)\n",
    "    train_dataset = dataset_dict[\"train\"]\n",
    "    val_dataset = dataset_dict[\"test\"]\n",
    "\n",
    "    model_output_dir = f\"{model_output_dir_base}/iter_{iteration}\"\n",
    "    os.makedirs(model_output_dir, exist_ok=True)\n",
    "\n",
    "    model = AutoModelForSeq2SeqLMWithValueHead.from_pretrained(model_checkpoint, return_dict=True)\n",
    "    model_ref = create_reference_model(model)\n",
    "\n",
    "    train_model(model=model,\n",
    "                model_ref=model_ref,\n",
    "                ar_tokenizer=ar_tokenizer,\n",
    "                train_dataset=train_dataset,\n",
    "                val_dataset=val_dataset,\n",
    "                model_output_dir=model_output_dir,\n",
    "                beta=beta,\n",
    "                resume_from_checkpoint=resume_from_checkpoint,\n",
    "                model_checkpoint=model_checkpoint)\n",
    "\n",
    "    return f\"{model_output_dir}/dpo_model\", chosen_rewards, rejected_rewards"
   ]
  },
  {
   "cell_type": "code",
   "execution_count": 4,
   "metadata": {
    "metadata": {}
   },
   "outputs": [
    {
     "name": "stdout",
     "output_type": "stream",
     "text": [
      "9254\n",
      "9254\n",
      "9254\n",
      "timestamp: 0725-1827\n",
      "length of all_src_encodec: 9254\n",
      "length of all_instruction: 9254\n"
     ]
    }
   ],
   "source": [
    "# Load all data\n",
    "all_src_encodec, all_instruction, all_tgt_encodec = extract_data_from_json('dpo_data/src_encodec.json')\n",
    "print(len(all_src_encodec))\n",
    "print(len(all_instruction))\n",
    "print(len(all_tgt_encodec))\n",
    "\n",
    "# Define paths and device\n",
    "base_path = \"/work/b0990106x/trl\"\n",
    "device = \"cuda\" if torch.cuda.is_available() else \"cpu\"\n",
    "\n",
    "# Define timestamp\n",
    "now = datetime.now()\n",
    "ts = now.strftime(\"%m%d-%H%M\")\n",
    "print(\"timestamp:\", ts)\n",
    "\n",
    "# Define paths\n",
    "model_output_dir = f\"{base_path}/model_output/{ts}\" # Location where the model are saved\n",
    "agent_input_dir = f\"{base_path}/data-encodec\" # Location of our original data(input) is stored\n",
    "agent_output_dir = f\"{base_path}/output/{ts}\" # Path of saving the generated audio for reward model to evaluate\n",
    "\n",
    "if not os.path.exists(model_output_dir):\n",
    "    os.makedirs(model_output_dir)\n",
    "\n",
    "if not os.path.exists(agent_output_dir):\n",
    "    os.makedirs(agent_output_dir)\n",
    "\n",
    "# Define arguments \n",
    "args_predict = SimpleNamespace(output_path=f\"{base_path}/output/{ts}/example.wav\", seed=0, device=device)\n",
    "ar_checkpoint = \"lca0503/speech-chatgpt-base-ar-v2-epoch10-wotrans\"\n",
    "nar_checkpoint = \"lca0503/speech-chatgpt-base-nar-v2-epoch4-wotrans\"\n",
    "\n",
    "# Define training parameters\n",
    "model_checkpoint = ar_checkpoint # set the initial model checkpoint\n",
    "initial_data_size =  1 # Training: data size for the first iteration\n",
    "data_size_per_iteration = 1 # Training: each iteration will train how many data\n",
    "total_data_size = 1 # Training: total data size that we want to train\n",
    "sample_size = 10 # Prepare Dataset: generate how many outputs to select max and min for chosen and rejected\n",
    "beta = 0.1 # Training: beta value for DPO\n",
    "num_iterations = 20  # Training: train how many iterations\n",
    "eval_selected_indices = [0] # Evaluation: evaluate which data from extract_data_from_json('dpo_data/src_encodec.json')\n",
    "eval_data_len = 1 # Evaluation: evaluate how many data\n",
    "\n",
    "# num_iterations = (total_data_size - initial_data_size) // data_size_per_iteration + 1 # Training: train how many iterations\n",
    "# eval_selected_indices = random.sample(range(len(all_src_encodec)), eval_data_len) # Evaluation: select 10 data for evaluation\n",
    "print(f\"length of all_src_encodec: {len(all_src_encodec)}\") # ~ 9000 data\n",
    "print(f\"length of all_instruction: {len(all_instruction)}\") # ~ 9000 data\n"
   ]
  },
  {
   "cell_type": "code",
   "execution_count": 5,
   "metadata": {
    "metadata": {}
   },
   "outputs": [
    {
     "name": "stdout",
     "output_type": "stream",
     "text": [
      "num_iterations: 20\n",
      "data_size_per_iteration: 1\n",
      "sample_size: 10\n",
      "beta: 0.1\n",
      "ar_checkpoint: lca0503/speech-chatgpt-base-ar-v2-epoch10-wotrans\n",
      "nar_checkpoint: lca0503/speech-chatgpt-base-nar-v2-epoch4-wotrans\n",
      "args_predict: namespace(output_path='/work/b0990106x/trl/output/0725-1827/example.wav', seed=0, device='cuda')\n",
      "model_output_dir: /work/b0990106x/trl/model_output/0725-1827\n",
      "agent_output_dir: /work/b0990106x/trl/output/0725-1827\n",
      "base_path: /work/b0990106x/trl\n",
      "device: cuda\n",
      "eval_data_len: 1\n",
      "eval_selected_indices: [0]\n",
      "Type of batch_src_encodec: <class 'list'>\n",
      "Type of batch_instruction: <class 'list'>\n",
      "[[[408, 835, 835, 798, 585, 550, 535, 535, 737, 737, 377, 556, 601, 787, 8, 99, 411, 411, 378, 937, 378, 937, 804, 838, 890, 934, 47, 438, 438, 731, 738, 133, 709, 479, 479, 479, 151, 940, 502, 906, 407, 645, 70, 208, 537, 537, 1022, 681, 723, 747, 593, 804, 681, 879, 136, 967, 233, 431, 754, 421, 182, 182, 651, 879, 887, 819, 904, 904, 887, 309, 880, 396, 754, 775, 997, 222, 336, 548, 841, 269, 479, 479, 940, 23, 56, 738, 835, 395, 206, 779, 531, 862, 931, 306, 203, 755, 369, 6, 466, 716, 948, 82, 575, 288, 556, 903, 556, 392, 796, 751, 835, 103, 25, 408, 835, 835, 339, 339, 395, 250, 706, 317, 479, 800, 960, 141, 479, 908, 801, 327, 937, 559, 708, 372, 372, 573, 437, 437, 421, 203, 739, 830, 739, 358, 830, 248, 411, 411, 112, 321, 23, 23, 185, 971, 62, 339, 461, 488, 934, 148, 373, 561, 681, 760, 531, 612, 699, 23, 967, 457, 790, 154, 906, 465, 502, 884, 479, 246, 820, 601, 309, 716, 314, 377, 309, 309, 556, 118, 99, 358, 1018, 862, 779, 62, 835, 25, 254, 254, 677, 73, 143, 696, 696, 321, 879, 23, 224, 523, 23, 835, 835, 835, 339, 59, 257, 819, 472, 835, 835, 835, 339, 835, 835, 339, 339, 428, 982, 869, 270, 435, 283, 804, 976, 875, 598, 353, 860, 409, 411, 601, 650, 495, 62, 835, 835, 141, 948, 82, 414, 658, 321, 224, 321, 931, 3, 99, 8, 220, 775, 739, 870, 830, 739, 830, 695, 695, 704, 208, 860, 1001, 982, 240, 593, 830, 411, 63, 855, 1017, 835, 835, 430, 339, 339, 339, 254, 254, 38, 677, 73, 868, 598, 563, 890, 598, 224, 598, 676, 860, 635, 310, 208, 224, 676, 491, 321, 699, 136, 432, 1019, 475, 537, 176, 176, 436, 373, 160, 709, 339, 339, 339, 339, 475, 537, 1017, 835, 835, 835], [747, 747, 424, 713, 367, 347, 52, 511, 284, 145, 817, 678, 136, 182, 854, 778, 804, 797, 678, 678, 1013, 202, 778, 460, 948, 228, 25, 456, 420, 204, 993, 646, 404, 824, 533, 227, 130, 459, 655, 578, 529, 529, 1002, 302, 809, 700, 504, 320, 245, 714, 650, 592, 228, 998, 406, 987, 31, 31, 392, 657, 595, 79, 79, 79, 928, 836, 200, 200, 700, 866, 118, 689, 139, 779, 149, 69, 238, 182, 847, 166, 512, 484, 750, 879, 14, 114, 544, 200, 781, 268, 4, 460, 961, 269, 281, 269, 486, 634, 511, 879, 836, 879, 76, 211, 118, 666, 884, 380, 327, 322, 1023, 182, 1023, 277, 87, 518, 913, 913, 200, 153, 529, 911, 777, 662, 602, 647, 662, 662, 276, 56, 475, 948, 685, 877, 194, 194, 726, 281, 584, 879, 951, 88, 220, 194, 245, 245, 122, 283, 588, 304, 153, 750, 460, 169, 161, 544, 994, 710, 867, 930, 544, 384, 245, 45, 945, 584, 961, 303, 987, 987, 26, 460, 870, 211, 118, 711, 182, 81, 685, 750, 750, 109, 795, 118, 118, 621, 581, 750, 486, 297, 996, 406, 904, 1023, 1023, 519, 154, 241, 364, 993, 71, 338, 754, 414, 833, 741, 285, 591, 395, 648, 747, 544, 544, 921, 870, 870, 580, 747, 747, 544, 937, 200, 200, 913, 928, 861, 773, 241, 902, 1005, 737, 878, 929, 844, 841, 583, 457, 216, 944, 182, 245, 367, 564, 603, 544, 409, 982, 726, 130, 878, 653, 812, 16, 431, 211, 879, 214, 139, 822, 555, 511, 766, 943, 76, 305, 76, 501, 588, 37, 669, 897, 746, 650, 202, 951, 460, 948, 747, 687, 942, 765, 404, 544, 913, 153, 973, 854, 930, 182, 628, 581, 904, 602, 102, 144, 904, 144, 870, 673, 870, 870, 529, 673, 519, 529, 964, 1023, 229, 200, 1023, 646, 857, 930, 1021, 168, 436, 857, 857, 857, 200, 200, 302, 740, 87, 277, 544, 200], [821, 989, 653, 601, 996, 249, 1006, 999, 462, 351, 254, 895, 589, 901, 286, 623, 629, 717, 389, 573, 901, 227, 227, 908, 133, 463, 160, 890, 1019, 270, 509, 752, 1000, 233, 233, 955, 955, 240, 201, 955, 955, 120, 893, 728, 863, 165, 880, 1019, 908, 23, 497, 728, 280, 58, 225, 603, 386, 161, 43, 912, 912, 390, 219, 872, 426, 1011, 856, 767, 771, 980, 871, 127, 249, 979, 812, 300, 467, 703, 481, 691, 43, 783, 227, 951, 777, 821, 829, 581, 493, 970, 593, 859, 269, 745, 603, 546, 598, 629, 917, 453, 516, 720, 891, 45, 862, 833, 614, 498, 45, 849, 936, 910, 821, 752, 937, 937, 653, 982, 643, 320, 286, 233, 145, 344, 47, 593, 346, 543, 81, 489, 298, 785, 555, 823, 806, 830, 143, 550, 551, 61, 930, 18, 905, 215, 658, 988, 204, 204, 623, 711, 13, 897, 817, 980, 989, 752, 255, 508, 434, 934, 808, 735, 732, 728, 728, 235, 39, 831, 647, 366, 485, 259, 870, 613, 613, 864, 6, 901, 498, 912, 168, 926, 921, 511, 302, 658, 944, 990, 694, 362, 790, 757, 454, 937, 821, 581, 813, 338, 711, 365, 348, 818, 449, 331, 316, 663, 364, 308, 981, 842, 936, 937, 653, 566, 365, 664, 730, 705, 36, 937, 752, 821, 678, 36, 678, 831, 912, 887, 72, 193, 303, 201, 250, 541, 613, 880, 983, 601, 111, 416, 237, 562, 228, 863, 915, 690, 631, 498, 9, 255, 879, 879, 843, 1000, 552, 912, 442, 552, 323, 127, 323, 162, 968, 704, 433, 389, 46, 212, 514, 1000, 246, 955, 762, 19, 484, 581, 551, 316, 414, 829, 937, 863, 752, 653, 260, 816, 813, 934, 326, 601, 145, 541, 598, 875, 364, 842, 863, 1021, 1021, 261, 39, 133, 508, 39, 126, 613, 797, 228, 1000, 480, 705, 432, 970, 1005, 723, 808, 821, 989, 653, 426, 678, 842, 601, 819, 937, 937, 678], [916, 919, 961, 597, 754, 277, 345, 566, 201, 118, 515, 640, 472, 29, 62, 761, 269, 269, 205, 265, 203, 62, 311, 366, 366, 395, 8, 162, 916, 178, 705, 105, 212, 855, 12, 691, 649, 530, 1016, 177, 27, 559, 653, 768, 105, 255, 61, 876, 515, 358, 538, 836, 742, 924, 931, 535, 3, 1001, 815, 405, 104, 657, 534, 361, 1012, 963, 777, 88, 866, 915, 474, 948, 81, 575, 256, 988, 230, 230, 531, 791, 548, 22, 148, 425, 1016, 809, 961, 853, 799, 625, 821, 510, 238, 726, 433, 477, 891, 660, 740, 265, 406, 330, 641, 68, 280, 68, 174, 160, 689, 224, 624, 752, 916, 919, 961, 1022, 741, 741, 651, 724, 282, 282, 1016, 81, 368, 162, 247, 664, 366, 110, 982, 315, 4, 412, 571, 985, 568, 1003, 28, 631, 462, 151, 967, 548, 461, 397, 898, 269, 295, 630, 976, 651, 62, 69, 105, 961, 876, 351, 178, 261, 940, 997, 929, 135, 130, 381, 535, 557, 812, 721, 502, 788, 548, 500, 791, 174, 612, 277, 461, 459, 429, 402, 237, 641, 32, 243, 862, 68, 840, 249, 834, 54, 236, 1018, 780, 74, 200, 87, 983, 510, 283, 958, 503, 211, 907, 958, 924, 200, 157, 686, 74, 673, 762, 675, 675, 926, 1014, 673, 1018, 215, 916, 651, 651, 762, 215, 1014, 835, 457, 282, 110, 827, 151, 364, 776, 941, 765, 1019, 991, 529, 693, 855, 1007, 1014, 651, 919, 526, 476, 981, 360, 902, 889, 961, 529, 766, 405, 802, 899, 143, 654, 409, 409, 654, 695, 51, 882, 709, 802, 426, 119, 734, 218, 329, 174, 1001, 855, 910, 842, 580, 962, 919, 734, 1022, 215, 1018, 874, 675, 651, 571, 79, 688, 876, 431, 571, 940, 79, 714, 171, 875, 49, 734, 659, 209, 1014, 962, 667, 211, 222, 714, 675, 739, 956, 993, 505, 881, 973, 318, 239, 854, 838, 398, 793, 1018, 919, 961, 961, 673, 673], [528, 528, 862, 38, 16, 566, 0, 589, 356, 698, 191, 854, 221, 702, 170, 849, 825, 966, 1021, 772, 1021, 78, 145, 489, 893, 954, 457, 660, 446, 1007, 719, 190, 379, 99, 268, 62, 363, 705, 145, 292, 518, 428, 399, 815, 714, 920, 981, 412, 537, 1022, 859, 29, 1021, 108, 379, 597, 747, 399, 858, 590, 502, 599, 42, 553, 907, 108, 989, 673, 616, 149, 9, 947, 648, 241, 11, 283, 169, 160, 789, 612, 175, 428, 1017, 510, 769, 111, 646, 907, 428, 367, 53, 457, 866, 263, 101, 514, 246, 352, 547, 656, 657, 159, 754, 1006, 1006, 368, 458, 392, 653, 178, 884, 336, 190, 528, 622, 190, 222, 222, 983, 34, 689, 961, 359, 614, 671, 296, 152, 614, 720, 112, 717, 470, 851, 483, 232, 950, 516, 175, 1021, 92, 542, 518, 267, 636, 784, 109, 674, 119, 97, 748, 415, 719, 142, 835, 190, 336, 862, 435, 949, 283, 540, 711, 0, 561, 68, 978, 920, 635, 616, 831, 806, 693, 444, 285, 458, 559, 874, 747, 128, 99, 523, 23, 704, 1001, 562, 947, 289, 845, 471, 398, 234, 901, 939, 528, 211, 211, 907, 373, 432, 966, 877, 680, 336, 388, 3, 963, 357, 725, 894, 882, 407, 528, 446, 235, 749, 131, 379, 884, 622, 407, 222, 407, 622, 222, 222, 818, 261, 821, 9, 579, 982, 423, 604, 413, 742, 311, 1007, 919, 188, 958, 958, 261, 904, 900, 646, 742, 771, 493, 247, 859, 463, 1007, 606, 805, 976, 293, 999, 232, 178, 553, 583, 67, 929, 481, 323, 757, 228, 725, 736, 360, 360, 553, 34, 675, 395, 747, 748, 435, 904, 646, 454, 222, 222, 222, 645, 139, 742, 809, 882, 742, 1019, 421, 188, 953, 680, 379, 990, 472, 211, 379, 951, 379, 416, 749, 885, 379, 714, 382, 1007, 190, 963, 379, 862, 379, 190, 694, 407, 646, 407, 714, 804, 646, 446, 646, 407, 622, 622], [903, 19, 986, 1011, 948, 317, 455, 299, 333, 330, 330, 158, 466, 926, 539, 550, 730, 85, 173, 591, 152, 500, 154, 861, 259, 595, 656, 185, 602, 602, 673, 683, 683, 247, 57, 967, 918, 24, 866, 348, 545, 876, 398, 430, 768, 995, 814, 20, 63, 123, 371, 614, 666, 189, 885, 710, 381, 933, 53, 445, 309, 945, 443, 883, 732, 450, 634, 150, 634, 646, 839, 835, 777, 192, 765, 574, 772, 869, 196, 756, 355, 69, 936, 467, 546, 692, 350, 350, 441, 479, 98, 825, 923, 924, 760, 152, 453, 878, 158, 103, 154, 761, 942, 201, 820, 945, 942, 828, 251, 302, 178, 640, 1005, 412, 41, 692, 435, 41, 410, 506, 466, 133, 759, 887, 175, 532, 545, 255, 627, 265, 115, 960, 602, 996, 120, 214, 594, 818, 574, 167, 924, 305, 333, 158, 836, 255, 67, 226, 729, 1022, 964, 27, 448, 602, 236, 494, 120, 23, 723, 350, 946, 875, 313, 431, 55, 745, 713, 164, 801, 12, 439, 583, 1017, 723, 375, 977, 994, 471, 954, 167, 865, 898, 205, 466, 646, 780, 590, 12, 529, 657, 816, 317, 76, 701, 412, 96, 103, 96, 917, 536, 1010, 508, 918, 611, 768, 298, 624, 624, 163, 478, 293, 41, 692, 451, 236, 140, 982, 477, 293, 986, 1011, 435, 881, 140, 982, 587, 456, 667, 193, 819, 988, 546, 178, 300, 614, 782, 140, 848, 668, 1017, 163, 886, 928, 929, 881, 614, 408, 587, 776, 913, 669, 931, 634, 710, 516, 766, 936, 741, 820, 455, 148, 231, 436, 143, 706, 44, 593, 960, 546, 967, 236, 328, 606, 591, 621, 61, 995, 995, 763, 881, 41, 1011, 435, 41, 593, 610, 644, 96, 131, 914, 588, 3, 819, 484, 611, 506, 644, 357, 337, 236, 178, 233, 917, 917, 692, 430, 178, 863, 350, 632, 982, 412, 484, 851, 386, 592, 851, 334, 314, 293, 315, 412, 763, 881, 1005, 939, 986], [365, 570, 1002, 983, 727, 492, 769, 566, 1009, 79, 97, 258, 439, 706, 308, 509, 768, 384, 57, 439, 533, 608, 110, 465, 362, 230, 261, 114, 489, 671, 32, 570, 453, 941, 130, 637, 882, 669, 856, 439, 439, 408, 319, 389, 82, 896, 365, 698, 270, 225, 626, 289, 1023, 696, 778, 41, 807, 457, 97, 659, 658, 299, 362, 711, 143, 876, 243, 994, 834, 864, 370, 362, 279, 664, 313, 1001, 104, 974, 698, 972, 865, 891, 124, 445, 880, 552, 983, 291, 329, 373, 489, 606, 667, 248, 710, 222, 584, 56, 525, 296, 591, 577, 296, 461, 882, 264, 1008, 868, 331, 151, 677, 225, 447, 896, 772, 772, 528, 772, 755, 964, 451, 777, 103, 114, 424, 805, 223, 587, 642, 193, 509, 599, 819, 560, 836, 957, 778, 468, 396, 155, 2, 1021, 362, 260, 865, 802, 147, 404, 903, 372, 932, 384, 190, 799, 562, 485, 847, 478, 938, 525, 983, 493, 768, 469, 19, 385, 616, 566, 566, 865, 326, 419, 188, 36, 765, 979, 821, 454, 733, 286, 437, 964, 321, 899, 201, 434, 274, 920, 509, 720, 135, 396, 390, 983, 900, 743, 114, 3, 795, 1008, 905, 20, 876, 406, 484, 684, 32, 145, 777, 380, 748, 365, 772, 841, 495, 547, 453, 772, 782, 365, 772, 853, 764, 1002, 528, 403, 802, 102, 212, 386, 574, 558, 28, 880, 480, 828, 547, 435, 316, 579, 746, 243, 944, 764, 896, 799, 774, 472, 542, 128, 993, 526, 526, 342, 829, 612, 1021, 179, 469, 346, 317, 119, 82, 720, 509, 126, 51, 339, 628, 566, 328, 390, 135, 848, 163, 728, 262, 936, 360, 444, 365, 755, 772, 485, 319, 316, 202, 562, 447, 406, 351, 761, 655, 32, 35, 491, 390, 78, 831, 903, 291, 876, 908, 453, 809, 928, 998, 1015, 485, 485, 794, 510, 327, 674, 858, 453, 764, 764, 764, 748, 928, 860, 925, 772, 853, 1002, 853], [989, 937, 173, 800, 886, 230, 101, 738, 378, 297, 770, 993, 565, 231, 894, 317, 189, 756, 253, 409, 496, 310, 199, 740, 863, 194, 429, 534, 534, 891, 173, 237, 173, 235, 891, 474, 83, 408, 233, 762, 842, 279, 884, 889, 1018, 859, 326, 878, 399, 480, 439, 746, 354, 718, 28, 133, 804, 288, 687, 491, 751, 148, 326, 656, 567, 940, 600, 764, 961, 396, 500, 141, 480, 862, 312, 593, 348, 512, 50, 373, 201, 194, 649, 7, 201, 249, 701, 294, 831, 955, 474, 199, 920, 432, 631, 716, 742, 1007, 386, 375, 274, 300, 371, 1010, 636, 28, 188, 133, 619, 239, 793, 516, 429, 467, 628, 899, 701, 518, 393, 249, 65, 168, 676, 713, 361, 881, 395, 613, 810, 364, 606, 625, 919, 707, 431, 412, 841, 807, 960, 719, 843, 586, 83, 406, 451, 610, 656, 684, 243, 175, 1000, 484, 893, 744, 472, 518, 1013, 137, 363, 425, 622, 665, 363, 157, 1015, 176, 835, 0, 859, 688, 537, 4, 839, 615, 42, 31, 225, 889, 708, 164, 574, 602, 699, 614, 260, 754, 231, 675, 384, 491, 76, 529, 583, 878, 628, 467, 315, 803, 311, 875, 884, 825, 178, 855, 611, 479, 390, 400, 622, 751, 475, 975, 475, 495, 563, 828, 788, 828, 989, 989, 989, 237, 237, 475, 948, 244, 991, 946, 513, 181, 323, 428, 322, 326, 617, 1018, 768, 868, 656, 255, 1015, 1018, 628, 1019, 701, 945, 474, 929, 254, 357, 744, 859, 887, 647, 658, 548, 827, 850, 783, 334, 249, 7, 552, 894, 367, 999, 407, 884, 694, 455, 479, 802, 745, 426, 491, 231, 1012, 563, 12, 937, 1019, 937, 975, 700, 480, 1019, 1013, 280, 870, 686, 574, 850, 780, 27, 31, 522, 150, 145, 583, 326, 628, 8, 472, 591, 472, 991, 516, 309, 989, 173, 832, 315, 845, 639, 700, 315, 357, 916, 916, 583, 173, 55, 617, 701, 475, 989, 899]], [[835, 835, 835, 126, 276, 677, 409, 460, 522, 682, 924, 477, 816, 704, 976, 106, 25, 1021, 552, 301, 301, 448, 186, 934, 574, 47, 438, 133, 430, 856, 877, 800, 830, 997, 997, 358, 850, 846, 233, 846, 206, 602, 62, 62, 834, 339, 63, 602, 887, 798, 339, 834, 976, 835, 335, 276, 462, 400, 776, 642, 368, 858, 424, 598, 860, 724, 999, 887, 835, 144, 151, 151, 25, 875, 1021, 901, 813, 424, 598, 321, 679, 955, 901, 838, 552, 695, 695, 501, 432, 339, 1019, 910, 839, 261, 481, 870, 695, 695, 51, 233, 904, 865, 629, 62, 835, 339, 372, 492, 74, 982, 922, 835, 25, 25, 408, 202, 38, 747, 754, 926, 984, 387, 434, 880, 358, 358, 941, 870, 387, 739, 870, 387, 99, 387, 348, 688, 990, 886, 613, 385, 185, 23, 62, 835, 141, 157, 62, 835, 835, 339, 662, 564, 372, 372, 984, 437, 437, 754, 358, 248, 754, 838, 813, 465, 407, 588, 431, 956, 154, 782, 862, 136, 255, 858, 931, 588, 317, 317, 154, 1021, 838, 813, 385, 804, 925, 722, 385, 679, 843, 977, 977, 495, 495, 862, 843, 495, 523, 901, 136, 967, 491, 604, 148, 148, 574, 160, 160, 731, 106, 472, 723, 812, 82, 6, 532, 451, 681, 926, 868, 862, 1022, 676, 901, 722, 575, 755, 694, 984, 923, 862, 1022, 23, 666, 1022, 907, 651, 431, 659, 1000, 701, 929, 186, 681, 306, 1022, 862, 1022, 875, 1008, 431, 465, 790, 411, 588, 612, 360, 47, 47, 438, 229, 133, 780, 835, 835, 537, 937, 747, 11, 875, 283, 954, 99, 411, 479, 479, 59, 317, 407, 317, 385, 502, 495, 408, 1019, 339, 499, 408, 779, 835, 339, 213, 967, 982, 598, 679, 954, 6, 320, 259, 368, 780, 408, 63, 573, 965, 378, 645, 901, 843, 23, 523, 321, 224, 432, 62, 835, 835, 676, 779, 835, 835, 339, 835, 835, 339, 339, 339, 835, 835, 835, 339, 339, 835, 339, 339, 339], [747, 747, 200, 200, 200, 870, 519, 662, 604, 662, 881, 604, 968, 685, 619, 617, 458, 868, 157, 523, 286, 598, 283, 873, 184, 241, 807, 648, 278, 771, 482, 406, 163, 559, 607, 194, 631, 305, 88, 89, 563, 893, 747, 747, 516, 646, 941, 648, 870, 870, 841, 743, 430, 544, 806, 703, 865, 570, 165, 666, 962, 284, 220, 303, 776, 740, 1023, 277, 896, 861, 480, 754, 4, 602, 365, 281, 754, 129, 161, 282, 259, 37, 672, 281, 671, 281, 310, 281, 811, 693, 161, 466, 538, 245, 228, 194, 515, 681, 64, 431, 836, 747, 785, 747, 544, 913, 216, 706, 316, 347, 700, 747, 1023, 241, 747, 919, 928, 773, 854, 956, 245, 305, 761, 400, 563, 64, 459, 761, 245, 245, 245, 245, 64, 284, 202, 182, 712, 220, 136, 136, 727, 190, 102, 161, 497, 1023, 747, 747, 544, 913, 861, 228, 1023, 228, 1, 878, 515, 726, 563, 584, 406, 448, 268, 26, 130, 588, 408, 357, 75, 869, 998, 674, 441, 651, 281, 703, 130, 211, 529, 662, 904, 232, 966, 199, 727, 446, 931, 678, 727, 678, 182, 368, 43, 719, 738, 457, 678, 6, 864, 870, 580, 870, 419, 930, 993, 200, 1002, 226, 993, 870, 719, 7, 392, 95, 666, 824, 939, 822, 946, 920, 1023, 177, 102, 371, 943, 220, 558, 281, 108, 482, 406, 765, 266, 241, 669, 266, 405, 907, 943, 233, 233, 37, 888, 833, 727, 584, 551, 302, 176, 81, 26, 869, 281, 472, 367, 690, 892, 984, 857, 411, 993, 740, 544, 544, 860, 153, 655, 929, 897, 879, 347, 347, 714, 879, 199, 520, 944, 345, 451, 186, 826, 778, 655, 896, 829, 713, 601, 861, 646, 913, 713, 1023, 303, 392, 606, 367, 347, 817, 476, 414, 753, 747, 463, 153, 182, 460, 178, 738, 85, 944, 738, 414, 864, 743, 1023, 544, 200, 241, 87, 544, 200, 544, 424, 200, 544, 544, 913, 200, 200, 544, 913, 913, 424, 913, 913, 913], [752, 819, 678, 423, 263, 255, 313, 735, 851, 114, 714, 888, 436, 606, 833, 730, 1022, 629, 303, 820, 203, 333, 488, 352, 1019, 1005, 392, 893, 852, 991, 822, 757, 115, 542, 295, 650, 389, 107, 616, 239, 282, 225, 857, 936, 967, 678, 426, 480, 989, 892, 989, 678, 675, 786, 893, 841, 573, 80, 552, 851, 221, 732, 527, 664, 458, 1007, 818, 863, 196, 3, 816, 983, 228, 932, 697, 795, 582, 851, 1022, 501, 981, 241, 861, 326, 997, 559, 823, 497, 970, 454, 454, 547, 119, 702, 703, 244, 249, 277, 249, 901, 728, 551, 618, 989, 937, 653, 541, 314, 728, 38, 936, 36, 592, 414, 982, 758, 863, 255, 500, 465, 421, 505, 680, 656, 919, 694, 500, 497, 979, 421, 598, 988, 546, 828, 255, 735, 244, 0, 998, 334, 254, 801, 675, 894, 234, 690, 936, 821, 937, 196, 392, 667, 154, 753, 831, 927, 641, 67, 303, 280, 309, 658, 582, 585, 864, 257, 321, 244, 703, 657, 814, 460, 37, 37, 952, 603, 613, 851, 945, 90, 533, 356, 127, 140, 883, 902, 893, 738, 1018, 172, 870, 644, 82, 790, 1019, 618, 859, 711, 711, 204, 228, 904, 647, 813, 196, 432, 432, 915, 989, 212, 178, 760, 94, 467, 562, 162, 485, 237, 225, 562, 480, 868, 981, 960, 162, 438, 663, 485, 746, 5, 879, 23, 359, 33, 728, 831, 831, 722, 614, 467, 977, 467, 79, 577, 777, 947, 510, 878, 825, 593, 279, 691, 516, 525, 703, 652, 872, 432, 821, 196, 432, 989, 653, 678, 915, 846, 714, 593, 341, 282, 282, 875, 120, 170, 990, 613, 988, 613, 901, 613, 170, 623, 675, 228, 936, 898, 813, 414, 937, 36, 910, 730, 508, 843, 879, 249, 773, 201, 762, 508, 632, 618, 601, 327, 538, 909, 550, 910, 589, 548, 375, 843, 589, 187, 937, 937, 36, 581, 454, 989, 752, 36, 937, 678, 36, 819, 653, 936, 678, 937, 653, 989, 937, 36, 36, 36], [762, 854, 215, 866, 887, 721, 664, 666, 322, 96, 453, 67, 873, 41, 823, 529, 941, 359, 931, 870, 181, 234, 439, 874, 759, 721, 105, 1023, 364, 340, 549, 559, 38, 4, 612, 900, 214, 633, 151, 45, 343, 597, 261, 739, 54, 1018, 916, 485, 704, 945, 961, 1018, 54, 838, 631, 393, 842, 300, 344, 829, 335, 271, 909, 868, 388, 519, 1019, 749, 859, 901, 849, 945, 995, 659, 317, 559, 316, 124, 278, 780, 599, 1000, 951, 615, 232, 985, 85, 242, 335, 734, 1022, 521, 489, 654, 641, 282, 489, 151, 629, 118, 461, 680, 384, 916, 673, 762, 36, 182, 694, 504, 961, 916, 444, 222, 673, 210, 940, 261, 282, 530, 629, 770, 611, 855, 177, 736, 538, 345, 771, 269, 966, 407, 805, 980, 415, 51, 313, 177, 640, 805, 599, 722, 757, 558, 988, 33, 1018, 215, 673, 741, 293, 874, 934, 674, 976, 738, 770, 943, 177, 1007, 345, 177, 124, 345, 397, 654, 110, 349, 940, 698, 750, 714, 830, 835, 54, 972, 208, 831, 604, 430, 703, 694, 427, 571, 941, 177, 548, 24, 524, 776, 472, 198, 920, 211, 519, 599, 954, 845, 1012, 788, 793, 962, 335, 1014, 624, 854, 443, 764, 762, 727, 769, 508, 472, 345, 698, 892, 97, 470, 938, 656, 209, 38, 200, 347, 175, 688, 970, 602, 618, 560, 699, 618, 515, 236, 358, 327, 931, 197, 479, 312, 557, 445, 791, 164, 1009, 604, 674, 950, 931, 1021, 499, 932, 20, 551, 698, 618, 961, 854, 961, 318, 510, 762, 1019, 215, 866, 856, 345, 433, 643, 218, 343, 498, 282, 20, 269, 177, 931, 411, 915, 62, 855, 674, 961, 780, 956, 854, 739, 854, 919, 1018, 680, 228, 842, 124, 618, 304, 282, 978, 805, 836, 941, 963, 980, 31, 661, 366, 719, 531, 174, 54, 757, 756, 961, 859, 919, 1019, 651, 956, 756, 866, 673, 1022, 741, 651, 866, 762, 741, 215, 673, 741, 741, 838, 741, 762, 741, 741], [528, 448, 375, 89, 505, 967, 612, 265, 849, 383, 359, 418, 607, 206, 844, 958, 379, 546, 140, 395, 1008, 853, 885, 311, 162, 379, 944, 864, 413, 367, 60, 106, 772, 864, 144, 502, 452, 973, 502, 502, 703, 391, 736, 683, 49, 904, 457, 67, 861, 605, 446, 454, 983, 528, 346, 354, 560, 738, 660, 335, 977, 995, 420, 739, 861, 446, 375, 641, 907, 145, 742, 660, 742, 90, 226, 934, 428, 515, 373, 815, 620, 864, 616, 794, 628, 346, 774, 147, 974, 719, 904, 191, 751, 0, 319, 651, 285, 42, 553, 874, 981, 379, 337, 353, 528, 646, 705, 184, 710, 22, 435, 804, 446, 373, 190, 813, 747, 954, 39, 681, 696, 327, 1001, 727, 845, 426, 74, 994, 479, 467, 319, 510, 525, 319, 607, 671, 46, 398, 107, 180, 145, 931, 862, 990, 558, 131, 375, 446, 622, 375, 638, 382, 605, 975, 915, 881, 302, 741, 845, 480, 628, 599, 56, 29, 70, 272, 212, 697, 364, 409, 667, 714, 410, 778, 475, 191, 42, 788, 50, 891, 540, 979, 843, 355, 294, 157, 80, 903, 109, 48, 677, 715, 552, 785, 356, 685, 700, 673, 984, 572, 886, 378, 435, 963, 153, 153, 951, 812, 646, 981, 366, 860, 679, 846, 888, 811, 272, 151, 890, 325, 416, 353, 897, 106, 559, 858, 635, 58, 246, 735, 416, 868, 407, 213, 836, 866, 766, 335, 655, 359, 56, 281, 80, 299, 658, 255, 614, 353, 345, 668, 818, 397, 583, 4, 650, 203, 213, 198, 379, 963, 683, 528, 446, 528, 812, 440, 493, 816, 951, 658, 147, 358, 693, 42, 853, 209, 398, 188, 575, 427, 700, 399, 719, 882, 413, 701, 190, 446, 190, 222, 962, 457, 412, 728, 191, 893, 663, 139, 1022, 744, 195, 900, 664, 781, 263, 755, 964, 616, 489, 625, 836, 817, 984, 966, 528, 622, 407, 247, 211, 528, 862, 222, 622, 190, 222, 222, 407, 407, 190, 190, 222, 222, 407, 407, 222, 222], [1011, 1011, 412, 435, 450, 796, 58, 150, 942, 347, 848, 713, 621, 303, 134, 692, 701, 59, 953, 770, 366, 388, 940, 67, 668, 665, 863, 692, 293, 282, 889, 816, 50, 445, 100, 61, 384, 61, 356, 490, 738, 738, 763, 477, 995, 567, 675, 720, 690, 348, 683, 851, 692, 701, 405, 179, 562, 628, 581, 918, 290, 991, 285, 611, 781, 178, 390, 763, 140, 514, 67, 536, 398, 150, 176, 1008, 380, 96, 828, 608, 91, 145, 393, 558, 587, 694, 429, 61, 420, 699, 885, 153, 442, 813, 482, 707, 255, 586, 57, 984, 708, 1005, 552, 881, 881, 881, 55, 1015, 107, 665, 412, 995, 692, 293, 477, 342, 444, 650, 718, 680, 980, 353, 869, 617, 385, 969, 123, 3, 831, 479, 375, 11, 44, 184, 765, 486, 976, 524, 407, 987, 850, 987, 178, 632, 280, 917, 140, 435, 96, 41, 663, 870, 656, 456, 665, 990, 301, 617, 815, 877, 91, 339, 918, 532, 271, 868, 659, 688, 184, 376, 626, 213, 938, 213, 373, 472, 918, 848, 942, 768, 662, 945, 24, 34, 799, 723, 348, 960, 442, 735, 448, 349, 735, 80, 363, 484, 20, 964, 624, 972, 350, 903, 348, 897, 863, 814, 595, 236, 825, 140, 817, 732, 916, 55, 766, 660, 390, 369, 743, 826, 705, 763, 502, 326, 585, 633, 861, 175, 870, 669, 380, 866, 665, 20, 478, 347, 843, 143, 308, 260, 511, 535, 543, 765, 35, 446, 665, 1022, 844, 44, 530, 92, 443, 947, 489, 120, 315, 150, 334, 236, 293, 851, 41, 41, 718, 890, 953, 233, 350, 537, 831, 792, 621, 437, 681, 237, 540, 1018, 936, 675, 1016, 381, 987, 505, 632, 1007, 910, 763, 692, 41, 801, 800, 882, 335, 736, 457, 116, 724, 27, 788, 614, 386, 373, 597, 566, 372, 159, 375, 271, 692, 889, 450, 406, 692, 692, 692, 939, 683, 614, 692, 692, 986, 986, 881, 41, 683, 41, 986, 41, 986, 435, 41, 939, 692, 41, 986], [977, 853, 782, 900, 365, 365, 553, 691, 60, 36, 888, 953, 362, 519, 352, 453, 586, 546, 74, 740, 493, 440, 811, 424, 794, 977, 566, 896, 786, 260, 674, 123, 101, 911, 639, 999, 555, 387, 344, 138, 230, 911, 454, 977, 408, 1013, 453, 946, 940, 860, 755, 905, 485, 748, 30, 60, 163, 829, 280, 950, 342, 408, 799, 861, 588, 936, 186, 767, 547, 656, 659, 390, 858, 447, 427, 999, 775, 680, 914, 998, 957, 531, 874, 659, 671, 911, 424, 1016, 495, 495, 1015, 393, 955, 160, 511, 314, 759, 273, 747, 558, 396, 531, 778, 977, 1002, 562, 876, 696, 636, 664, 994, 936, 124, 516, 772, 812, 851, 638, 794, 439, 892, 287, 209, 855, 914, 651, 16, 461, 25, 579, 681, 602, 911, 1005, 296, 426, 857, 627, 705, 402, 440, 593, 905, 782, 11, 508, 772, 755, 772, 528, 403, 861, 31, 993, 850, 416, 931, 557, 914, 837, 205, 904, 422, 573, 163, 399, 536, 891, 1, 685, 520, 594, 409, 300, 60, 792, 176, 637, 439, 370, 716, 422, 930, 124, 352, 668, 666, 668, 219, 504, 504, 329, 1017, 439, 741, 409, 628, 590, 711, 82, 905, 936, 169, 67, 327, 562, 755, 665, 764, 531, 630, 682, 482, 264, 524, 913, 823, 438, 970, 995, 243, 453, 824, 547, 766, 659, 792, 946, 658, 63, 374, 942, 294, 576, 368, 331, 384, 393, 416, 0, 594, 756, 953, 364, 481, 67, 897, 485, 406, 589, 515, 95, 636, 753, 932, 72, 339, 665, 380, 628, 1006, 853, 853, 900, 905, 728, 339, 933, 822, 298, 442, 435, 785, 594, 571, 533, 446, 332, 123, 354, 705, 243, 114, 764, 748, 379, 380, 834, 896, 772, 374, 890, 499, 1006, 937, 216, 330, 453, 408, 422, 453, 874, 327, 327, 104, 456, 326, 232, 978, 349, 628, 298, 1008, 896, 944, 853, 562, 977, 406, 896, 977, 772, 570, 772, 772, 1002, 782, 860, 853, 900, 528, 755, 1002, 782, 528, 772], [899, 534, 975, 835, 1013, 364, 442, 612, 904, 364, 1008, 375, 567, 130, 619, 818, 670, 543, 180, 402, 231, 157, 782, 803, 197, 282, 288, 837, 870, 107, 421, 350, 865, 987, 842, 208, 194, 614, 224, 538, 274, 790, 404, 660, 768, 989, 534, 330, 781, 495, 603, 416, 628, 947, 12, 769, 941, 939, 202, 219, 426, 146, 733, 309, 845, 173, 558, 671, 989, 110, 768, 388, 950, 414, 148, 850, 776, 780, 326, 559, 93, 583, 725, 380, 730, 138, 738, 771, 937, 505, 598, 714, 941, 703, 754, 157, 798, 810, 319, 663, 600, 559, 608, 989, 1018, 475, 455, 471, 331, 625, 1013, 828, 878, 628, 534, 792, 233, 615, 110, 793, 661, 679, 738, 382, 323, 2, 725, 474, 756, 292, 233, 630, 572, 551, 950, 694, 839, 217, 529, 575, 402, 256, 468, 383, 194, 598, 989, 975, 518, 534, 161, 941, 974, 240, 382, 763, 181, 641, 591, 231, 308, 591, 182, 507, 409, 446, 15, 901, 773, 156, 388, 880, 878, 1012, 832, 350, 557, 297, 977, 64, 561, 498, 661, 645, 172, 712, 136, 181, 625, 887, 838, 792, 843, 289, 1018, 539, 916, 455, 711, 271, 31, 679, 633, 429, 450, 788, 393, 466, 534, 429, 399, 735, 26, 949, 371, 38, 756, 865, 881, 292, 776, 559, 822, 481, 287, 274, 499, 397, 749, 43, 113, 691, 560, 617, 851, 658, 950, 1000, 381, 889, 27, 928, 393, 935, 957, 990, 508, 413, 91, 210, 225, 31, 1016, 816, 802, 595, 246, 326, 997, 712, 568, 701, 989, 393, 832, 694, 565, 696, 458, 402, 1015, 953, 253, 232, 150, 744, 758, 627, 330, 377, 864, 262, 322, 237, 1012, 206, 989, 832, 701, 701, 399, 323, 273, 1018, 155, 817, 767, 566, 526, 833, 788, 989, 970, 737, 381, 339, 443, 593, 16, 617, 625, 280, 628, 768, 989, 475, 237, 628, 832, 828, 832, 832, 989, 948, 975, 948, 173, 832, 948, 989, 475, 475, 701, 701, 948, 475]]]\n",
      "['Play the audio twice.', 'Mildly decrease the emphasis on the higher frequencies.']\n"
     ]
    }
   ],
   "source": [
    "print(f\"num_iterations: {num_iterations}\")\n",
    "print(f\"data_size_per_iteration: {data_size_per_iteration}\")\n",
    "print(f\"sample_size: {sample_size}\")\n",
    "print(f\"beta: {beta}\")\n",
    "print(f\"ar_checkpoint: {ar_checkpoint}\")\n",
    "print(f\"nar_checkpoint: {nar_checkpoint}\")\n",
    "print(f\"args_predict: {args_predict}\")\n",
    "print(f\"model_output_dir: {model_output_dir}\")\n",
    "print(f\"agent_output_dir: {agent_output_dir}\")\n",
    "print(f\"base_path: {base_path}\")\n",
    "print(f\"device: {device}\")\n",
    "print(f\"eval_data_len: {eval_data_len}\")\n",
    "print(f\"eval_selected_indices: {eval_selected_indices}\")\n",
    "print(\"Type of batch_src_encodec:\", type(all_src_encodec))\n",
    "print(\"Type of batch_instruction:\", type(all_instruction))\n",
    "print(all_src_encodec[0:2])\n",
    "print(all_instruction[0:2])\n"
   ]
  },
  {
   "cell_type": "code",
   "execution_count": 6,
   "metadata": {
    "metadata": {}
   },
   "outputs": [
    {
     "name": "stderr",
     "output_type": "stream",
     "text": [
      "/home/b0990106x/miniconda3/envs/trl/lib/python3.10/site-packages/huggingface_hub/file_download.py:1132: FutureWarning: `resume_download` is deprecated and will be removed in version 1.0.0. Downloads always resume when possible. If you want to force a new download, use `force_download=True`.\n",
      "  warnings.warn(\n",
      "/home/b0990106x/miniconda3/envs/trl/lib/python3.10/site-packages/torch/nn/utils/weight_norm.py:28: UserWarning: torch.nn.utils.weight_norm is deprecated in favor of torch.nn.utils.parametrizations.weight_norm.\n",
      "  warnings.warn(\"torch.nn.utils.weight_norm is deprecated in favor of torch.nn.utils.parametrizations.weight_norm.\")\n"
     ]
    },
    {
     "name": "stdout",
     "output_type": "stream",
     "text": [
      "Episode eval_-1_data_0 : audio saved to  /work/b0990106x/trl/output/0725-1827/example_save_eval_-1_data_0.wav\n"
     ]
    },
    {
     "name": "stderr",
     "output_type": "stream",
     "text": [
      "/home/b0990106x/miniconda3/envs/trl/lib/python3.10/site-packages/librosa/feature/spectral.py:2143: UserWarning: Empty filters detected in mel frequency basis. Some channels will produce empty responses. Try increasing your sampling rate (and fmax) or reducing n_mels.\n",
      "  mel_basis = filters.mel(sr=sr, n_fft=n_fft, **kwargs)\n",
      "/home/b0990106x/miniconda3/envs/trl/lib/python3.10/site-packages/torch/nn/utils/weight_norm.py:28: UserWarning: torch.nn.utils.weight_norm is deprecated in favor of torch.nn.utils.parametrizations.weight_norm.\n",
      "  warnings.warn(\"torch.nn.utils.weight_norm is deprecated in favor of torch.nn.utils.parametrizations.weight_norm.\")\n"
     ]
    },
    {
     "name": "stdout",
     "output_type": "stream",
     "text": [
      "Episode eval_-1_data_0 : audio saved to  /work/b0990106x/trl/output/0725-1827/example_save_eval_-1_data_0.wav\n"
     ]
    },
    {
     "name": "stderr",
     "output_type": "stream",
     "text": [
      "/home/b0990106x/miniconda3/envs/trl/lib/python3.10/site-packages/librosa/feature/spectral.py:2143: UserWarning: Empty filters detected in mel frequency basis. Some channels will produce empty responses. Try increasing your sampling rate (and fmax) or reducing n_mels.\n",
      "  mel_basis = filters.mel(sr=sr, n_fft=n_fft, **kwargs)\n",
      "/home/b0990106x/miniconda3/envs/trl/lib/python3.10/site-packages/torch/nn/utils/weight_norm.py:28: UserWarning: torch.nn.utils.weight_norm is deprecated in favor of torch.nn.utils.parametrizations.weight_norm.\n",
      "  warnings.warn(\"torch.nn.utils.weight_norm is deprecated in favor of torch.nn.utils.parametrizations.weight_norm.\")\n"
     ]
    },
    {
     "name": "stdout",
     "output_type": "stream",
     "text": [
      "Episode eval_-1_data_0 : audio saved to  /work/b0990106x/trl/output/0725-1827/example_save_eval_-1_data_0.wav\n"
     ]
    },
    {
     "name": "stderr",
     "output_type": "stream",
     "text": [
      "/home/b0990106x/miniconda3/envs/trl/lib/python3.10/site-packages/librosa/feature/spectral.py:2143: UserWarning: Empty filters detected in mel frequency basis. Some channels will produce empty responses. Try increasing your sampling rate (and fmax) or reducing n_mels.\n",
      "  mel_basis = filters.mel(sr=sr, n_fft=n_fft, **kwargs)\n",
      "/home/b0990106x/miniconda3/envs/trl/lib/python3.10/site-packages/torch/nn/utils/weight_norm.py:28: UserWarning: torch.nn.utils.weight_norm is deprecated in favor of torch.nn.utils.parametrizations.weight_norm.\n",
      "  warnings.warn(\"torch.nn.utils.weight_norm is deprecated in favor of torch.nn.utils.parametrizations.weight_norm.\")\n"
     ]
    },
    {
     "name": "stdout",
     "output_type": "stream",
     "text": [
      "Episode eval_-1_data_0 : audio saved to  /work/b0990106x/trl/output/0725-1827/example_save_eval_-1_data_0.wav\n"
     ]
    },
    {
     "name": "stderr",
     "output_type": "stream",
     "text": [
      "/home/b0990106x/miniconda3/envs/trl/lib/python3.10/site-packages/librosa/feature/spectral.py:2143: UserWarning: Empty filters detected in mel frequency basis. Some channels will produce empty responses. Try increasing your sampling rate (and fmax) or reducing n_mels.\n",
      "  mel_basis = filters.mel(sr=sr, n_fft=n_fft, **kwargs)\n",
      "/home/b0990106x/miniconda3/envs/trl/lib/python3.10/site-packages/torch/nn/utils/weight_norm.py:28: UserWarning: torch.nn.utils.weight_norm is deprecated in favor of torch.nn.utils.parametrizations.weight_norm.\n",
      "  warnings.warn(\"torch.nn.utils.weight_norm is deprecated in favor of torch.nn.utils.parametrizations.weight_norm.\")\n"
     ]
    },
    {
     "name": "stdout",
     "output_type": "stream",
     "text": [
      "Episode eval_-1_data_0 : audio saved to  /work/b0990106x/trl/output/0725-1827/example_save_eval_-1_data_0.wav\n"
     ]
    },
    {
     "name": "stderr",
     "output_type": "stream",
     "text": [
      "/home/b0990106x/miniconda3/envs/trl/lib/python3.10/site-packages/librosa/feature/spectral.py:2143: UserWarning: Empty filters detected in mel frequency basis. Some channels will produce empty responses. Try increasing your sampling rate (and fmax) or reducing n_mels.\n",
      "  mel_basis = filters.mel(sr=sr, n_fft=n_fft, **kwargs)\n",
      "/home/b0990106x/miniconda3/envs/trl/lib/python3.10/site-packages/torch/nn/utils/weight_norm.py:28: UserWarning: torch.nn.utils.weight_norm is deprecated in favor of torch.nn.utils.parametrizations.weight_norm.\n",
      "  warnings.warn(\"torch.nn.utils.weight_norm is deprecated in favor of torch.nn.utils.parametrizations.weight_norm.\")\n"
     ]
    },
    {
     "name": "stdout",
     "output_type": "stream",
     "text": [
      "Episode eval_-1_data_0 : audio saved to  /work/b0990106x/trl/output/0725-1827/example_save_eval_-1_data_0.wav\n"
     ]
    },
    {
     "name": "stderr",
     "output_type": "stream",
     "text": [
      "/home/b0990106x/miniconda3/envs/trl/lib/python3.10/site-packages/librosa/feature/spectral.py:2143: UserWarning: Empty filters detected in mel frequency basis. Some channels will produce empty responses. Try increasing your sampling rate (and fmax) or reducing n_mels.\n",
      "  mel_basis = filters.mel(sr=sr, n_fft=n_fft, **kwargs)\n",
      "/home/b0990106x/miniconda3/envs/trl/lib/python3.10/site-packages/torch/nn/utils/weight_norm.py:28: UserWarning: torch.nn.utils.weight_norm is deprecated in favor of torch.nn.utils.parametrizations.weight_norm.\n",
      "  warnings.warn(\"torch.nn.utils.weight_norm is deprecated in favor of torch.nn.utils.parametrizations.weight_norm.\")\n"
     ]
    },
    {
     "name": "stdout",
     "output_type": "stream",
     "text": [
      "Episode eval_-1_data_0 : audio saved to  /work/b0990106x/trl/output/0725-1827/example_save_eval_-1_data_0.wav\n"
     ]
    },
    {
     "name": "stderr",
     "output_type": "stream",
     "text": [
      "/home/b0990106x/miniconda3/envs/trl/lib/python3.10/site-packages/librosa/feature/spectral.py:2143: UserWarning: Empty filters detected in mel frequency basis. Some channels will produce empty responses. Try increasing your sampling rate (and fmax) or reducing n_mels.\n",
      "  mel_basis = filters.mel(sr=sr, n_fft=n_fft, **kwargs)\n",
      "/home/b0990106x/miniconda3/envs/trl/lib/python3.10/site-packages/torch/nn/utils/weight_norm.py:28: UserWarning: torch.nn.utils.weight_norm is deprecated in favor of torch.nn.utils.parametrizations.weight_norm.\n",
      "  warnings.warn(\"torch.nn.utils.weight_norm is deprecated in favor of torch.nn.utils.parametrizations.weight_norm.\")\n"
     ]
    },
    {
     "name": "stdout",
     "output_type": "stream",
     "text": [
      "Episode eval_-1_data_0 : audio saved to  /work/b0990106x/trl/output/0725-1827/example_save_eval_-1_data_0.wav\n"
     ]
    },
    {
     "name": "stderr",
     "output_type": "stream",
     "text": [
      "/home/b0990106x/miniconda3/envs/trl/lib/python3.10/site-packages/librosa/feature/spectral.py:2143: UserWarning: Empty filters detected in mel frequency basis. Some channels will produce empty responses. Try increasing your sampling rate (and fmax) or reducing n_mels.\n",
      "  mel_basis = filters.mel(sr=sr, n_fft=n_fft, **kwargs)\n",
      "/home/b0990106x/miniconda3/envs/trl/lib/python3.10/site-packages/torch/nn/utils/weight_norm.py:28: UserWarning: torch.nn.utils.weight_norm is deprecated in favor of torch.nn.utils.parametrizations.weight_norm.\n",
      "  warnings.warn(\"torch.nn.utils.weight_norm is deprecated in favor of torch.nn.utils.parametrizations.weight_norm.\")\n"
     ]
    },
    {
     "name": "stdout",
     "output_type": "stream",
     "text": [
      "Episode eval_-1_data_0 : audio saved to  /work/b0990106x/trl/output/0725-1827/example_save_eval_-1_data_0.wav\n"
     ]
    },
    {
     "name": "stderr",
     "output_type": "stream",
     "text": [
      "/home/b0990106x/miniconda3/envs/trl/lib/python3.10/site-packages/librosa/feature/spectral.py:2143: UserWarning: Empty filters detected in mel frequency basis. Some channels will produce empty responses. Try increasing your sampling rate (and fmax) or reducing n_mels.\n",
      "  mel_basis = filters.mel(sr=sr, n_fft=n_fft, **kwargs)\n",
      "/home/b0990106x/miniconda3/envs/trl/lib/python3.10/site-packages/torch/nn/utils/weight_norm.py:28: UserWarning: torch.nn.utils.weight_norm is deprecated in favor of torch.nn.utils.parametrizations.weight_norm.\n",
      "  warnings.warn(\"torch.nn.utils.weight_norm is deprecated in favor of torch.nn.utils.parametrizations.weight_norm.\")\n"
     ]
    },
    {
     "name": "stdout",
     "output_type": "stream",
     "text": [
      "Episode eval_-1_data_0 : audio saved to  /work/b0990106x/trl/output/0725-1827/example_save_eval_-1_data_0.wav\n"
     ]
    },
    {
     "name": "stderr",
     "output_type": "stream",
     "text": [
      "/home/b0990106x/miniconda3/envs/trl/lib/python3.10/site-packages/librosa/feature/spectral.py:2143: UserWarning: Empty filters detected in mel frequency basis. Some channels will produce empty responses. Try increasing your sampling rate (and fmax) or reducing n_mels.\n",
      "  mel_basis = filters.mel(sr=sr, n_fft=n_fft, **kwargs)\n",
      "Training Iterations:   0%|          | 0/20 [00:00<?, ?it/s]/home/b0990106x/miniconda3/envs/trl/lib/python3.10/site-packages/huggingface_hub/file_download.py:1132: FutureWarning: `resume_download` is deprecated and will be removed in version 1.0.0. Downloads always resume when possible. If you want to force a new download, use `force_download=True`.\n",
      "  warnings.warn(\n",
      "\n",
      "\u001b[A/home/b0990106x/miniconda3/envs/trl/lib/python3.10/site-packages/torch/nn/utils/weight_norm.py:28: UserWarning: torch.nn.utils.weight_norm is deprecated in favor of torch.nn.utils.parametrizations.weight_norm.\n",
      "  warnings.warn(\"torch.nn.utils.weight_norm is deprecated in favor of torch.nn.utils.parametrizations.weight_norm.\")\n"
     ]
    },
    {
     "name": "stdout",
     "output_type": "stream",
     "text": [
      "Episode data_0_episode_0 : audio saved to  /work/b0990106x/trl/output/0725-1827/example_save_data_0_episode_0.wav\n"
     ]
    },
    {
     "name": "stderr",
     "output_type": "stream",
     "text": [
      "/home/b0990106x/miniconda3/envs/trl/lib/python3.10/site-packages/librosa/feature/spectral.py:2143: UserWarning: Empty filters detected in mel frequency basis. Some channels will produce empty responses. Try increasing your sampling rate (and fmax) or reducing n_mels.\n",
      "  mel_basis = filters.mel(sr=sr, n_fft=n_fft, **kwargs)\n",
      "\n",
      "\u001b[A/home/b0990106x/miniconda3/envs/trl/lib/python3.10/site-packages/torch/nn/utils/weight_norm.py:28: UserWarning: torch.nn.utils.weight_norm is deprecated in favor of torch.nn.utils.parametrizations.weight_norm.\n",
      "  warnings.warn(\"torch.nn.utils.weight_norm is deprecated in favor of torch.nn.utils.parametrizations.weight_norm.\")\n"
     ]
    },
    {
     "name": "stdout",
     "output_type": "stream",
     "text": [
      "Episode data_0_episode_1 : audio saved to  /work/b0990106x/trl/output/0725-1827/example_save_data_0_episode_1.wav\n"
     ]
    },
    {
     "name": "stderr",
     "output_type": "stream",
     "text": [
      "/home/b0990106x/miniconda3/envs/trl/lib/python3.10/site-packages/librosa/feature/spectral.py:2143: UserWarning: Empty filters detected in mel frequency basis. Some channels will produce empty responses. Try increasing your sampling rate (and fmax) or reducing n_mels.\n",
      "  mel_basis = filters.mel(sr=sr, n_fft=n_fft, **kwargs)\n",
      "\n",
      "\u001b[A/home/b0990106x/miniconda3/envs/trl/lib/python3.10/site-packages/torch/nn/utils/weight_norm.py:28: UserWarning: torch.nn.utils.weight_norm is deprecated in favor of torch.nn.utils.parametrizations.weight_norm.\n",
      "  warnings.warn(\"torch.nn.utils.weight_norm is deprecated in favor of torch.nn.utils.parametrizations.weight_norm.\")\n"
     ]
    },
    {
     "name": "stdout",
     "output_type": "stream",
     "text": [
      "Episode data_0_episode_2 : audio saved to  /work/b0990106x/trl/output/0725-1827/example_save_data_0_episode_2.wav\n"
     ]
    },
    {
     "name": "stderr",
     "output_type": "stream",
     "text": [
      "/home/b0990106x/miniconda3/envs/trl/lib/python3.10/site-packages/librosa/feature/spectral.py:2143: UserWarning: Empty filters detected in mel frequency basis. Some channels will produce empty responses. Try increasing your sampling rate (and fmax) or reducing n_mels.\n",
      "  mel_basis = filters.mel(sr=sr, n_fft=n_fft, **kwargs)\n",
      "\n",
      "\u001b[A/home/b0990106x/miniconda3/envs/trl/lib/python3.10/site-packages/torch/nn/utils/weight_norm.py:28: UserWarning: torch.nn.utils.weight_norm is deprecated in favor of torch.nn.utils.parametrizations.weight_norm.\n",
      "  warnings.warn(\"torch.nn.utils.weight_norm is deprecated in favor of torch.nn.utils.parametrizations.weight_norm.\")\n"
     ]
    },
    {
     "name": "stdout",
     "output_type": "stream",
     "text": [
      "Episode data_0_episode_3 : audio saved to  /work/b0990106x/trl/output/0725-1827/example_save_data_0_episode_3.wav\n"
     ]
    },
    {
     "name": "stderr",
     "output_type": "stream",
     "text": [
      "/home/b0990106x/miniconda3/envs/trl/lib/python3.10/site-packages/librosa/feature/spectral.py:2143: UserWarning: Empty filters detected in mel frequency basis. Some channels will produce empty responses. Try increasing your sampling rate (and fmax) or reducing n_mels.\n",
      "  mel_basis = filters.mel(sr=sr, n_fft=n_fft, **kwargs)\n",
      "\n",
      "\u001b[A/home/b0990106x/miniconda3/envs/trl/lib/python3.10/site-packages/torch/nn/utils/weight_norm.py:28: UserWarning: torch.nn.utils.weight_norm is deprecated in favor of torch.nn.utils.parametrizations.weight_norm.\n",
      "  warnings.warn(\"torch.nn.utils.weight_norm is deprecated in favor of torch.nn.utils.parametrizations.weight_norm.\")\n"
     ]
    },
    {
     "name": "stdout",
     "output_type": "stream",
     "text": [
      "Episode data_0_episode_4 : audio saved to  /work/b0990106x/trl/output/0725-1827/example_save_data_0_episode_4.wav\n"
     ]
    },
    {
     "name": "stderr",
     "output_type": "stream",
     "text": [
      "/home/b0990106x/miniconda3/envs/trl/lib/python3.10/site-packages/librosa/feature/spectral.py:2143: UserWarning: Empty filters detected in mel frequency basis. Some channels will produce empty responses. Try increasing your sampling rate (and fmax) or reducing n_mels.\n",
      "  mel_basis = filters.mel(sr=sr, n_fft=n_fft, **kwargs)\n",
      "\n",
      "\u001b[A/home/b0990106x/miniconda3/envs/trl/lib/python3.10/site-packages/torch/nn/utils/weight_norm.py:28: UserWarning: torch.nn.utils.weight_norm is deprecated in favor of torch.nn.utils.parametrizations.weight_norm.\n",
      "  warnings.warn(\"torch.nn.utils.weight_norm is deprecated in favor of torch.nn.utils.parametrizations.weight_norm.\")\n"
     ]
    },
    {
     "name": "stdout",
     "output_type": "stream",
     "text": [
      "Episode data_0_episode_5 : audio saved to  /work/b0990106x/trl/output/0725-1827/example_save_data_0_episode_5.wav\n"
     ]
    },
    {
     "name": "stderr",
     "output_type": "stream",
     "text": [
      "/home/b0990106x/miniconda3/envs/trl/lib/python3.10/site-packages/librosa/feature/spectral.py:2143: UserWarning: Empty filters detected in mel frequency basis. Some channels will produce empty responses. Try increasing your sampling rate (and fmax) or reducing n_mels.\n",
      "  mel_basis = filters.mel(sr=sr, n_fft=n_fft, **kwargs)\n",
      "\n",
      "\u001b[A/home/b0990106x/miniconda3/envs/trl/lib/python3.10/site-packages/torch/nn/utils/weight_norm.py:28: UserWarning: torch.nn.utils.weight_norm is deprecated in favor of torch.nn.utils.parametrizations.weight_norm.\n",
      "  warnings.warn(\"torch.nn.utils.weight_norm is deprecated in favor of torch.nn.utils.parametrizations.weight_norm.\")\n"
     ]
    },
    {
     "name": "stdout",
     "output_type": "stream",
     "text": [
      "Episode data_0_episode_6 : audio saved to  /work/b0990106x/trl/output/0725-1827/example_save_data_0_episode_6.wav\n"
     ]
    },
    {
     "name": "stderr",
     "output_type": "stream",
     "text": [
      "/home/b0990106x/miniconda3/envs/trl/lib/python3.10/site-packages/librosa/feature/spectral.py:2143: UserWarning: Empty filters detected in mel frequency basis. Some channels will produce empty responses. Try increasing your sampling rate (and fmax) or reducing n_mels.\n",
      "  mel_basis = filters.mel(sr=sr, n_fft=n_fft, **kwargs)\n",
      "\n",
      "\u001b[A/home/b0990106x/miniconda3/envs/trl/lib/python3.10/site-packages/torch/nn/utils/weight_norm.py:28: UserWarning: torch.nn.utils.weight_norm is deprecated in favor of torch.nn.utils.parametrizations.weight_norm.\n",
      "  warnings.warn(\"torch.nn.utils.weight_norm is deprecated in favor of torch.nn.utils.parametrizations.weight_norm.\")\n"
     ]
    },
    {
     "name": "stdout",
     "output_type": "stream",
     "text": [
      "Episode data_0_episode_7 : audio saved to  /work/b0990106x/trl/output/0725-1827/example_save_data_0_episode_7.wav\n"
     ]
    },
    {
     "name": "stderr",
     "output_type": "stream",
     "text": [
      "/home/b0990106x/miniconda3/envs/trl/lib/python3.10/site-packages/librosa/feature/spectral.py:2143: UserWarning: Empty filters detected in mel frequency basis. Some channels will produce empty responses. Try increasing your sampling rate (and fmax) or reducing n_mels.\n",
      "  mel_basis = filters.mel(sr=sr, n_fft=n_fft, **kwargs)\n",
      "\n",
      "\u001b[A/home/b0990106x/miniconda3/envs/trl/lib/python3.10/site-packages/torch/nn/utils/weight_norm.py:28: UserWarning: torch.nn.utils.weight_norm is deprecated in favor of torch.nn.utils.parametrizations.weight_norm.\n",
      "  warnings.warn(\"torch.nn.utils.weight_norm is deprecated in favor of torch.nn.utils.parametrizations.weight_norm.\")\n"
     ]
    },
    {
     "name": "stdout",
     "output_type": "stream",
     "text": [
      "Episode data_0_episode_8 : audio saved to  /work/b0990106x/trl/output/0725-1827/example_save_data_0_episode_8.wav\n"
     ]
    },
    {
     "name": "stderr",
     "output_type": "stream",
     "text": [
      "/home/b0990106x/miniconda3/envs/trl/lib/python3.10/site-packages/librosa/feature/spectral.py:2143: UserWarning: Empty filters detected in mel frequency basis. Some channels will produce empty responses. Try increasing your sampling rate (and fmax) or reducing n_mels.\n",
      "  mel_basis = filters.mel(sr=sr, n_fft=n_fft, **kwargs)\n",
      "\n",
      "\u001b[A/home/b0990106x/miniconda3/envs/trl/lib/python3.10/site-packages/torch/nn/utils/weight_norm.py:28: UserWarning: torch.nn.utils.weight_norm is deprecated in favor of torch.nn.utils.parametrizations.weight_norm.\n",
      "  warnings.warn(\"torch.nn.utils.weight_norm is deprecated in favor of torch.nn.utils.parametrizations.weight_norm.\")\n"
     ]
    },
    {
     "name": "stdout",
     "output_type": "stream",
     "text": [
      "Episode data_0_episode_9 : audio saved to  /work/b0990106x/trl/output/0725-1827/example_save_data_0_episode_9.wav\n"
     ]
    },
    {
     "name": "stderr",
     "output_type": "stream",
     "text": [
      "/home/b0990106x/miniconda3/envs/trl/lib/python3.10/site-packages/librosa/feature/spectral.py:2143: UserWarning: Empty filters detected in mel frequency basis. Some channels will produce empty responses. Try increasing your sampling rate (and fmax) or reducing n_mels.\n",
      "  mel_basis = filters.mel(sr=sr, n_fft=n_fft, **kwargs)\n",
      "\n",
      "Processing Samples: 100%|██████████| 10/10 [00:52<00:00,  5.29s/it]\n",
      "Processing Data: 100%|██████████| 1/1 [00:52<00:00, 52.94s/it]\n",
      "/home/b0990106x/miniconda3/envs/trl/lib/python3.10/site-packages/huggingface_hub/file_download.py:1132: FutureWarning: `resume_download` is deprecated and will be removed in version 1.0.0. Downloads always resume when possible. If you want to force a new download, use `force_download=True`.\n",
      "  warnings.warn(\n",
      "/work/b0990106x/trl/trl/trainer/dpo_trainer.py:410: UserWarning: When using DPODataCollatorWithPadding, you should set `remove_unused_columns=False` in your TrainingArguments we have set it for you, but you should do it yourself in the future.\n",
      "  warnings.warn(\n",
      "Map: 100%|██████████| 1/1 [00:00<00:00, 129.77 examples/s]\n",
      "Map: 100%|██████████| 1/1 [00:00<00:00, 147.61 examples/s]\n",
      "/home/b0990106x/miniconda3/envs/trl/lib/python3.10/site-packages/transformers/optimization.py:411: FutureWarning: This implementation of AdamW is deprecated and will be removed in a future version. Use the PyTorch implementation torch.optim.AdamW instead, or set `no_deprecation_warning=True` to disable this warning\n",
      "  warnings.warn(\n",
      "\u001b[34m\u001b[1mwandb\u001b[0m: Currently logged in as: \u001b[33mb09901066\u001b[0m (\u001b[33mb09901066_alan\u001b[0m). Use \u001b[1m`wandb login --relogin`\u001b[0m to force relogin\n"
     ]
    },
    {
     "data": {
      "text/html": [
       "wandb version 0.17.5 is available!  To upgrade, please run:\n",
       " $ pip install wandb --upgrade"
      ],
      "text/plain": [
       "<IPython.core.display.HTML object>"
      ]
     },
     "metadata": {},
     "output_type": "display_data"
    },
    {
     "data": {
      "text/html": [
       "Tracking run with wandb version 0.17.1"
      ],
      "text/plain": [
       "<IPython.core.display.HTML object>"
      ]
     },
     "metadata": {},
     "output_type": "display_data"
    },
    {
     "data": {
      "text/html": [
       "Run data is saved locally in <code>/work/b0990106x/trl/wandb/run-20240725_182945-q5sgj0y1</code>"
      ],
      "text/plain": [
       "<IPython.core.display.HTML object>"
      ]
     },
     "metadata": {},
     "output_type": "display_data"
    },
    {
     "data": {
      "text/html": [
       "Syncing run <strong><a href='https://wandb.ai/b09901066_alan/huggingface/runs/q5sgj0y1' target=\"_blank\">celestial-water-35</a></strong> to <a href='https://wandb.ai/b09901066_alan/huggingface' target=\"_blank\">Weights & Biases</a> (<a href='https://wandb.me/run' target=\"_blank\">docs</a>)<br/>"
      ],
      "text/plain": [
       "<IPython.core.display.HTML object>"
      ]
     },
     "metadata": {},
     "output_type": "display_data"
    },
    {
     "data": {
      "text/html": [
       " View project at <a href='https://wandb.ai/b09901066_alan/huggingface' target=\"_blank\">https://wandb.ai/b09901066_alan/huggingface</a>"
      ],
      "text/plain": [
       "<IPython.core.display.HTML object>"
      ]
     },
     "metadata": {},
     "output_type": "display_data"
    },
    {
     "data": {
      "text/html": [
       " View run at <a href='https://wandb.ai/b09901066_alan/huggingface/runs/q5sgj0y1' target=\"_blank\">https://wandb.ai/b09901066_alan/huggingface/runs/q5sgj0y1</a>"
      ],
      "text/plain": [
       "<IPython.core.display.HTML object>"
      ]
     },
     "metadata": {},
     "output_type": "display_data"
    },
    {
     "data": {
      "text/html": [
       "\n",
       "    <div>\n",
       "      \n",
       "      <progress value='200' max='200' style='width:300px; height:20px; vertical-align: middle;'></progress>\n",
       "      [200/200 00:35, Epoch 200/200]\n",
       "    </div>\n",
       "    <table border=\"1\" class=\"dataframe\">\n",
       "  <thead>\n",
       " <tr style=\"text-align: left;\">\n",
       "      <th>Step</th>\n",
       "      <th>Training Loss</th>\n",
       "    </tr>\n",
       "  </thead>\n",
       "  <tbody>\n",
       "  </tbody>\n",
       "</table><p>"
      ],
      "text/plain": [
       "<IPython.core.display.HTML object>"
      ]
     },
     "metadata": {},
     "output_type": "display_data"
    },
    {
     "name": "stderr",
     "output_type": "stream",
     "text": [
      "/home/b0990106x/miniconda3/envs/trl/lib/python3.10/site-packages/huggingface_hub/file_download.py:1132: FutureWarning: `resume_download` is deprecated and will be removed in version 1.0.0. Downloads always resume when possible. If you want to force a new download, use `force_download=True`.\n",
      "  warnings.warn(\n",
      "Some weights of the model checkpoint at /work/b0990106x/trl/model_output/0725-1827/iter_0/dpo_model were not used when initializing BartForConditionalGeneration: ['v_head.summary.weight', 'v_head.summary.bias']\n",
      "- This IS expected if you are initializing BartForConditionalGeneration from the checkpoint of a model trained on another task or with another architecture (e.g. initializing a BertForSequenceClassification model from a BertForPreTraining model).\n",
      "- This IS NOT expected if you are initializing BartForConditionalGeneration from the checkpoint of a model that you expect to be exactly identical (initializing a BertForSequenceClassification model from a BertForSequenceClassification model).\n",
      "/home/b0990106x/miniconda3/envs/trl/lib/python3.10/site-packages/torch/nn/utils/weight_norm.py:28: UserWarning: torch.nn.utils.weight_norm is deprecated in favor of torch.nn.utils.parametrizations.weight_norm.\n",
      "  warnings.warn(\"torch.nn.utils.weight_norm is deprecated in favor of torch.nn.utils.parametrizations.weight_norm.\")\n"
     ]
    },
    {
     "name": "stdout",
     "output_type": "stream",
     "text": [
      "Episode eval_0_data_0 : audio saved to  /work/b0990106x/trl/output/0725-1827/example_save_eval_0_data_0.wav\n"
     ]
    },
    {
     "name": "stderr",
     "output_type": "stream",
     "text": [
      "/home/b0990106x/miniconda3/envs/trl/lib/python3.10/site-packages/librosa/feature/spectral.py:2143: UserWarning: Empty filters detected in mel frequency basis. Some channels will produce empty responses. Try increasing your sampling rate (and fmax) or reducing n_mels.\n",
      "  mel_basis = filters.mel(sr=sr, n_fft=n_fft, **kwargs)\n",
      "/home/b0990106x/miniconda3/envs/trl/lib/python3.10/site-packages/torch/nn/utils/weight_norm.py:28: UserWarning: torch.nn.utils.weight_norm is deprecated in favor of torch.nn.utils.parametrizations.weight_norm.\n",
      "  warnings.warn(\"torch.nn.utils.weight_norm is deprecated in favor of torch.nn.utils.parametrizations.weight_norm.\")\n"
     ]
    },
    {
     "name": "stdout",
     "output_type": "stream",
     "text": [
      "Episode eval_0_data_0 : audio saved to  /work/b0990106x/trl/output/0725-1827/example_save_eval_0_data_0.wav\n"
     ]
    },
    {
     "name": "stderr",
     "output_type": "stream",
     "text": [
      "/home/b0990106x/miniconda3/envs/trl/lib/python3.10/site-packages/librosa/feature/spectral.py:2143: UserWarning: Empty filters detected in mel frequency basis. Some channels will produce empty responses. Try increasing your sampling rate (and fmax) or reducing n_mels.\n",
      "  mel_basis = filters.mel(sr=sr, n_fft=n_fft, **kwargs)\n",
      "/home/b0990106x/miniconda3/envs/trl/lib/python3.10/site-packages/torch/nn/utils/weight_norm.py:28: UserWarning: torch.nn.utils.weight_norm is deprecated in favor of torch.nn.utils.parametrizations.weight_norm.\n",
      "  warnings.warn(\"torch.nn.utils.weight_norm is deprecated in favor of torch.nn.utils.parametrizations.weight_norm.\")\n"
     ]
    },
    {
     "name": "stdout",
     "output_type": "stream",
     "text": [
      "Episode eval_0_data_0 : audio saved to  /work/b0990106x/trl/output/0725-1827/example_save_eval_0_data_0.wav\n"
     ]
    },
    {
     "name": "stderr",
     "output_type": "stream",
     "text": [
      "/home/b0990106x/miniconda3/envs/trl/lib/python3.10/site-packages/librosa/feature/spectral.py:2143: UserWarning: Empty filters detected in mel frequency basis. Some channels will produce empty responses. Try increasing your sampling rate (and fmax) or reducing n_mels.\n",
      "  mel_basis = filters.mel(sr=sr, n_fft=n_fft, **kwargs)\n",
      "/home/b0990106x/miniconda3/envs/trl/lib/python3.10/site-packages/torch/nn/utils/weight_norm.py:28: UserWarning: torch.nn.utils.weight_norm is deprecated in favor of torch.nn.utils.parametrizations.weight_norm.\n",
      "  warnings.warn(\"torch.nn.utils.weight_norm is deprecated in favor of torch.nn.utils.parametrizations.weight_norm.\")\n"
     ]
    },
    {
     "name": "stdout",
     "output_type": "stream",
     "text": [
      "Episode eval_0_data_0 : audio saved to  /work/b0990106x/trl/output/0725-1827/example_save_eval_0_data_0.wav\n"
     ]
    },
    {
     "name": "stderr",
     "output_type": "stream",
     "text": [
      "/home/b0990106x/miniconda3/envs/trl/lib/python3.10/site-packages/librosa/feature/spectral.py:2143: UserWarning: Empty filters detected in mel frequency basis. Some channels will produce empty responses. Try increasing your sampling rate (and fmax) or reducing n_mels.\n",
      "  mel_basis = filters.mel(sr=sr, n_fft=n_fft, **kwargs)\n",
      "/home/b0990106x/miniconda3/envs/trl/lib/python3.10/site-packages/torch/nn/utils/weight_norm.py:28: UserWarning: torch.nn.utils.weight_norm is deprecated in favor of torch.nn.utils.parametrizations.weight_norm.\n",
      "  warnings.warn(\"torch.nn.utils.weight_norm is deprecated in favor of torch.nn.utils.parametrizations.weight_norm.\")\n"
     ]
    },
    {
     "name": "stdout",
     "output_type": "stream",
     "text": [
      "Episode eval_0_data_0 : audio saved to  /work/b0990106x/trl/output/0725-1827/example_save_eval_0_data_0.wav\n"
     ]
    },
    {
     "name": "stderr",
     "output_type": "stream",
     "text": [
      "/home/b0990106x/miniconda3/envs/trl/lib/python3.10/site-packages/librosa/feature/spectral.py:2143: UserWarning: Empty filters detected in mel frequency basis. Some channels will produce empty responses. Try increasing your sampling rate (and fmax) or reducing n_mels.\n",
      "  mel_basis = filters.mel(sr=sr, n_fft=n_fft, **kwargs)\n",
      "/home/b0990106x/miniconda3/envs/trl/lib/python3.10/site-packages/torch/nn/utils/weight_norm.py:28: UserWarning: torch.nn.utils.weight_norm is deprecated in favor of torch.nn.utils.parametrizations.weight_norm.\n",
      "  warnings.warn(\"torch.nn.utils.weight_norm is deprecated in favor of torch.nn.utils.parametrizations.weight_norm.\")\n"
     ]
    },
    {
     "name": "stdout",
     "output_type": "stream",
     "text": [
      "Episode eval_0_data_0 : audio saved to  /work/b0990106x/trl/output/0725-1827/example_save_eval_0_data_0.wav\n"
     ]
    },
    {
     "name": "stderr",
     "output_type": "stream",
     "text": [
      "/home/b0990106x/miniconda3/envs/trl/lib/python3.10/site-packages/librosa/feature/spectral.py:2143: UserWarning: Empty filters detected in mel frequency basis. Some channels will produce empty responses. Try increasing your sampling rate (and fmax) or reducing n_mels.\n",
      "  mel_basis = filters.mel(sr=sr, n_fft=n_fft, **kwargs)\n",
      "/home/b0990106x/miniconda3/envs/trl/lib/python3.10/site-packages/torch/nn/utils/weight_norm.py:28: UserWarning: torch.nn.utils.weight_norm is deprecated in favor of torch.nn.utils.parametrizations.weight_norm.\n",
      "  warnings.warn(\"torch.nn.utils.weight_norm is deprecated in favor of torch.nn.utils.parametrizations.weight_norm.\")\n"
     ]
    },
    {
     "name": "stdout",
     "output_type": "stream",
     "text": [
      "Episode eval_0_data_0 : audio saved to  /work/b0990106x/trl/output/0725-1827/example_save_eval_0_data_0.wav\n"
     ]
    },
    {
     "name": "stderr",
     "output_type": "stream",
     "text": [
      "/home/b0990106x/miniconda3/envs/trl/lib/python3.10/site-packages/librosa/feature/spectral.py:2143: UserWarning: Empty filters detected in mel frequency basis. Some channels will produce empty responses. Try increasing your sampling rate (and fmax) or reducing n_mels.\n",
      "  mel_basis = filters.mel(sr=sr, n_fft=n_fft, **kwargs)\n",
      "/home/b0990106x/miniconda3/envs/trl/lib/python3.10/site-packages/torch/nn/utils/weight_norm.py:28: UserWarning: torch.nn.utils.weight_norm is deprecated in favor of torch.nn.utils.parametrizations.weight_norm.\n",
      "  warnings.warn(\"torch.nn.utils.weight_norm is deprecated in favor of torch.nn.utils.parametrizations.weight_norm.\")\n"
     ]
    },
    {
     "name": "stdout",
     "output_type": "stream",
     "text": [
      "Episode eval_0_data_0 : audio saved to  /work/b0990106x/trl/output/0725-1827/example_save_eval_0_data_0.wav\n"
     ]
    },
    {
     "name": "stderr",
     "output_type": "stream",
     "text": [
      "/home/b0990106x/miniconda3/envs/trl/lib/python3.10/site-packages/librosa/feature/spectral.py:2143: UserWarning: Empty filters detected in mel frequency basis. Some channels will produce empty responses. Try increasing your sampling rate (and fmax) or reducing n_mels.\n",
      "  mel_basis = filters.mel(sr=sr, n_fft=n_fft, **kwargs)\n",
      "/home/b0990106x/miniconda3/envs/trl/lib/python3.10/site-packages/torch/nn/utils/weight_norm.py:28: UserWarning: torch.nn.utils.weight_norm is deprecated in favor of torch.nn.utils.parametrizations.weight_norm.\n",
      "  warnings.warn(\"torch.nn.utils.weight_norm is deprecated in favor of torch.nn.utils.parametrizations.weight_norm.\")\n"
     ]
    },
    {
     "name": "stdout",
     "output_type": "stream",
     "text": [
      "Episode eval_0_data_0 : audio saved to  /work/b0990106x/trl/output/0725-1827/example_save_eval_0_data_0.wav\n"
     ]
    },
    {
     "name": "stderr",
     "output_type": "stream",
     "text": [
      "/home/b0990106x/miniconda3/envs/trl/lib/python3.10/site-packages/librosa/feature/spectral.py:2143: UserWarning: Empty filters detected in mel frequency basis. Some channels will produce empty responses. Try increasing your sampling rate (and fmax) or reducing n_mels.\n",
      "  mel_basis = filters.mel(sr=sr, n_fft=n_fft, **kwargs)\n",
      "/home/b0990106x/miniconda3/envs/trl/lib/python3.10/site-packages/torch/nn/utils/weight_norm.py:28: UserWarning: torch.nn.utils.weight_norm is deprecated in favor of torch.nn.utils.parametrizations.weight_norm.\n",
      "  warnings.warn(\"torch.nn.utils.weight_norm is deprecated in favor of torch.nn.utils.parametrizations.weight_norm.\")\n"
     ]
    },
    {
     "name": "stdout",
     "output_type": "stream",
     "text": [
      "Episode eval_0_data_0 : audio saved to  /work/b0990106x/trl/output/0725-1827/example_save_eval_0_data_0.wav\n"
     ]
    },
    {
     "name": "stderr",
     "output_type": "stream",
     "text": [
      "/home/b0990106x/miniconda3/envs/trl/lib/python3.10/site-packages/librosa/feature/spectral.py:2143: UserWarning: Empty filters detected in mel frequency basis. Some channels will produce empty responses. Try increasing your sampling rate (and fmax) or reducing n_mels.\n",
      "  mel_basis = filters.mel(sr=sr, n_fft=n_fft, **kwargs)\n",
      "Training Iterations:   5%|▌         | 1/20 [02:57<56:18, 177.82s/it]Some weights of the model checkpoint at /work/b0990106x/trl/model_output/0725-1827/iter_0/dpo_model were not used when initializing BartForConditionalGeneration: ['v_head.summary.weight', 'v_head.summary.bias']\n",
      "- This IS expected if you are initializing BartForConditionalGeneration from the checkpoint of a model trained on another task or with another architecture (e.g. initializing a BertForSequenceClassification model from a BertForPreTraining model).\n",
      "- This IS NOT expected if you are initializing BartForConditionalGeneration from the checkpoint of a model that you expect to be exactly identical (initializing a BertForSequenceClassification model from a BertForSequenceClassification model).\n",
      "/home/b0990106x/miniconda3/envs/trl/lib/python3.10/site-packages/huggingface_hub/file_download.py:1132: FutureWarning: `resume_download` is deprecated and will be removed in version 1.0.0. Downloads always resume when possible. If you want to force a new download, use `force_download=True`.\n",
      "  warnings.warn(\n",
      "\n",
      "\u001b[A/home/b0990106x/miniconda3/envs/trl/lib/python3.10/site-packages/torch/nn/utils/weight_norm.py:28: UserWarning: torch.nn.utils.weight_norm is deprecated in favor of torch.nn.utils.parametrizations.weight_norm.\n",
      "  warnings.warn(\"torch.nn.utils.weight_norm is deprecated in favor of torch.nn.utils.parametrizations.weight_norm.\")\n"
     ]
    },
    {
     "name": "stdout",
     "output_type": "stream",
     "text": [
      "Episode data_0_episode_0 : audio saved to  /work/b0990106x/trl/output/0725-1827/example_save_data_0_episode_0.wav\n"
     ]
    },
    {
     "name": "stderr",
     "output_type": "stream",
     "text": [
      "/home/b0990106x/miniconda3/envs/trl/lib/python3.10/site-packages/librosa/feature/spectral.py:2143: UserWarning: Empty filters detected in mel frequency basis. Some channels will produce empty responses. Try increasing your sampling rate (and fmax) or reducing n_mels.\n",
      "  mel_basis = filters.mel(sr=sr, n_fft=n_fft, **kwargs)\n",
      "\n",
      "\u001b[A/home/b0990106x/miniconda3/envs/trl/lib/python3.10/site-packages/torch/nn/utils/weight_norm.py:28: UserWarning: torch.nn.utils.weight_norm is deprecated in favor of torch.nn.utils.parametrizations.weight_norm.\n",
      "  warnings.warn(\"torch.nn.utils.weight_norm is deprecated in favor of torch.nn.utils.parametrizations.weight_norm.\")\n"
     ]
    },
    {
     "name": "stdout",
     "output_type": "stream",
     "text": [
      "Episode data_0_episode_1 : audio saved to  /work/b0990106x/trl/output/0725-1827/example_save_data_0_episode_1.wav\n"
     ]
    },
    {
     "name": "stderr",
     "output_type": "stream",
     "text": [
      "/home/b0990106x/miniconda3/envs/trl/lib/python3.10/site-packages/librosa/feature/spectral.py:2143: UserWarning: Empty filters detected in mel frequency basis. Some channels will produce empty responses. Try increasing your sampling rate (and fmax) or reducing n_mels.\n",
      "  mel_basis = filters.mel(sr=sr, n_fft=n_fft, **kwargs)\n",
      "\n",
      "\u001b[A/home/b0990106x/miniconda3/envs/trl/lib/python3.10/site-packages/torch/nn/utils/weight_norm.py:28: UserWarning: torch.nn.utils.weight_norm is deprecated in favor of torch.nn.utils.parametrizations.weight_norm.\n",
      "  warnings.warn(\"torch.nn.utils.weight_norm is deprecated in favor of torch.nn.utils.parametrizations.weight_norm.\")\n"
     ]
    },
    {
     "name": "stdout",
     "output_type": "stream",
     "text": [
      "Episode data_0_episode_2 : audio saved to  /work/b0990106x/trl/output/0725-1827/example_save_data_0_episode_2.wav\n"
     ]
    },
    {
     "name": "stderr",
     "output_type": "stream",
     "text": [
      "/home/b0990106x/miniconda3/envs/trl/lib/python3.10/site-packages/librosa/feature/spectral.py:2143: UserWarning: Empty filters detected in mel frequency basis. Some channels will produce empty responses. Try increasing your sampling rate (and fmax) or reducing n_mels.\n",
      "  mel_basis = filters.mel(sr=sr, n_fft=n_fft, **kwargs)\n",
      "\n",
      "\u001b[A/home/b0990106x/miniconda3/envs/trl/lib/python3.10/site-packages/torch/nn/utils/weight_norm.py:28: UserWarning: torch.nn.utils.weight_norm is deprecated in favor of torch.nn.utils.parametrizations.weight_norm.\n",
      "  warnings.warn(\"torch.nn.utils.weight_norm is deprecated in favor of torch.nn.utils.parametrizations.weight_norm.\")\n"
     ]
    },
    {
     "name": "stdout",
     "output_type": "stream",
     "text": [
      "Episode data_0_episode_3 : audio saved to  /work/b0990106x/trl/output/0725-1827/example_save_data_0_episode_3.wav\n"
     ]
    },
    {
     "name": "stderr",
     "output_type": "stream",
     "text": [
      "/home/b0990106x/miniconda3/envs/trl/lib/python3.10/site-packages/librosa/feature/spectral.py:2143: UserWarning: Empty filters detected in mel frequency basis. Some channels will produce empty responses. Try increasing your sampling rate (and fmax) or reducing n_mels.\n",
      "  mel_basis = filters.mel(sr=sr, n_fft=n_fft, **kwargs)\n",
      "\n",
      "\u001b[A/home/b0990106x/miniconda3/envs/trl/lib/python3.10/site-packages/torch/nn/utils/weight_norm.py:28: UserWarning: torch.nn.utils.weight_norm is deprecated in favor of torch.nn.utils.parametrizations.weight_norm.\n",
      "  warnings.warn(\"torch.nn.utils.weight_norm is deprecated in favor of torch.nn.utils.parametrizations.weight_norm.\")\n"
     ]
    },
    {
     "name": "stdout",
     "output_type": "stream",
     "text": [
      "Episode data_0_episode_4 : audio saved to  /work/b0990106x/trl/output/0725-1827/example_save_data_0_episode_4.wav\n"
     ]
    },
    {
     "name": "stderr",
     "output_type": "stream",
     "text": [
      "/home/b0990106x/miniconda3/envs/trl/lib/python3.10/site-packages/librosa/feature/spectral.py:2143: UserWarning: Empty filters detected in mel frequency basis. Some channels will produce empty responses. Try increasing your sampling rate (and fmax) or reducing n_mels.\n",
      "  mel_basis = filters.mel(sr=sr, n_fft=n_fft, **kwargs)\n",
      "\n",
      "\u001b[A/home/b0990106x/miniconda3/envs/trl/lib/python3.10/site-packages/torch/nn/utils/weight_norm.py:28: UserWarning: torch.nn.utils.weight_norm is deprecated in favor of torch.nn.utils.parametrizations.weight_norm.\n",
      "  warnings.warn(\"torch.nn.utils.weight_norm is deprecated in favor of torch.nn.utils.parametrizations.weight_norm.\")\n"
     ]
    },
    {
     "name": "stdout",
     "output_type": "stream",
     "text": [
      "Episode data_0_episode_5 : audio saved to  /work/b0990106x/trl/output/0725-1827/example_save_data_0_episode_5.wav\n"
     ]
    },
    {
     "name": "stderr",
     "output_type": "stream",
     "text": [
      "/home/b0990106x/miniconda3/envs/trl/lib/python3.10/site-packages/librosa/feature/spectral.py:2143: UserWarning: Empty filters detected in mel frequency basis. Some channels will produce empty responses. Try increasing your sampling rate (and fmax) or reducing n_mels.\n",
      "  mel_basis = filters.mel(sr=sr, n_fft=n_fft, **kwargs)\n",
      "\n",
      "\u001b[A/home/b0990106x/miniconda3/envs/trl/lib/python3.10/site-packages/torch/nn/utils/weight_norm.py:28: UserWarning: torch.nn.utils.weight_norm is deprecated in favor of torch.nn.utils.parametrizations.weight_norm.\n",
      "  warnings.warn(\"torch.nn.utils.weight_norm is deprecated in favor of torch.nn.utils.parametrizations.weight_norm.\")\n"
     ]
    },
    {
     "name": "stdout",
     "output_type": "stream",
     "text": [
      "Episode data_0_episode_6 : audio saved to  /work/b0990106x/trl/output/0725-1827/example_save_data_0_episode_6.wav\n"
     ]
    },
    {
     "name": "stderr",
     "output_type": "stream",
     "text": [
      "/home/b0990106x/miniconda3/envs/trl/lib/python3.10/site-packages/librosa/feature/spectral.py:2143: UserWarning: Empty filters detected in mel frequency basis. Some channels will produce empty responses. Try increasing your sampling rate (and fmax) or reducing n_mels.\n",
      "  mel_basis = filters.mel(sr=sr, n_fft=n_fft, **kwargs)\n",
      "\n",
      "\u001b[A/home/b0990106x/miniconda3/envs/trl/lib/python3.10/site-packages/torch/nn/utils/weight_norm.py:28: UserWarning: torch.nn.utils.weight_norm is deprecated in favor of torch.nn.utils.parametrizations.weight_norm.\n",
      "  warnings.warn(\"torch.nn.utils.weight_norm is deprecated in favor of torch.nn.utils.parametrizations.weight_norm.\")\n"
     ]
    },
    {
     "name": "stdout",
     "output_type": "stream",
     "text": [
      "Episode data_0_episode_7 : audio saved to  /work/b0990106x/trl/output/0725-1827/example_save_data_0_episode_7.wav\n"
     ]
    },
    {
     "name": "stderr",
     "output_type": "stream",
     "text": [
      "/home/b0990106x/miniconda3/envs/trl/lib/python3.10/site-packages/librosa/feature/spectral.py:2143: UserWarning: Empty filters detected in mel frequency basis. Some channels will produce empty responses. Try increasing your sampling rate (and fmax) or reducing n_mels.\n",
      "  mel_basis = filters.mel(sr=sr, n_fft=n_fft, **kwargs)\n",
      "\n",
      "\u001b[A/home/b0990106x/miniconda3/envs/trl/lib/python3.10/site-packages/torch/nn/utils/weight_norm.py:28: UserWarning: torch.nn.utils.weight_norm is deprecated in favor of torch.nn.utils.parametrizations.weight_norm.\n",
      "  warnings.warn(\"torch.nn.utils.weight_norm is deprecated in favor of torch.nn.utils.parametrizations.weight_norm.\")\n"
     ]
    },
    {
     "name": "stdout",
     "output_type": "stream",
     "text": [
      "Episode data_0_episode_8 : audio saved to  /work/b0990106x/trl/output/0725-1827/example_save_data_0_episode_8.wav\n"
     ]
    },
    {
     "name": "stderr",
     "output_type": "stream",
     "text": [
      "/home/b0990106x/miniconda3/envs/trl/lib/python3.10/site-packages/librosa/feature/spectral.py:2143: UserWarning: Empty filters detected in mel frequency basis. Some channels will produce empty responses. Try increasing your sampling rate (and fmax) or reducing n_mels.\n",
      "  mel_basis = filters.mel(sr=sr, n_fft=n_fft, **kwargs)\n",
      "\n",
      "\u001b[A/home/b0990106x/miniconda3/envs/trl/lib/python3.10/site-packages/torch/nn/utils/weight_norm.py:28: UserWarning: torch.nn.utils.weight_norm is deprecated in favor of torch.nn.utils.parametrizations.weight_norm.\n",
      "  warnings.warn(\"torch.nn.utils.weight_norm is deprecated in favor of torch.nn.utils.parametrizations.weight_norm.\")\n"
     ]
    },
    {
     "name": "stdout",
     "output_type": "stream",
     "text": [
      "Episode data_0_episode_9 : audio saved to  /work/b0990106x/trl/output/0725-1827/example_save_data_0_episode_9.wav\n"
     ]
    },
    {
     "name": "stderr",
     "output_type": "stream",
     "text": [
      "/home/b0990106x/miniconda3/envs/trl/lib/python3.10/site-packages/librosa/feature/spectral.py:2143: UserWarning: Empty filters detected in mel frequency basis. Some channels will produce empty responses. Try increasing your sampling rate (and fmax) or reducing n_mels.\n",
      "  mel_basis = filters.mel(sr=sr, n_fft=n_fft, **kwargs)\n",
      "\n",
      "Processing Samples: 100%|██████████| 10/10 [00:56<00:00,  5.66s/it]\n",
      "Processing Data: 100%|██████████| 1/1 [00:56<00:00, 56.60s/it]\n",
      "Some weights of the model checkpoint at /work/b0990106x/trl/model_output/0725-1827/iter_0/dpo_model were not used when initializing BartForConditionalGeneration: ['v_head.summary.weight', 'v_head.summary.bias']\n",
      "- This IS expected if you are initializing BartForConditionalGeneration from the checkpoint of a model trained on another task or with another architecture (e.g. initializing a BertForSequenceClassification model from a BertForPreTraining model).\n",
      "- This IS NOT expected if you are initializing BartForConditionalGeneration from the checkpoint of a model that you expect to be exactly identical (initializing a BertForSequenceClassification model from a BertForSequenceClassification model).\n",
      "/work/b0990106x/trl/trl/trainer/dpo_trainer.py:410: UserWarning: When using DPODataCollatorWithPadding, you should set `remove_unused_columns=False` in your TrainingArguments we have set it for you, but you should do it yourself in the future.\n",
      "  warnings.warn(\n",
      "Map: 100%|██████████| 1/1 [00:00<00:00, 126.11 examples/s]\n",
      "Map: 100%|██████████| 1/1 [00:00<00:00, 142.49 examples/s]\n",
      "/home/b0990106x/miniconda3/envs/trl/lib/python3.10/site-packages/transformers/optimization.py:411: FutureWarning: This implementation of AdamW is deprecated and will be removed in a future version. Use the PyTorch implementation torch.optim.AdamW instead, or set `no_deprecation_warning=True` to disable this warning\n",
      "  warnings.warn(\n"
     ]
    },
    {
     "data": {
      "text/html": [
       "\n",
       "    <div>\n",
       "      \n",
       "      <progress value='200' max='200' style='width:300px; height:20px; vertical-align: middle;'></progress>\n",
       "      [200/200 00:39, Epoch 200/200]\n",
       "    </div>\n",
       "    <table border=\"1\" class=\"dataframe\">\n",
       "  <thead>\n",
       " <tr style=\"text-align: left;\">\n",
       "      <th>Step</th>\n",
       "      <th>Training Loss</th>\n",
       "    </tr>\n",
       "  </thead>\n",
       "  <tbody>\n",
       "  </tbody>\n",
       "</table><p>"
      ],
      "text/plain": [
       "<IPython.core.display.HTML object>"
      ]
     },
     "metadata": {},
     "output_type": "display_data"
    },
    {
     "name": "stderr",
     "output_type": "stream",
     "text": [
      "/home/b0990106x/miniconda3/envs/trl/lib/python3.10/site-packages/huggingface_hub/file_download.py:1132: FutureWarning: `resume_download` is deprecated and will be removed in version 1.0.0. Downloads always resume when possible. If you want to force a new download, use `force_download=True`.\n",
      "  warnings.warn(\n",
      "Some weights of the model checkpoint at /work/b0990106x/trl/model_output/0725-1827/iter_1/dpo_model were not used when initializing BartForConditionalGeneration: ['v_head.summary.weight', 'v_head.summary.bias']\n",
      "- This IS expected if you are initializing BartForConditionalGeneration from the checkpoint of a model trained on another task or with another architecture (e.g. initializing a BertForSequenceClassification model from a BertForPreTraining model).\n",
      "- This IS NOT expected if you are initializing BartForConditionalGeneration from the checkpoint of a model that you expect to be exactly identical (initializing a BertForSequenceClassification model from a BertForSequenceClassification model).\n",
      "/home/b0990106x/miniconda3/envs/trl/lib/python3.10/site-packages/torch/nn/utils/weight_norm.py:28: UserWarning: torch.nn.utils.weight_norm is deprecated in favor of torch.nn.utils.parametrizations.weight_norm.\n",
      "  warnings.warn(\"torch.nn.utils.weight_norm is deprecated in favor of torch.nn.utils.parametrizations.weight_norm.\")\n"
     ]
    },
    {
     "name": "stdout",
     "output_type": "stream",
     "text": [
      "Episode eval_1_data_0 : audio saved to  /work/b0990106x/trl/output/0725-1827/example_save_eval_1_data_0.wav\n"
     ]
    },
    {
     "name": "stderr",
     "output_type": "stream",
     "text": [
      "/home/b0990106x/miniconda3/envs/trl/lib/python3.10/site-packages/librosa/feature/spectral.py:2143: UserWarning: Empty filters detected in mel frequency basis. Some channels will produce empty responses. Try increasing your sampling rate (and fmax) or reducing n_mels.\n",
      "  mel_basis = filters.mel(sr=sr, n_fft=n_fft, **kwargs)\n",
      "/home/b0990106x/miniconda3/envs/trl/lib/python3.10/site-packages/torch/nn/utils/weight_norm.py:28: UserWarning: torch.nn.utils.weight_norm is deprecated in favor of torch.nn.utils.parametrizations.weight_norm.\n",
      "  warnings.warn(\"torch.nn.utils.weight_norm is deprecated in favor of torch.nn.utils.parametrizations.weight_norm.\")\n"
     ]
    },
    {
     "name": "stdout",
     "output_type": "stream",
     "text": [
      "Episode eval_1_data_0 : audio saved to  /work/b0990106x/trl/output/0725-1827/example_save_eval_1_data_0.wav\n"
     ]
    },
    {
     "name": "stderr",
     "output_type": "stream",
     "text": [
      "/home/b0990106x/miniconda3/envs/trl/lib/python3.10/site-packages/librosa/feature/spectral.py:2143: UserWarning: Empty filters detected in mel frequency basis. Some channels will produce empty responses. Try increasing your sampling rate (and fmax) or reducing n_mels.\n",
      "  mel_basis = filters.mel(sr=sr, n_fft=n_fft, **kwargs)\n",
      "/home/b0990106x/miniconda3/envs/trl/lib/python3.10/site-packages/torch/nn/utils/weight_norm.py:28: UserWarning: torch.nn.utils.weight_norm is deprecated in favor of torch.nn.utils.parametrizations.weight_norm.\n",
      "  warnings.warn(\"torch.nn.utils.weight_norm is deprecated in favor of torch.nn.utils.parametrizations.weight_norm.\")\n"
     ]
    },
    {
     "name": "stdout",
     "output_type": "stream",
     "text": [
      "Episode eval_1_data_0 : audio saved to  /work/b0990106x/trl/output/0725-1827/example_save_eval_1_data_0.wav\n"
     ]
    },
    {
     "name": "stderr",
     "output_type": "stream",
     "text": [
      "/home/b0990106x/miniconda3/envs/trl/lib/python3.10/site-packages/librosa/feature/spectral.py:2143: UserWarning: Empty filters detected in mel frequency basis. Some channels will produce empty responses. Try increasing your sampling rate (and fmax) or reducing n_mels.\n",
      "  mel_basis = filters.mel(sr=sr, n_fft=n_fft, **kwargs)\n",
      "/home/b0990106x/miniconda3/envs/trl/lib/python3.10/site-packages/torch/nn/utils/weight_norm.py:28: UserWarning: torch.nn.utils.weight_norm is deprecated in favor of torch.nn.utils.parametrizations.weight_norm.\n",
      "  warnings.warn(\"torch.nn.utils.weight_norm is deprecated in favor of torch.nn.utils.parametrizations.weight_norm.\")\n"
     ]
    },
    {
     "name": "stdout",
     "output_type": "stream",
     "text": [
      "Episode eval_1_data_0 : audio saved to  /work/b0990106x/trl/output/0725-1827/example_save_eval_1_data_0.wav\n"
     ]
    },
    {
     "name": "stderr",
     "output_type": "stream",
     "text": [
      "/home/b0990106x/miniconda3/envs/trl/lib/python3.10/site-packages/librosa/feature/spectral.py:2143: UserWarning: Empty filters detected in mel frequency basis. Some channels will produce empty responses. Try increasing your sampling rate (and fmax) or reducing n_mels.\n",
      "  mel_basis = filters.mel(sr=sr, n_fft=n_fft, **kwargs)\n",
      "/home/b0990106x/miniconda3/envs/trl/lib/python3.10/site-packages/torch/nn/utils/weight_norm.py:28: UserWarning: torch.nn.utils.weight_norm is deprecated in favor of torch.nn.utils.parametrizations.weight_norm.\n",
      "  warnings.warn(\"torch.nn.utils.weight_norm is deprecated in favor of torch.nn.utils.parametrizations.weight_norm.\")\n"
     ]
    },
    {
     "name": "stdout",
     "output_type": "stream",
     "text": [
      "Episode eval_1_data_0 : audio saved to  /work/b0990106x/trl/output/0725-1827/example_save_eval_1_data_0.wav\n"
     ]
    },
    {
     "name": "stderr",
     "output_type": "stream",
     "text": [
      "/home/b0990106x/miniconda3/envs/trl/lib/python3.10/site-packages/librosa/feature/spectral.py:2143: UserWarning: Empty filters detected in mel frequency basis. Some channels will produce empty responses. Try increasing your sampling rate (and fmax) or reducing n_mels.\n",
      "  mel_basis = filters.mel(sr=sr, n_fft=n_fft, **kwargs)\n",
      "/home/b0990106x/miniconda3/envs/trl/lib/python3.10/site-packages/torch/nn/utils/weight_norm.py:28: UserWarning: torch.nn.utils.weight_norm is deprecated in favor of torch.nn.utils.parametrizations.weight_norm.\n",
      "  warnings.warn(\"torch.nn.utils.weight_norm is deprecated in favor of torch.nn.utils.parametrizations.weight_norm.\")\n"
     ]
    },
    {
     "name": "stdout",
     "output_type": "stream",
     "text": [
      "Episode eval_1_data_0 : audio saved to  /work/b0990106x/trl/output/0725-1827/example_save_eval_1_data_0.wav\n"
     ]
    },
    {
     "name": "stderr",
     "output_type": "stream",
     "text": [
      "/home/b0990106x/miniconda3/envs/trl/lib/python3.10/site-packages/librosa/feature/spectral.py:2143: UserWarning: Empty filters detected in mel frequency basis. Some channels will produce empty responses. Try increasing your sampling rate (and fmax) or reducing n_mels.\n",
      "  mel_basis = filters.mel(sr=sr, n_fft=n_fft, **kwargs)\n",
      "/home/b0990106x/miniconda3/envs/trl/lib/python3.10/site-packages/torch/nn/utils/weight_norm.py:28: UserWarning: torch.nn.utils.weight_norm is deprecated in favor of torch.nn.utils.parametrizations.weight_norm.\n",
      "  warnings.warn(\"torch.nn.utils.weight_norm is deprecated in favor of torch.nn.utils.parametrizations.weight_norm.\")\n"
     ]
    },
    {
     "name": "stdout",
     "output_type": "stream",
     "text": [
      "Episode eval_1_data_0 : audio saved to  /work/b0990106x/trl/output/0725-1827/example_save_eval_1_data_0.wav\n"
     ]
    },
    {
     "name": "stderr",
     "output_type": "stream",
     "text": [
      "/home/b0990106x/miniconda3/envs/trl/lib/python3.10/site-packages/librosa/feature/spectral.py:2143: UserWarning: Empty filters detected in mel frequency basis. Some channels will produce empty responses. Try increasing your sampling rate (and fmax) or reducing n_mels.\n",
      "  mel_basis = filters.mel(sr=sr, n_fft=n_fft, **kwargs)\n",
      "/home/b0990106x/miniconda3/envs/trl/lib/python3.10/site-packages/torch/nn/utils/weight_norm.py:28: UserWarning: torch.nn.utils.weight_norm is deprecated in favor of torch.nn.utils.parametrizations.weight_norm.\n",
      "  warnings.warn(\"torch.nn.utils.weight_norm is deprecated in favor of torch.nn.utils.parametrizations.weight_norm.\")\n"
     ]
    },
    {
     "name": "stdout",
     "output_type": "stream",
     "text": [
      "Episode eval_1_data_0 : audio saved to  /work/b0990106x/trl/output/0725-1827/example_save_eval_1_data_0.wav\n"
     ]
    },
    {
     "name": "stderr",
     "output_type": "stream",
     "text": [
      "/home/b0990106x/miniconda3/envs/trl/lib/python3.10/site-packages/librosa/feature/spectral.py:2143: UserWarning: Empty filters detected in mel frequency basis. Some channels will produce empty responses. Try increasing your sampling rate (and fmax) or reducing n_mels.\n",
      "  mel_basis = filters.mel(sr=sr, n_fft=n_fft, **kwargs)\n",
      "/home/b0990106x/miniconda3/envs/trl/lib/python3.10/site-packages/torch/nn/utils/weight_norm.py:28: UserWarning: torch.nn.utils.weight_norm is deprecated in favor of torch.nn.utils.parametrizations.weight_norm.\n",
      "  warnings.warn(\"torch.nn.utils.weight_norm is deprecated in favor of torch.nn.utils.parametrizations.weight_norm.\")\n"
     ]
    },
    {
     "name": "stdout",
     "output_type": "stream",
     "text": [
      "Episode eval_1_data_0 : audio saved to  /work/b0990106x/trl/output/0725-1827/example_save_eval_1_data_0.wav\n"
     ]
    },
    {
     "name": "stderr",
     "output_type": "stream",
     "text": [
      "/home/b0990106x/miniconda3/envs/trl/lib/python3.10/site-packages/librosa/feature/spectral.py:2143: UserWarning: Empty filters detected in mel frequency basis. Some channels will produce empty responses. Try increasing your sampling rate (and fmax) or reducing n_mels.\n",
      "  mel_basis = filters.mel(sr=sr, n_fft=n_fft, **kwargs)\n",
      "/home/b0990106x/miniconda3/envs/trl/lib/python3.10/site-packages/torch/nn/utils/weight_norm.py:28: UserWarning: torch.nn.utils.weight_norm is deprecated in favor of torch.nn.utils.parametrizations.weight_norm.\n",
      "  warnings.warn(\"torch.nn.utils.weight_norm is deprecated in favor of torch.nn.utils.parametrizations.weight_norm.\")\n"
     ]
    },
    {
     "name": "stdout",
     "output_type": "stream",
     "text": [
      "Episode eval_1_data_0 : audio saved to  /work/b0990106x/trl/output/0725-1827/example_save_eval_1_data_0.wav\n"
     ]
    },
    {
     "name": "stderr",
     "output_type": "stream",
     "text": [
      "/home/b0990106x/miniconda3/envs/trl/lib/python3.10/site-packages/librosa/feature/spectral.py:2143: UserWarning: Empty filters detected in mel frequency basis. Some channels will produce empty responses. Try increasing your sampling rate (and fmax) or reducing n_mels.\n",
      "  mel_basis = filters.mel(sr=sr, n_fft=n_fft, **kwargs)\n",
      "Training Iterations:  10%|█         | 2/20 [06:13<56:29, 188.29s/it]Some weights of the model checkpoint at /work/b0990106x/trl/model_output/0725-1827/iter_1/dpo_model were not used when initializing BartForConditionalGeneration: ['v_head.summary.weight', 'v_head.summary.bias']\n",
      "- This IS expected if you are initializing BartForConditionalGeneration from the checkpoint of a model trained on another task or with another architecture (e.g. initializing a BertForSequenceClassification model from a BertForPreTraining model).\n",
      "- This IS NOT expected if you are initializing BartForConditionalGeneration from the checkpoint of a model that you expect to be exactly identical (initializing a BertForSequenceClassification model from a BertForSequenceClassification model).\n",
      "/home/b0990106x/miniconda3/envs/trl/lib/python3.10/site-packages/huggingface_hub/file_download.py:1132: FutureWarning: `resume_download` is deprecated and will be removed in version 1.0.0. Downloads always resume when possible. If you want to force a new download, use `force_download=True`.\n",
      "  warnings.warn(\n",
      "\n",
      "\u001b[A/home/b0990106x/miniconda3/envs/trl/lib/python3.10/site-packages/torch/nn/utils/weight_norm.py:28: UserWarning: torch.nn.utils.weight_norm is deprecated in favor of torch.nn.utils.parametrizations.weight_norm.\n",
      "  warnings.warn(\"torch.nn.utils.weight_norm is deprecated in favor of torch.nn.utils.parametrizations.weight_norm.\")\n"
     ]
    },
    {
     "name": "stdout",
     "output_type": "stream",
     "text": [
      "Episode data_0_episode_0 : audio saved to  /work/b0990106x/trl/output/0725-1827/example_save_data_0_episode_0.wav\n"
     ]
    },
    {
     "name": "stderr",
     "output_type": "stream",
     "text": [
      "/home/b0990106x/miniconda3/envs/trl/lib/python3.10/site-packages/librosa/feature/spectral.py:2143: UserWarning: Empty filters detected in mel frequency basis. Some channels will produce empty responses. Try increasing your sampling rate (and fmax) or reducing n_mels.\n",
      "  mel_basis = filters.mel(sr=sr, n_fft=n_fft, **kwargs)\n",
      "\n",
      "\u001b[A/home/b0990106x/miniconda3/envs/trl/lib/python3.10/site-packages/torch/nn/utils/weight_norm.py:28: UserWarning: torch.nn.utils.weight_norm is deprecated in favor of torch.nn.utils.parametrizations.weight_norm.\n",
      "  warnings.warn(\"torch.nn.utils.weight_norm is deprecated in favor of torch.nn.utils.parametrizations.weight_norm.\")\n"
     ]
    },
    {
     "name": "stdout",
     "output_type": "stream",
     "text": [
      "Episode data_0_episode_1 : audio saved to  /work/b0990106x/trl/output/0725-1827/example_save_data_0_episode_1.wav\n"
     ]
    },
    {
     "name": "stderr",
     "output_type": "stream",
     "text": [
      "/home/b0990106x/miniconda3/envs/trl/lib/python3.10/site-packages/librosa/feature/spectral.py:2143: UserWarning: Empty filters detected in mel frequency basis. Some channels will produce empty responses. Try increasing your sampling rate (and fmax) or reducing n_mels.\n",
      "  mel_basis = filters.mel(sr=sr, n_fft=n_fft, **kwargs)\n",
      "\n",
      "\u001b[A/home/b0990106x/miniconda3/envs/trl/lib/python3.10/site-packages/torch/nn/utils/weight_norm.py:28: UserWarning: torch.nn.utils.weight_norm is deprecated in favor of torch.nn.utils.parametrizations.weight_norm.\n",
      "  warnings.warn(\"torch.nn.utils.weight_norm is deprecated in favor of torch.nn.utils.parametrizations.weight_norm.\")\n"
     ]
    },
    {
     "name": "stdout",
     "output_type": "stream",
     "text": [
      "Episode data_0_episode_2 : audio saved to  /work/b0990106x/trl/output/0725-1827/example_save_data_0_episode_2.wav\n"
     ]
    },
    {
     "name": "stderr",
     "output_type": "stream",
     "text": [
      "/home/b0990106x/miniconda3/envs/trl/lib/python3.10/site-packages/librosa/feature/spectral.py:2143: UserWarning: Empty filters detected in mel frequency basis. Some channels will produce empty responses. Try increasing your sampling rate (and fmax) or reducing n_mels.\n",
      "  mel_basis = filters.mel(sr=sr, n_fft=n_fft, **kwargs)\n",
      "\n",
      "\u001b[A/home/b0990106x/miniconda3/envs/trl/lib/python3.10/site-packages/torch/nn/utils/weight_norm.py:28: UserWarning: torch.nn.utils.weight_norm is deprecated in favor of torch.nn.utils.parametrizations.weight_norm.\n",
      "  warnings.warn(\"torch.nn.utils.weight_norm is deprecated in favor of torch.nn.utils.parametrizations.weight_norm.\")\n"
     ]
    },
    {
     "name": "stdout",
     "output_type": "stream",
     "text": [
      "Episode data_0_episode_3 : audio saved to  /work/b0990106x/trl/output/0725-1827/example_save_data_0_episode_3.wav\n"
     ]
    },
    {
     "name": "stderr",
     "output_type": "stream",
     "text": [
      "/home/b0990106x/miniconda3/envs/trl/lib/python3.10/site-packages/librosa/feature/spectral.py:2143: UserWarning: Empty filters detected in mel frequency basis. Some channels will produce empty responses. Try increasing your sampling rate (and fmax) or reducing n_mels.\n",
      "  mel_basis = filters.mel(sr=sr, n_fft=n_fft, **kwargs)\n",
      "\n",
      "\u001b[A/home/b0990106x/miniconda3/envs/trl/lib/python3.10/site-packages/torch/nn/utils/weight_norm.py:28: UserWarning: torch.nn.utils.weight_norm is deprecated in favor of torch.nn.utils.parametrizations.weight_norm.\n",
      "  warnings.warn(\"torch.nn.utils.weight_norm is deprecated in favor of torch.nn.utils.parametrizations.weight_norm.\")\n"
     ]
    },
    {
     "name": "stdout",
     "output_type": "stream",
     "text": [
      "Episode data_0_episode_4 : audio saved to  /work/b0990106x/trl/output/0725-1827/example_save_data_0_episode_4.wav\n"
     ]
    },
    {
     "name": "stderr",
     "output_type": "stream",
     "text": [
      "/home/b0990106x/miniconda3/envs/trl/lib/python3.10/site-packages/librosa/feature/spectral.py:2143: UserWarning: Empty filters detected in mel frequency basis. Some channels will produce empty responses. Try increasing your sampling rate (and fmax) or reducing n_mels.\n",
      "  mel_basis = filters.mel(sr=sr, n_fft=n_fft, **kwargs)\n",
      "\n",
      "\u001b[A/home/b0990106x/miniconda3/envs/trl/lib/python3.10/site-packages/torch/nn/utils/weight_norm.py:28: UserWarning: torch.nn.utils.weight_norm is deprecated in favor of torch.nn.utils.parametrizations.weight_norm.\n",
      "  warnings.warn(\"torch.nn.utils.weight_norm is deprecated in favor of torch.nn.utils.parametrizations.weight_norm.\")\n"
     ]
    },
    {
     "name": "stdout",
     "output_type": "stream",
     "text": [
      "Episode data_0_episode_5 : audio saved to  /work/b0990106x/trl/output/0725-1827/example_save_data_0_episode_5.wav\n"
     ]
    },
    {
     "name": "stderr",
     "output_type": "stream",
     "text": [
      "/home/b0990106x/miniconda3/envs/trl/lib/python3.10/site-packages/librosa/feature/spectral.py:2143: UserWarning: Empty filters detected in mel frequency basis. Some channels will produce empty responses. Try increasing your sampling rate (and fmax) or reducing n_mels.\n",
      "  mel_basis = filters.mel(sr=sr, n_fft=n_fft, **kwargs)\n",
      "\n",
      "\u001b[A/home/b0990106x/miniconda3/envs/trl/lib/python3.10/site-packages/torch/nn/utils/weight_norm.py:28: UserWarning: torch.nn.utils.weight_norm is deprecated in favor of torch.nn.utils.parametrizations.weight_norm.\n",
      "  warnings.warn(\"torch.nn.utils.weight_norm is deprecated in favor of torch.nn.utils.parametrizations.weight_norm.\")\n"
     ]
    },
    {
     "name": "stdout",
     "output_type": "stream",
     "text": [
      "Episode data_0_episode_6 : audio saved to  /work/b0990106x/trl/output/0725-1827/example_save_data_0_episode_6.wav\n"
     ]
    },
    {
     "name": "stderr",
     "output_type": "stream",
     "text": [
      "/home/b0990106x/miniconda3/envs/trl/lib/python3.10/site-packages/librosa/feature/spectral.py:2143: UserWarning: Empty filters detected in mel frequency basis. Some channels will produce empty responses. Try increasing your sampling rate (and fmax) or reducing n_mels.\n",
      "  mel_basis = filters.mel(sr=sr, n_fft=n_fft, **kwargs)\n",
      "\n",
      "\u001b[A/home/b0990106x/miniconda3/envs/trl/lib/python3.10/site-packages/torch/nn/utils/weight_norm.py:28: UserWarning: torch.nn.utils.weight_norm is deprecated in favor of torch.nn.utils.parametrizations.weight_norm.\n",
      "  warnings.warn(\"torch.nn.utils.weight_norm is deprecated in favor of torch.nn.utils.parametrizations.weight_norm.\")\n"
     ]
    },
    {
     "name": "stdout",
     "output_type": "stream",
     "text": [
      "Episode data_0_episode_7 : audio saved to  /work/b0990106x/trl/output/0725-1827/example_save_data_0_episode_7.wav\n"
     ]
    },
    {
     "name": "stderr",
     "output_type": "stream",
     "text": [
      "/home/b0990106x/miniconda3/envs/trl/lib/python3.10/site-packages/librosa/feature/spectral.py:2143: UserWarning: Empty filters detected in mel frequency basis. Some channels will produce empty responses. Try increasing your sampling rate (and fmax) or reducing n_mels.\n",
      "  mel_basis = filters.mel(sr=sr, n_fft=n_fft, **kwargs)\n",
      "\n",
      "\u001b[A/home/b0990106x/miniconda3/envs/trl/lib/python3.10/site-packages/torch/nn/utils/weight_norm.py:28: UserWarning: torch.nn.utils.weight_norm is deprecated in favor of torch.nn.utils.parametrizations.weight_norm.\n",
      "  warnings.warn(\"torch.nn.utils.weight_norm is deprecated in favor of torch.nn.utils.parametrizations.weight_norm.\")\n"
     ]
    },
    {
     "name": "stdout",
     "output_type": "stream",
     "text": [
      "Episode data_0_episode_8 : audio saved to  /work/b0990106x/trl/output/0725-1827/example_save_data_0_episode_8.wav\n"
     ]
    },
    {
     "name": "stderr",
     "output_type": "stream",
     "text": [
      "/home/b0990106x/miniconda3/envs/trl/lib/python3.10/site-packages/librosa/feature/spectral.py:2143: UserWarning: Empty filters detected in mel frequency basis. Some channels will produce empty responses. Try increasing your sampling rate (and fmax) or reducing n_mels.\n",
      "  mel_basis = filters.mel(sr=sr, n_fft=n_fft, **kwargs)\n",
      "\n",
      "\u001b[A/home/b0990106x/miniconda3/envs/trl/lib/python3.10/site-packages/torch/nn/utils/weight_norm.py:28: UserWarning: torch.nn.utils.weight_norm is deprecated in favor of torch.nn.utils.parametrizations.weight_norm.\n",
      "  warnings.warn(\"torch.nn.utils.weight_norm is deprecated in favor of torch.nn.utils.parametrizations.weight_norm.\")\n"
     ]
    },
    {
     "name": "stdout",
     "output_type": "stream",
     "text": [
      "Episode data_0_episode_9 : audio saved to  /work/b0990106x/trl/output/0725-1827/example_save_data_0_episode_9.wav\n"
     ]
    },
    {
     "name": "stderr",
     "output_type": "stream",
     "text": [
      "/home/b0990106x/miniconda3/envs/trl/lib/python3.10/site-packages/librosa/feature/spectral.py:2143: UserWarning: Empty filters detected in mel frequency basis. Some channels will produce empty responses. Try increasing your sampling rate (and fmax) or reducing n_mels.\n",
      "  mel_basis = filters.mel(sr=sr, n_fft=n_fft, **kwargs)\n",
      "\n",
      "Processing Samples: 100%|██████████| 10/10 [01:15<00:00,  7.50s/it]\n",
      "Processing Data: 100%|██████████| 1/1 [01:15<00:00, 75.03s/it]\n",
      "Some weights of the model checkpoint at /work/b0990106x/trl/model_output/0725-1827/iter_1/dpo_model were not used when initializing BartForConditionalGeneration: ['v_head.summary.weight', 'v_head.summary.bias']\n",
      "- This IS expected if you are initializing BartForConditionalGeneration from the checkpoint of a model trained on another task or with another architecture (e.g. initializing a BertForSequenceClassification model from a BertForPreTraining model).\n",
      "- This IS NOT expected if you are initializing BartForConditionalGeneration from the checkpoint of a model that you expect to be exactly identical (initializing a BertForSequenceClassification model from a BertForSequenceClassification model).\n",
      "/work/b0990106x/trl/trl/trainer/dpo_trainer.py:410: UserWarning: When using DPODataCollatorWithPadding, you should set `remove_unused_columns=False` in your TrainingArguments we have set it for you, but you should do it yourself in the future.\n",
      "  warnings.warn(\n",
      "Map: 100%|██████████| 1/1 [00:00<00:00, 84.26 examples/s]\n",
      "Map: 100%|██████████| 1/1 [00:00<00:00, 106.19 examples/s]\n",
      "/home/b0990106x/miniconda3/envs/trl/lib/python3.10/site-packages/transformers/optimization.py:411: FutureWarning: This implementation of AdamW is deprecated and will be removed in a future version. Use the PyTorch implementation torch.optim.AdamW instead, or set `no_deprecation_warning=True` to disable this warning\n",
      "  warnings.warn(\n"
     ]
    },
    {
     "data": {
      "text/html": [
       "\n",
       "    <div>\n",
       "      \n",
       "      <progress value='200' max='200' style='width:300px; height:20px; vertical-align: middle;'></progress>\n",
       "      [200/200 00:48, Epoch 200/200]\n",
       "    </div>\n",
       "    <table border=\"1\" class=\"dataframe\">\n",
       "  <thead>\n",
       " <tr style=\"text-align: left;\">\n",
       "      <th>Step</th>\n",
       "      <th>Training Loss</th>\n",
       "    </tr>\n",
       "  </thead>\n",
       "  <tbody>\n",
       "  </tbody>\n",
       "</table><p>"
      ],
      "text/plain": [
       "<IPython.core.display.HTML object>"
      ]
     },
     "metadata": {},
     "output_type": "display_data"
    },
    {
     "name": "stderr",
     "output_type": "stream",
     "text": [
      "/home/b0990106x/miniconda3/envs/trl/lib/python3.10/site-packages/huggingface_hub/file_download.py:1132: FutureWarning: `resume_download` is deprecated and will be removed in version 1.0.0. Downloads always resume when possible. If you want to force a new download, use `force_download=True`.\n",
      "  warnings.warn(\n",
      "Some weights of the model checkpoint at /work/b0990106x/trl/model_output/0725-1827/iter_2/dpo_model were not used when initializing BartForConditionalGeneration: ['v_head.summary.weight', 'v_head.summary.bias']\n",
      "- This IS expected if you are initializing BartForConditionalGeneration from the checkpoint of a model trained on another task or with another architecture (e.g. initializing a BertForSequenceClassification model from a BertForPreTraining model).\n",
      "- This IS NOT expected if you are initializing BartForConditionalGeneration from the checkpoint of a model that you expect to be exactly identical (initializing a BertForSequenceClassification model from a BertForSequenceClassification model).\n",
      "/home/b0990106x/miniconda3/envs/trl/lib/python3.10/site-packages/torch/nn/utils/weight_norm.py:28: UserWarning: torch.nn.utils.weight_norm is deprecated in favor of torch.nn.utils.parametrizations.weight_norm.\n",
      "  warnings.warn(\"torch.nn.utils.weight_norm is deprecated in favor of torch.nn.utils.parametrizations.weight_norm.\")\n"
     ]
    },
    {
     "name": "stdout",
     "output_type": "stream",
     "text": [
      "Episode eval_2_data_0 : audio saved to  /work/b0990106x/trl/output/0725-1827/example_save_eval_2_data_0.wav\n"
     ]
    },
    {
     "name": "stderr",
     "output_type": "stream",
     "text": [
      "/home/b0990106x/miniconda3/envs/trl/lib/python3.10/site-packages/librosa/feature/spectral.py:2143: UserWarning: Empty filters detected in mel frequency basis. Some channels will produce empty responses. Try increasing your sampling rate (and fmax) or reducing n_mels.\n",
      "  mel_basis = filters.mel(sr=sr, n_fft=n_fft, **kwargs)\n",
      "/home/b0990106x/miniconda3/envs/trl/lib/python3.10/site-packages/torch/nn/utils/weight_norm.py:28: UserWarning: torch.nn.utils.weight_norm is deprecated in favor of torch.nn.utils.parametrizations.weight_norm.\n",
      "  warnings.warn(\"torch.nn.utils.weight_norm is deprecated in favor of torch.nn.utils.parametrizations.weight_norm.\")\n"
     ]
    },
    {
     "name": "stdout",
     "output_type": "stream",
     "text": [
      "Episode eval_2_data_0 : audio saved to  /work/b0990106x/trl/output/0725-1827/example_save_eval_2_data_0.wav\n"
     ]
    },
    {
     "name": "stderr",
     "output_type": "stream",
     "text": [
      "/home/b0990106x/miniconda3/envs/trl/lib/python3.10/site-packages/librosa/feature/spectral.py:2143: UserWarning: Empty filters detected in mel frequency basis. Some channels will produce empty responses. Try increasing your sampling rate (and fmax) or reducing n_mels.\n",
      "  mel_basis = filters.mel(sr=sr, n_fft=n_fft, **kwargs)\n",
      "/home/b0990106x/miniconda3/envs/trl/lib/python3.10/site-packages/torch/nn/utils/weight_norm.py:28: UserWarning: torch.nn.utils.weight_norm is deprecated in favor of torch.nn.utils.parametrizations.weight_norm.\n",
      "  warnings.warn(\"torch.nn.utils.weight_norm is deprecated in favor of torch.nn.utils.parametrizations.weight_norm.\")\n"
     ]
    },
    {
     "name": "stdout",
     "output_type": "stream",
     "text": [
      "Episode eval_2_data_0 : audio saved to  /work/b0990106x/trl/output/0725-1827/example_save_eval_2_data_0.wav\n"
     ]
    },
    {
     "name": "stderr",
     "output_type": "stream",
     "text": [
      "/home/b0990106x/miniconda3/envs/trl/lib/python3.10/site-packages/librosa/feature/spectral.py:2143: UserWarning: Empty filters detected in mel frequency basis. Some channels will produce empty responses. Try increasing your sampling rate (and fmax) or reducing n_mels.\n",
      "  mel_basis = filters.mel(sr=sr, n_fft=n_fft, **kwargs)\n",
      "/home/b0990106x/miniconda3/envs/trl/lib/python3.10/site-packages/torch/nn/utils/weight_norm.py:28: UserWarning: torch.nn.utils.weight_norm is deprecated in favor of torch.nn.utils.parametrizations.weight_norm.\n",
      "  warnings.warn(\"torch.nn.utils.weight_norm is deprecated in favor of torch.nn.utils.parametrizations.weight_norm.\")\n"
     ]
    },
    {
     "name": "stdout",
     "output_type": "stream",
     "text": [
      "Episode eval_2_data_0 : audio saved to  /work/b0990106x/trl/output/0725-1827/example_save_eval_2_data_0.wav\n"
     ]
    },
    {
     "name": "stderr",
     "output_type": "stream",
     "text": [
      "/home/b0990106x/miniconda3/envs/trl/lib/python3.10/site-packages/librosa/feature/spectral.py:2143: UserWarning: Empty filters detected in mel frequency basis. Some channels will produce empty responses. Try increasing your sampling rate (and fmax) or reducing n_mels.\n",
      "  mel_basis = filters.mel(sr=sr, n_fft=n_fft, **kwargs)\n",
      "/home/b0990106x/miniconda3/envs/trl/lib/python3.10/site-packages/torch/nn/utils/weight_norm.py:28: UserWarning: torch.nn.utils.weight_norm is deprecated in favor of torch.nn.utils.parametrizations.weight_norm.\n",
      "  warnings.warn(\"torch.nn.utils.weight_norm is deprecated in favor of torch.nn.utils.parametrizations.weight_norm.\")\n"
     ]
    },
    {
     "name": "stdout",
     "output_type": "stream",
     "text": [
      "Episode eval_2_data_0 : audio saved to  /work/b0990106x/trl/output/0725-1827/example_save_eval_2_data_0.wav\n"
     ]
    },
    {
     "name": "stderr",
     "output_type": "stream",
     "text": [
      "/home/b0990106x/miniconda3/envs/trl/lib/python3.10/site-packages/librosa/feature/spectral.py:2143: UserWarning: Empty filters detected in mel frequency basis. Some channels will produce empty responses. Try increasing your sampling rate (and fmax) or reducing n_mels.\n",
      "  mel_basis = filters.mel(sr=sr, n_fft=n_fft, **kwargs)\n"
     ]
    }
   ],
   "source": [
    "import logging\n",
    "# Set up logging\n",
    "logging.basicConfig(\n",
    "    filename=f'{model_output_dir}/log_training.log', \n",
    "    filemode='a', \n",
    "    format='%(asctime)s - %(levelname)s - %(message)s', \n",
    "    level=logging.INFO\n",
    ")\n",
    "\n",
    "logging.info(f\"Parameters:\")\n",
    "logging.info(f\"num_iterations: {num_iterations}\")\n",
    "logging.info(f\"data_size_per_iteration: {data_size_per_iteration}\")\n",
    "logging.info(f\"sample_size: {sample_size}\")\n",
    "logging.info(f\"beta: {beta}\")\n",
    "logging.info(f\"timestep: {ts}\")\n",
    "\n",
    "# Start time\n",
    "total_start_time = time.time()\n",
    "\n",
    "original_model_metrics, original_model_rewards = eval_dpo_mos(ar_checkpoint=ar_checkpoint,\n",
    "                                                                nar_checkpoint=nar_checkpoint,\n",
    "                                                                trained_model_checkpoint=ar_checkpoint, # original model\n",
    "                                                                all_src_encodec=all_src_encodec,\n",
    "                                                                all_instruction=all_instruction,\n",
    "                                                                eval_data_len=eval_data_len,\n",
    "                                                                selected_indices=eval_selected_indices,\n",
    "                                                                device=device,\n",
    "                                                                iteration = -1,\n",
    "                                                                args_predict=args_predict)\n",
    "\n",
    "logging.info(f\"Original model metrics: {original_model_metrics}\")\n",
    "logging.info(f\"Original model rewards: {original_model_rewards}\")\n",
    "\n",
    "for iteration in tqdm(range(num_iterations), desc=\"Training Iterations\"):\n",
    "    # if iteration == 0:\n",
    "    #     start_idx = 0\n",
    "    #     end_idx = initial_data_size\n",
    "    # else:\n",
    "    #     start_idx = initial_data_size + (iteration - 1) * data_size_per_iteration\n",
    "    #     end_idx = start_idx + data_size_per_iteration\n",
    "    \n",
    "    start_idx = 0\n",
    "    end_idx = data_size_per_iteration\n",
    "\n",
    "    batch_src_encodec = all_src_encodec[start_idx:end_idx] # select 'data_size_per_iteration' datas\n",
    "    batch_instruction = all_instruction[start_idx:end_idx]\n",
    "    resume = iteration > 0 # resume from the previous checkpoint when iteration > 0\n",
    "\n",
    "    logging.info(f\"Starting iteration {iteration}\")\n",
    "    logging.info(f\"Processing data from index {start_idx} to {end_idx}\")\n",
    "    \n",
    "    # model_checkpoint is the model checkpoint from the previous iteration\n",
    "    # chosen_rewards and rejected_rewards are the rewards of the data\n",
    "    model_checkpoint, chosen_rewards, rejected_rewards = train_iteration(model_checkpoint=model_checkpoint,\n",
    "                                       iteration=iteration,\n",
    "                                       data_size=data_size_per_iteration,\n",
    "                                       sample_size=sample_size,\n",
    "                                       ar_checkpoint=ar_checkpoint,\n",
    "                                       nar_checkpoint=nar_checkpoint,\n",
    "                                       all_src_encodec=batch_src_encodec,\n",
    "                                       all_instruction=batch_instruction,\n",
    "                                       args_predict=args_predict,\n",
    "                                       agent_output_dir=agent_output_dir,\n",
    "                                       model_output_dir_base=model_output_dir,\n",
    "                                       temperature = 1.0,\n",
    "                                       beta=beta,\n",
    "                                       base_path=base_path,\n",
    "                                       resume_from_checkpoint=resume)\n",
    "    \n",
    "    \n",
    "    logging.info(f\"Chosen rewards for iteration {iteration}: {chosen_rewards}\")\n",
    "    logging.info(f\"Rejected rewards for iteration {iteration}: {rejected_rewards}\")\n",
    "    logging.info(f\"Finished training iteration {iteration}\")\n",
    "\n",
    "    # Evaluate the result of the current iteration\n",
    "    trained_model_metrics, trained_model_rewards = eval_dpo_mos(ar_checkpoint=ar_checkpoint,\n",
    "                                                                nar_checkpoint=nar_checkpoint,\n",
    "                                                                trained_model_checkpoint=model_checkpoint,\n",
    "                                                                all_src_encodec=all_src_encodec,\n",
    "                                                                all_instruction=all_instruction,\n",
    "                                                                eval_data_len=eval_data_len,\n",
    "                                                                selected_indices=eval_selected_indices,\n",
    "                                                                device=device,\n",
    "                                                                iteration = iteration,\n",
    "                                                                args_predict=args_predict)\n",
    "    \n",
    "    logging.info(f\"Evaluation metrics for iteration {iteration}: {trained_model_metrics}\")\n",
    "    logging.info(f\"Evaluation rewards for iteration {iteration}: {trained_model_rewards}\")\n",
    "\n",
    "total_end_time = time.time()\n",
    "\n",
    "# Calculate total time taken\n",
    "total_time_taken = total_end_time - total_start_time\n",
    "logging.info(f\"Total time taken for the entire process: {total_time_taken:.2f} seconds\")"
   ]
  }
 ],
 "metadata": {
  "kernelspec": {
   "display_name": "trl",
   "language": "python",
   "name": "python3"
  },
  "language_info": {
   "codemirror_mode": {
    "name": "ipython",
    "version": 3
   },
   "file_extension": ".py",
   "mimetype": "text/x-python",
   "name": "python",
   "nbconvert_exporter": "python",
   "pygments_lexer": "ipython3",
   "version": "3.10.14"
  }
 },
 "nbformat": 4,
 "nbformat_minor": 2
}
